{
  "nbformat": 4,
  "nbformat_minor": 0,
  "metadata": {
    "colab": {
      "provenance": [],
      "authorship_tag": "ABX9TyMG2jWHql1QCqBb5fYibgQo",
      "include_colab_link": true
    },
    "kernelspec": {
      "name": "python3",
      "display_name": "Python 3"
    },
    "language_info": {
      "name": "python"
    }
  },
  "cells": [
    {
      "cell_type": "markdown",
      "metadata": {
        "id": "view-in-github",
        "colab_type": "text"
      },
      "source": [
        "<a href=\"https://colab.research.google.com/github/ivavuko/ivasphd/blob/main/Amplified_and_attenuated_dictionary_implementation.ipynb\" target=\"_parent\"><img src=\"https://colab.research.google.com/assets/colab-badge.svg\" alt=\"Open In Colab\"/></a>"
      ]
    },
    {
      "cell_type": "code",
      "source": [
        "import pandas as pd\n",
        "import re\n",
        "import requests\n",
        "import numpy as np\n",
        "import matplotlib.pyplot as plt\n",
        "import datetime as dt\n",
        "import io\n",
        "import spacy\n",
        "from sklearn import metrics\n",
        "from sklearn.pipeline import Pipeline\n",
        "from statsmodels.stats.contingency_tables import mcnemar\n",
        "from sklearn.feature_extraction.text import CountVectorizer, TfidfVectorizer\n",
        "from scipy import stats"
      ],
      "metadata": {
        "id": "-ZgFQyXjGGlk"
      },
      "execution_count": 133,
      "outputs": []
    },
    {
      "cell_type": "code",
      "source": [
        "dictsignals = pd.read_csv(\"python_signals_dictionary - condensed.csv\", encoding=\"utf-8\")\n",
        "dictsignals.head()"
      ],
      "metadata": {
        "colab": {
          "base_uri": "https://localhost:8080/",
          "height": 206
        },
        "id": "tIw2uvoKxiYi",
        "outputId": "28da32d2-c8ea-4ce4-e98f-b10c410f86e0"
      },
      "execution_count": 134,
      "outputs": [
        {
          "output_type": "execute_result",
          "data": {
            "text/plain": [
              "         signals\n",
              "0  certain items\n",
              "1         overly\n",
              "2           100%\n",
              "3    100 percent\n",
              "4     absolutely"
            ],
            "text/html": [
              "\n",
              "  <div id=\"df-748650ed-2936-4ac4-9806-27f94fb869e3\" class=\"colab-df-container\">\n",
              "    <div>\n",
              "<style scoped>\n",
              "    .dataframe tbody tr th:only-of-type {\n",
              "        vertical-align: middle;\n",
              "    }\n",
              "\n",
              "    .dataframe tbody tr th {\n",
              "        vertical-align: top;\n",
              "    }\n",
              "\n",
              "    .dataframe thead th {\n",
              "        text-align: right;\n",
              "    }\n",
              "</style>\n",
              "<table border=\"1\" class=\"dataframe\">\n",
              "  <thead>\n",
              "    <tr style=\"text-align: right;\">\n",
              "      <th></th>\n",
              "      <th>signals</th>\n",
              "    </tr>\n",
              "  </thead>\n",
              "  <tbody>\n",
              "    <tr>\n",
              "      <th>0</th>\n",
              "      <td>certain items</td>\n",
              "    </tr>\n",
              "    <tr>\n",
              "      <th>1</th>\n",
              "      <td>overly</td>\n",
              "    </tr>\n",
              "    <tr>\n",
              "      <th>2</th>\n",
              "      <td>100%</td>\n",
              "    </tr>\n",
              "    <tr>\n",
              "      <th>3</th>\n",
              "      <td>100 percent</td>\n",
              "    </tr>\n",
              "    <tr>\n",
              "      <th>4</th>\n",
              "      <td>absolutely</td>\n",
              "    </tr>\n",
              "  </tbody>\n",
              "</table>\n",
              "</div>\n",
              "    <div class=\"colab-df-buttons\">\n",
              "\n",
              "  <div class=\"colab-df-container\">\n",
              "    <button class=\"colab-df-convert\" onclick=\"convertToInteractive('df-748650ed-2936-4ac4-9806-27f94fb869e3')\"\n",
              "            title=\"Convert this dataframe to an interactive table.\"\n",
              "            style=\"display:none;\">\n",
              "\n",
              "  <svg xmlns=\"http://www.w3.org/2000/svg\" height=\"24px\" viewBox=\"0 -960 960 960\">\n",
              "    <path d=\"M120-120v-720h720v720H120Zm60-500h600v-160H180v160Zm220 220h160v-160H400v160Zm0 220h160v-160H400v160ZM180-400h160v-160H180v160Zm440 0h160v-160H620v160ZM180-180h160v-160H180v160Zm440 0h160v-160H620v160Z\"/>\n",
              "  </svg>\n",
              "    </button>\n",
              "\n",
              "  <style>\n",
              "    .colab-df-container {\n",
              "      display:flex;\n",
              "      gap: 12px;\n",
              "    }\n",
              "\n",
              "    .colab-df-convert {\n",
              "      background-color: #E8F0FE;\n",
              "      border: none;\n",
              "      border-radius: 50%;\n",
              "      cursor: pointer;\n",
              "      display: none;\n",
              "      fill: #1967D2;\n",
              "      height: 32px;\n",
              "      padding: 0 0 0 0;\n",
              "      width: 32px;\n",
              "    }\n",
              "\n",
              "    .colab-df-convert:hover {\n",
              "      background-color: #E2EBFA;\n",
              "      box-shadow: 0px 1px 2px rgba(60, 64, 67, 0.3), 0px 1px 3px 1px rgba(60, 64, 67, 0.15);\n",
              "      fill: #174EA6;\n",
              "    }\n",
              "\n",
              "    .colab-df-buttons div {\n",
              "      margin-bottom: 4px;\n",
              "    }\n",
              "\n",
              "    [theme=dark] .colab-df-convert {\n",
              "      background-color: #3B4455;\n",
              "      fill: #D2E3FC;\n",
              "    }\n",
              "\n",
              "    [theme=dark] .colab-df-convert:hover {\n",
              "      background-color: #434B5C;\n",
              "      box-shadow: 0px 1px 3px 1px rgba(0, 0, 0, 0.15);\n",
              "      filter: drop-shadow(0px 1px 2px rgba(0, 0, 0, 0.3));\n",
              "      fill: #FFFFFF;\n",
              "    }\n",
              "  </style>\n",
              "\n",
              "    <script>\n",
              "      const buttonEl =\n",
              "        document.querySelector('#df-748650ed-2936-4ac4-9806-27f94fb869e3 button.colab-df-convert');\n",
              "      buttonEl.style.display =\n",
              "        google.colab.kernel.accessAllowed ? 'block' : 'none';\n",
              "\n",
              "      async function convertToInteractive(key) {\n",
              "        const element = document.querySelector('#df-748650ed-2936-4ac4-9806-27f94fb869e3');\n",
              "        const dataTable =\n",
              "          await google.colab.kernel.invokeFunction('convertToInteractive',\n",
              "                                                    [key], {});\n",
              "        if (!dataTable) return;\n",
              "\n",
              "        const docLinkHtml = 'Like what you see? Visit the ' +\n",
              "          '<a target=\"_blank\" href=https://colab.research.google.com/notebooks/data_table.ipynb>data table notebook</a>'\n",
              "          + ' to learn more about interactive tables.';\n",
              "        element.innerHTML = '';\n",
              "        dataTable['output_type'] = 'display_data';\n",
              "        await google.colab.output.renderOutput(dataTable, element);\n",
              "        const docLink = document.createElement('div');\n",
              "        docLink.innerHTML = docLinkHtml;\n",
              "        element.appendChild(docLink);\n",
              "      }\n",
              "    </script>\n",
              "  </div>\n",
              "\n",
              "\n",
              "    <div id=\"df-2a7ac7f4-dd49-4d0a-bc77-31848f327b05\">\n",
              "      <button class=\"colab-df-quickchart\" onclick=\"quickchart('df-2a7ac7f4-dd49-4d0a-bc77-31848f327b05')\"\n",
              "                title=\"Suggest charts\"\n",
              "                style=\"display:none;\">\n",
              "\n",
              "<svg xmlns=\"http://www.w3.org/2000/svg\" height=\"24px\"viewBox=\"0 0 24 24\"\n",
              "     width=\"24px\">\n",
              "    <g>\n",
              "        <path d=\"M19 3H5c-1.1 0-2 .9-2 2v14c0 1.1.9 2 2 2h14c1.1 0 2-.9 2-2V5c0-1.1-.9-2-2-2zM9 17H7v-7h2v7zm4 0h-2V7h2v10zm4 0h-2v-4h2v4z\"/>\n",
              "    </g>\n",
              "</svg>\n",
              "      </button>\n",
              "\n",
              "<style>\n",
              "  .colab-df-quickchart {\n",
              "      --bg-color: #E8F0FE;\n",
              "      --fill-color: #1967D2;\n",
              "      --hover-bg-color: #E2EBFA;\n",
              "      --hover-fill-color: #174EA6;\n",
              "      --disabled-fill-color: #AAA;\n",
              "      --disabled-bg-color: #DDD;\n",
              "  }\n",
              "\n",
              "  [theme=dark] .colab-df-quickchart {\n",
              "      --bg-color: #3B4455;\n",
              "      --fill-color: #D2E3FC;\n",
              "      --hover-bg-color: #434B5C;\n",
              "      --hover-fill-color: #FFFFFF;\n",
              "      --disabled-bg-color: #3B4455;\n",
              "      --disabled-fill-color: #666;\n",
              "  }\n",
              "\n",
              "  .colab-df-quickchart {\n",
              "    background-color: var(--bg-color);\n",
              "    border: none;\n",
              "    border-radius: 50%;\n",
              "    cursor: pointer;\n",
              "    display: none;\n",
              "    fill: var(--fill-color);\n",
              "    height: 32px;\n",
              "    padding: 0;\n",
              "    width: 32px;\n",
              "  }\n",
              "\n",
              "  .colab-df-quickchart:hover {\n",
              "    background-color: var(--hover-bg-color);\n",
              "    box-shadow: 0 1px 2px rgba(60, 64, 67, 0.3), 0 1px 3px 1px rgba(60, 64, 67, 0.15);\n",
              "    fill: var(--button-hover-fill-color);\n",
              "  }\n",
              "\n",
              "  .colab-df-quickchart-complete:disabled,\n",
              "  .colab-df-quickchart-complete:disabled:hover {\n",
              "    background-color: var(--disabled-bg-color);\n",
              "    fill: var(--disabled-fill-color);\n",
              "    box-shadow: none;\n",
              "  }\n",
              "\n",
              "  .colab-df-spinner {\n",
              "    border: 2px solid var(--fill-color);\n",
              "    border-color: transparent;\n",
              "    border-bottom-color: var(--fill-color);\n",
              "    animation:\n",
              "      spin 1s steps(1) infinite;\n",
              "  }\n",
              "\n",
              "  @keyframes spin {\n",
              "    0% {\n",
              "      border-color: transparent;\n",
              "      border-bottom-color: var(--fill-color);\n",
              "      border-left-color: var(--fill-color);\n",
              "    }\n",
              "    20% {\n",
              "      border-color: transparent;\n",
              "      border-left-color: var(--fill-color);\n",
              "      border-top-color: var(--fill-color);\n",
              "    }\n",
              "    30% {\n",
              "      border-color: transparent;\n",
              "      border-left-color: var(--fill-color);\n",
              "      border-top-color: var(--fill-color);\n",
              "      border-right-color: var(--fill-color);\n",
              "    }\n",
              "    40% {\n",
              "      border-color: transparent;\n",
              "      border-right-color: var(--fill-color);\n",
              "      border-top-color: var(--fill-color);\n",
              "    }\n",
              "    60% {\n",
              "      border-color: transparent;\n",
              "      border-right-color: var(--fill-color);\n",
              "    }\n",
              "    80% {\n",
              "      border-color: transparent;\n",
              "      border-right-color: var(--fill-color);\n",
              "      border-bottom-color: var(--fill-color);\n",
              "    }\n",
              "    90% {\n",
              "      border-color: transparent;\n",
              "      border-bottom-color: var(--fill-color);\n",
              "    }\n",
              "  }\n",
              "</style>\n",
              "\n",
              "      <script>\n",
              "        async function quickchart(key) {\n",
              "          const quickchartButtonEl =\n",
              "            document.querySelector('#' + key + ' button');\n",
              "          quickchartButtonEl.disabled = true;  // To prevent multiple clicks.\n",
              "          quickchartButtonEl.classList.add('colab-df-spinner');\n",
              "          try {\n",
              "            const charts = await google.colab.kernel.invokeFunction(\n",
              "                'suggestCharts', [key], {});\n",
              "          } catch (error) {\n",
              "            console.error('Error during call to suggestCharts:', error);\n",
              "          }\n",
              "          quickchartButtonEl.classList.remove('colab-df-spinner');\n",
              "          quickchartButtonEl.classList.add('colab-df-quickchart-complete');\n",
              "        }\n",
              "        (() => {\n",
              "          let quickchartButtonEl =\n",
              "            document.querySelector('#df-2a7ac7f4-dd49-4d0a-bc77-31848f327b05 button');\n",
              "          quickchartButtonEl.style.display =\n",
              "            google.colab.kernel.accessAllowed ? 'block' : 'none';\n",
              "        })();\n",
              "      </script>\n",
              "    </div>\n",
              "\n",
              "    </div>\n",
              "  </div>\n"
            ],
            "application/vnd.google.colaboratory.intrinsic+json": {
              "type": "dataframe",
              "variable_name": "dictsignals",
              "summary": "{\n  \"name\": \"dictsignals\",\n  \"rows\": 814,\n  \"fields\": [\n    {\n      \"column\": \"signals\",\n      \"properties\": {\n        \"dtype\": \"string\",\n        \"num_unique_values\": 813,\n        \"samples\": [\n          \"dunno\",\n          \"is a permanent\",\n          \"assumed\"\n        ],\n        \"semantic_type\": \"\",\n        \"description\": \"\"\n      }\n    }\n  ]\n}"
            }
          },
          "metadata": {},
          "execution_count": 134
        }
      ]
    },
    {
      "cell_type": "code",
      "source": [
        "signals = dictsignals[\"signals\"].tolist()"
      ],
      "metadata": {
        "collapsed": true,
        "id": "CZUvhQ-eyTxr"
      },
      "execution_count": 135,
      "outputs": []
    },
    {
      "cell_type": "code",
      "source": [
        "essays = pd.read_csv(\"CROSSDA_data_Iva_only_text.xlsx - data_recoded.csv\", index_col= \"ID\", encoding=\"utf-8\")"
      ],
      "metadata": {
        "id": "5G4UzFvdya9M"
      },
      "execution_count": 136,
      "outputs": []
    },
    {
      "cell_type": "code",
      "source": [
        "# converting wildcard signals to regex patterns because of the wildcards from LIWC\n",
        "regex_patterns = {}\n",
        "for phrase in signals:\n",
        "    if phrase.startswith(\"*\") and phrase.endswith(\"*\"):\n",
        "        regex_patterns[phrase] = rf\"\\b\\w*{re.escape(phrase[1:-1])}\\w*\\b\"\n",
        "    elif phrase.startswith(\"*\"):\n",
        "        regex_patterns[phrase] = rf\"\\b\\w*{re.escape(phrase[1:])}\\b\"\n",
        "    elif phrase.endswith(\"*\"):\n",
        "        regex_patterns[phrase] = rf\"\\b{re.escape(phrase[:-1])}\\w*\\b\"\n",
        "    else:\n",
        "        regex_patterns[phrase] = rf\"\\b{re.escape(phrase)}\\b\""
      ],
      "metadata": {
        "collapsed": true,
        "id": "NYlSRcDd2sTn"
      },
      "execution_count": 137,
      "outputs": []
    },
    {
      "cell_type": "code",
      "source": [
        "# sorting instances by length (longest first) to ensure priority of longer signals\n",
        "sorted_instances = sorted(regex_patterns.keys(), key=len, reverse=True)"
      ],
      "metadata": {
        "id": "AZnJGEYJoiPu"
      },
      "execution_count": 138,
      "outputs": []
    },
    {
      "cell_type": "code",
      "source": [
        "# function for counting the numbers of occurrences of signals in texts\n",
        "def process_column(df, column_name):\n",
        "    rows = []\n",
        "\n",
        "    for index, text in df[column_name].items():\n",
        "        row = {\"Index\": index}\n",
        "        counted_positions = set()  # to track already matched positions\n",
        "\n",
        "        if pd.isna(text):  # skip nan values\n",
        "            text = \"\"\n",
        "\n",
        "        for phrase in sorted_instances:\n",
        "            pattern = regex_patterns[phrase]\n",
        "            matches = list(re.finditer(pattern, text, flags=re.IGNORECASE))\n",
        "            count = 0\n",
        "\n",
        "            for match in matches:\n",
        "                start, end = match.span()\n",
        "                if all(pos not in counted_positions for pos in range(start, end)):  # ensure no overlap\n",
        "                    count += 1\n",
        "                    counted_positions.update(range(start, end))  # mark positions as counted\n",
        "\n",
        "            row[phrase] = count\n",
        "\n",
        "        rows.append(row)\n",
        "\n",
        "    # create the dataframe and set index to match the original dataframe\n",
        "    return pd.DataFrame(rows).set_index(\"Index\")"
      ],
      "metadata": {
        "id": "DOy5y7F5oiG6"
      },
      "execution_count": 139,
      "outputs": []
    },
    {
      "cell_type": "code",
      "source": [
        "# process each column separately\n",
        "pos_char_signals = process_column(essays, \"Personal characteristics POSITIVE\")\n",
        "neg_char_signals = process_column(essays, \"Personal characteristics NEGATIVE\")\n",
        "pos_healthcare_signals = process_column(essays, \"Universal healthcare POSITIVE\")\n",
        "neg_healthcare_signals = process_column(essays, \"Universal healthcare NEGATIVE\")"
      ],
      "metadata": {
        "id": "ESl6Q8oBoh9Y"
      },
      "execution_count": 140,
      "outputs": []
    },
    {
      "cell_type": "code",
      "source": [
        "pos_char_signals[\"ID\"] = pos_char_signals.index"
      ],
      "metadata": {
        "collapsed": true,
        "id": "mknGPkzKLF1A"
      },
      "execution_count": 141,
      "outputs": []
    },
    {
      "cell_type": "markdown",
      "source": [
        "Dictionary features based on counts per signal"
      ],
      "metadata": {
        "id": "6B5NpAOMAznD"
      }
    },
    {
      "cell_type": "code",
      "source": [
        "dictmeta = pd.read_csv(\"python_signals_dictionary - meta-data.csv\", encoding=\"latin-1\")\n",
        "dictmeta.head()"
      ],
      "metadata": {
        "colab": {
          "base_uri": "https://localhost:8080/",
          "height": 206
        },
        "id": "0Mg67Uc41afg",
        "outputId": "dcf6ba34-5756-4c4a-8048-3d1d01f083ab"
      },
      "execution_count": 142,
      "outputs": [
        {
          "output_type": "execute_result",
          "data": {
            "text/plain": [
              "         signals        subgroup       group\n",
              "0  certain items   specification  attenuated\n",
              "1         overly     intensifier   amplified\n",
              "2           100%  generalization   amplified\n",
              "3    100 percent  generalization   amplified\n",
              "4     absolutely     intensifier   amplified"
            ],
            "text/html": [
              "\n",
              "  <div id=\"df-439c319c-dfd4-49c2-8c12-d16f13c3ce0c\" class=\"colab-df-container\">\n",
              "    <div>\n",
              "<style scoped>\n",
              "    .dataframe tbody tr th:only-of-type {\n",
              "        vertical-align: middle;\n",
              "    }\n",
              "\n",
              "    .dataframe tbody tr th {\n",
              "        vertical-align: top;\n",
              "    }\n",
              "\n",
              "    .dataframe thead th {\n",
              "        text-align: right;\n",
              "    }\n",
              "</style>\n",
              "<table border=\"1\" class=\"dataframe\">\n",
              "  <thead>\n",
              "    <tr style=\"text-align: right;\">\n",
              "      <th></th>\n",
              "      <th>signals</th>\n",
              "      <th>subgroup</th>\n",
              "      <th>group</th>\n",
              "    </tr>\n",
              "  </thead>\n",
              "  <tbody>\n",
              "    <tr>\n",
              "      <th>0</th>\n",
              "      <td>certain items</td>\n",
              "      <td>specification</td>\n",
              "      <td>attenuated</td>\n",
              "    </tr>\n",
              "    <tr>\n",
              "      <th>1</th>\n",
              "      <td>overly</td>\n",
              "      <td>intensifier</td>\n",
              "      <td>amplified</td>\n",
              "    </tr>\n",
              "    <tr>\n",
              "      <th>2</th>\n",
              "      <td>100%</td>\n",
              "      <td>generalization</td>\n",
              "      <td>amplified</td>\n",
              "    </tr>\n",
              "    <tr>\n",
              "      <th>3</th>\n",
              "      <td>100 percent</td>\n",
              "      <td>generalization</td>\n",
              "      <td>amplified</td>\n",
              "    </tr>\n",
              "    <tr>\n",
              "      <th>4</th>\n",
              "      <td>absolutely</td>\n",
              "      <td>intensifier</td>\n",
              "      <td>amplified</td>\n",
              "    </tr>\n",
              "  </tbody>\n",
              "</table>\n",
              "</div>\n",
              "    <div class=\"colab-df-buttons\">\n",
              "\n",
              "  <div class=\"colab-df-container\">\n",
              "    <button class=\"colab-df-convert\" onclick=\"convertToInteractive('df-439c319c-dfd4-49c2-8c12-d16f13c3ce0c')\"\n",
              "            title=\"Convert this dataframe to an interactive table.\"\n",
              "            style=\"display:none;\">\n",
              "\n",
              "  <svg xmlns=\"http://www.w3.org/2000/svg\" height=\"24px\" viewBox=\"0 -960 960 960\">\n",
              "    <path d=\"M120-120v-720h720v720H120Zm60-500h600v-160H180v160Zm220 220h160v-160H400v160Zm0 220h160v-160H400v160ZM180-400h160v-160H180v160Zm440 0h160v-160H620v160ZM180-180h160v-160H180v160Zm440 0h160v-160H620v160Z\"/>\n",
              "  </svg>\n",
              "    </button>\n",
              "\n",
              "  <style>\n",
              "    .colab-df-container {\n",
              "      display:flex;\n",
              "      gap: 12px;\n",
              "    }\n",
              "\n",
              "    .colab-df-convert {\n",
              "      background-color: #E8F0FE;\n",
              "      border: none;\n",
              "      border-radius: 50%;\n",
              "      cursor: pointer;\n",
              "      display: none;\n",
              "      fill: #1967D2;\n",
              "      height: 32px;\n",
              "      padding: 0 0 0 0;\n",
              "      width: 32px;\n",
              "    }\n",
              "\n",
              "    .colab-df-convert:hover {\n",
              "      background-color: #E2EBFA;\n",
              "      box-shadow: 0px 1px 2px rgba(60, 64, 67, 0.3), 0px 1px 3px 1px rgba(60, 64, 67, 0.15);\n",
              "      fill: #174EA6;\n",
              "    }\n",
              "\n",
              "    .colab-df-buttons div {\n",
              "      margin-bottom: 4px;\n",
              "    }\n",
              "\n",
              "    [theme=dark] .colab-df-convert {\n",
              "      background-color: #3B4455;\n",
              "      fill: #D2E3FC;\n",
              "    }\n",
              "\n",
              "    [theme=dark] .colab-df-convert:hover {\n",
              "      background-color: #434B5C;\n",
              "      box-shadow: 0px 1px 3px 1px rgba(0, 0, 0, 0.15);\n",
              "      filter: drop-shadow(0px 1px 2px rgba(0, 0, 0, 0.3));\n",
              "      fill: #FFFFFF;\n",
              "    }\n",
              "  </style>\n",
              "\n",
              "    <script>\n",
              "      const buttonEl =\n",
              "        document.querySelector('#df-439c319c-dfd4-49c2-8c12-d16f13c3ce0c button.colab-df-convert');\n",
              "      buttonEl.style.display =\n",
              "        google.colab.kernel.accessAllowed ? 'block' : 'none';\n",
              "\n",
              "      async function convertToInteractive(key) {\n",
              "        const element = document.querySelector('#df-439c319c-dfd4-49c2-8c12-d16f13c3ce0c');\n",
              "        const dataTable =\n",
              "          await google.colab.kernel.invokeFunction('convertToInteractive',\n",
              "                                                    [key], {});\n",
              "        if (!dataTable) return;\n",
              "\n",
              "        const docLinkHtml = 'Like what you see? Visit the ' +\n",
              "          '<a target=\"_blank\" href=https://colab.research.google.com/notebooks/data_table.ipynb>data table notebook</a>'\n",
              "          + ' to learn more about interactive tables.';\n",
              "        element.innerHTML = '';\n",
              "        dataTable['output_type'] = 'display_data';\n",
              "        await google.colab.output.renderOutput(dataTable, element);\n",
              "        const docLink = document.createElement('div');\n",
              "        docLink.innerHTML = docLinkHtml;\n",
              "        element.appendChild(docLink);\n",
              "      }\n",
              "    </script>\n",
              "  </div>\n",
              "\n",
              "\n",
              "    <div id=\"df-d07becd2-030c-46bd-b8b0-1575ff521bfe\">\n",
              "      <button class=\"colab-df-quickchart\" onclick=\"quickchart('df-d07becd2-030c-46bd-b8b0-1575ff521bfe')\"\n",
              "                title=\"Suggest charts\"\n",
              "                style=\"display:none;\">\n",
              "\n",
              "<svg xmlns=\"http://www.w3.org/2000/svg\" height=\"24px\"viewBox=\"0 0 24 24\"\n",
              "     width=\"24px\">\n",
              "    <g>\n",
              "        <path d=\"M19 3H5c-1.1 0-2 .9-2 2v14c0 1.1.9 2 2 2h14c1.1 0 2-.9 2-2V5c0-1.1-.9-2-2-2zM9 17H7v-7h2v7zm4 0h-2V7h2v10zm4 0h-2v-4h2v4z\"/>\n",
              "    </g>\n",
              "</svg>\n",
              "      </button>\n",
              "\n",
              "<style>\n",
              "  .colab-df-quickchart {\n",
              "      --bg-color: #E8F0FE;\n",
              "      --fill-color: #1967D2;\n",
              "      --hover-bg-color: #E2EBFA;\n",
              "      --hover-fill-color: #174EA6;\n",
              "      --disabled-fill-color: #AAA;\n",
              "      --disabled-bg-color: #DDD;\n",
              "  }\n",
              "\n",
              "  [theme=dark] .colab-df-quickchart {\n",
              "      --bg-color: #3B4455;\n",
              "      --fill-color: #D2E3FC;\n",
              "      --hover-bg-color: #434B5C;\n",
              "      --hover-fill-color: #FFFFFF;\n",
              "      --disabled-bg-color: #3B4455;\n",
              "      --disabled-fill-color: #666;\n",
              "  }\n",
              "\n",
              "  .colab-df-quickchart {\n",
              "    background-color: var(--bg-color);\n",
              "    border: none;\n",
              "    border-radius: 50%;\n",
              "    cursor: pointer;\n",
              "    display: none;\n",
              "    fill: var(--fill-color);\n",
              "    height: 32px;\n",
              "    padding: 0;\n",
              "    width: 32px;\n",
              "  }\n",
              "\n",
              "  .colab-df-quickchart:hover {\n",
              "    background-color: var(--hover-bg-color);\n",
              "    box-shadow: 0 1px 2px rgba(60, 64, 67, 0.3), 0 1px 3px 1px rgba(60, 64, 67, 0.15);\n",
              "    fill: var(--button-hover-fill-color);\n",
              "  }\n",
              "\n",
              "  .colab-df-quickchart-complete:disabled,\n",
              "  .colab-df-quickchart-complete:disabled:hover {\n",
              "    background-color: var(--disabled-bg-color);\n",
              "    fill: var(--disabled-fill-color);\n",
              "    box-shadow: none;\n",
              "  }\n",
              "\n",
              "  .colab-df-spinner {\n",
              "    border: 2px solid var(--fill-color);\n",
              "    border-color: transparent;\n",
              "    border-bottom-color: var(--fill-color);\n",
              "    animation:\n",
              "      spin 1s steps(1) infinite;\n",
              "  }\n",
              "\n",
              "  @keyframes spin {\n",
              "    0% {\n",
              "      border-color: transparent;\n",
              "      border-bottom-color: var(--fill-color);\n",
              "      border-left-color: var(--fill-color);\n",
              "    }\n",
              "    20% {\n",
              "      border-color: transparent;\n",
              "      border-left-color: var(--fill-color);\n",
              "      border-top-color: var(--fill-color);\n",
              "    }\n",
              "    30% {\n",
              "      border-color: transparent;\n",
              "      border-left-color: var(--fill-color);\n",
              "      border-top-color: var(--fill-color);\n",
              "      border-right-color: var(--fill-color);\n",
              "    }\n",
              "    40% {\n",
              "      border-color: transparent;\n",
              "      border-right-color: var(--fill-color);\n",
              "      border-top-color: var(--fill-color);\n",
              "    }\n",
              "    60% {\n",
              "      border-color: transparent;\n",
              "      border-right-color: var(--fill-color);\n",
              "    }\n",
              "    80% {\n",
              "      border-color: transparent;\n",
              "      border-right-color: var(--fill-color);\n",
              "      border-bottom-color: var(--fill-color);\n",
              "    }\n",
              "    90% {\n",
              "      border-color: transparent;\n",
              "      border-bottom-color: var(--fill-color);\n",
              "    }\n",
              "  }\n",
              "</style>\n",
              "\n",
              "      <script>\n",
              "        async function quickchart(key) {\n",
              "          const quickchartButtonEl =\n",
              "            document.querySelector('#' + key + ' button');\n",
              "          quickchartButtonEl.disabled = true;  // To prevent multiple clicks.\n",
              "          quickchartButtonEl.classList.add('colab-df-spinner');\n",
              "          try {\n",
              "            const charts = await google.colab.kernel.invokeFunction(\n",
              "                'suggestCharts', [key], {});\n",
              "          } catch (error) {\n",
              "            console.error('Error during call to suggestCharts:', error);\n",
              "          }\n",
              "          quickchartButtonEl.classList.remove('colab-df-spinner');\n",
              "          quickchartButtonEl.classList.add('colab-df-quickchart-complete');\n",
              "        }\n",
              "        (() => {\n",
              "          let quickchartButtonEl =\n",
              "            document.querySelector('#df-d07becd2-030c-46bd-b8b0-1575ff521bfe button');\n",
              "          quickchartButtonEl.style.display =\n",
              "            google.colab.kernel.accessAllowed ? 'block' : 'none';\n",
              "        })();\n",
              "      </script>\n",
              "    </div>\n",
              "\n",
              "    </div>\n",
              "  </div>\n"
            ],
            "application/vnd.google.colaboratory.intrinsic+json": {
              "type": "dataframe",
              "variable_name": "dictmeta",
              "summary": "{\n  \"name\": \"dictmeta\",\n  \"rows\": 826,\n  \"fields\": [\n    {\n      \"column\": \"signals\",\n      \"properties\": {\n        \"dtype\": \"string\",\n        \"num_unique_values\": 824,\n        \"samples\": [\n          \"undisputed\",\n          \"more or less\",\n          \"really\"\n        ],\n        \"semantic_type\": \"\",\n        \"description\": \"\"\n      }\n    },\n    {\n      \"column\": \"subgroup\",\n      \"properties\": {\n        \"dtype\": \"category\",\n        \"num_unique_values\": 6,\n        \"samples\": [\n          \"specification\",\n          \"intensifier\",\n          \"detensifier\"\n        ],\n        \"semantic_type\": \"\",\n        \"description\": \"\"\n      }\n    },\n    {\n      \"column\": \"group\",\n      \"properties\": {\n        \"dtype\": \"category\",\n        \"num_unique_values\": 2,\n        \"samples\": [\n          \"amplified\",\n          \"attenuated\"\n        ],\n        \"semantic_type\": \"\",\n        \"description\": \"\"\n      }\n    }\n  ]\n}"
            }
          },
          "metadata": {},
          "execution_count": 142
        }
      ]
    },
    {
      "cell_type": "code",
      "source": [
        "# a function that takes into account the metadata of signals and aggregates signals into the counts of attenuated and amplified language and their subgroups\n",
        "\n",
        "def aggregate_ngrams_by_subgroup_and_group(ngram_df, dictmeta):\n",
        "\n",
        "    # create mapping from signal to subgroup\n",
        "    ngram_to_subgroup = dict(zip(dictmeta[\"signals\"], dictmeta[\"subgroup\"]))\n",
        "\n",
        "    # filter to valid ngrams that appear in both dictmeta and ngram_df\n",
        "    valid_ngrams = [col for col in ngram_df.columns if col in ngram_to_subgroup]\n",
        "\n",
        "    # subset to those columns\n",
        "    filtered_df = ngram_df[valid_ngrams]\n",
        "\n",
        "    # create a new df to store subgroup sums\n",
        "    subgroup_agg = pd.DataFrame(index=filtered_df.index)\n",
        "\n",
        "    # sum each subgroup\n",
        "    for subgroup in dictmeta[\"subgroup\"].unique():\n",
        "        ngrams_in_subgroup = dictmeta[dictmeta[\"subgroup\"] == subgroup][\"signals\"]\n",
        "        ngrams_in_subgroup = [ng for ng in ngrams_in_subgroup if ng in filtered_df.columns]\n",
        "        if ngrams_in_subgroup:\n",
        "            subgroup_agg[subgroup] = filtered_df[ngrams_in_subgroup].sum(axis=1)\n",
        "        else:\n",
        "            subgroup_agg[subgroup] = 0\n",
        "\n",
        "    # aggregate subgroups into groups\n",
        "    group_agg = pd.DataFrame(index=subgroup_agg.index)\n",
        "    group_agg[\"amplified\"] = subgroup_agg.get(\"generalization\", 0) + \\\n",
        "                             subgroup_agg.get(\"intensifier\", 0) + \\\n",
        "                             subgroup_agg.get(\"certainty\", 0)\n",
        "    group_agg[\"attenuated\"] = subgroup_agg.get(\"specification\", 0) + \\\n",
        "                              subgroup_agg.get(\"detensifier\", 0) + \\\n",
        "                              subgroup_agg.get(\"uncertainty\", 0)\n",
        "\n",
        "    # combine subgroup and group counts\n",
        "    result = pd.concat([subgroup_agg, group_agg], axis=1)\n",
        "    result = result.sort_index(axis=1)\n",
        "\n",
        "    return result"
      ],
      "metadata": {
        "id": "5vI3e9pXHMPG"
      },
      "execution_count": 143,
      "outputs": []
    },
    {
      "cell_type": "code",
      "source": [
        "# a function that normalizes the counts into percentages relative to the word count of that person's text\n",
        "\n",
        "def normalize_by_column(df, denominator_col=\"WC\"):\n",
        "\n",
        "    # columns to normalize (all except the denominator)\n",
        "    cols_to_normalize = df.columns.difference([denominator_col])\n",
        "\n",
        "    # compute percentages\n",
        "    percentage = df[cols_to_normalize].div(df[denominator_col], axis=0)*100\n",
        "\n",
        "     # replace 'inf' values with 0\n",
        "    percentage.replace([float(\"inf\"), -float(\"inf\")], 0, inplace=True)\n",
        "\n",
        "    # fill nans (e.g., if denominator is zero) with 0\n",
        "    percentage = percentage.fillna(0)\n",
        "\n",
        "    return percentage\n"
      ],
      "metadata": {
        "id": "jhpvxmGeBQBa"
      },
      "execution_count": 144,
      "outputs": []
    },
    {
      "cell_type": "code",
      "source": [
        "essays[\"WC_pos_char\"] = essays[\"Personal characteristics POSITIVE\"].apply(lambda n: len(n.split()) if isinstance(n, str) else 0)\n",
        "essays[\"WC_neg_char\"] = essays[\"Personal characteristics NEGATIVE\"].apply(lambda n: len(n.split()) if isinstance(n, str) else 0)\n",
        "essays[\"WC_health_pos\"] = essays[\"Universal healthcare POSITIVE\"].apply(lambda n: len(n.split()) if isinstance(n, str) else 0)\n",
        "essays[\"WC_health_neg\"] = essays[\"Universal healthcare NEGATIVE\"].apply(lambda n: len(n.split()) if isinstance(n, str) else 0)"
      ],
      "metadata": {
        "id": "AQKN7C_mH_9_"
      },
      "execution_count": 145,
      "outputs": []
    },
    {
      "cell_type": "code",
      "source": [
        "pos_char_dict_counts = aggregate_ngrams_by_subgroup_and_group(pos_char_signals, dictmeta)\n",
        "pos_char_dict_counts = pos_char_dict_counts.join(essays[\"WC_pos_char\"])"
      ],
      "metadata": {
        "id": "bvrcy65JHNjL"
      },
      "execution_count": 146,
      "outputs": []
    },
    {
      "cell_type": "markdown",
      "source": [
        "## Custom features (the complicated ones that can't be simply counted)\n",
        "\n"
      ],
      "metadata": {
        "id": "dfcq5IzUMpHW"
      }
    },
    {
      "cell_type": "code",
      "source": [
        "df_good_text = essays.copy()"
      ],
      "metadata": {
        "id": "qJ3igQLSQ-b5"
      },
      "execution_count": 147,
      "outputs": []
    },
    {
      "cell_type": "markdown",
      "source": [
        "*Exclamation marks*"
      ],
      "metadata": {
        "id": "i_FoOkPX8fgZ"
      }
    },
    {
      "cell_type": "code",
      "source": [
        "df_good_text[\"exclamation_count_pos_char\"] = df_good_text[\"Personal characteristics POSITIVE\"].str.count(\"!\")\n",
        "df_good_text[\"exclamation_count_pos_char\"].sum()"
      ],
      "metadata": {
        "id": "lkT9r-nQ8jAA",
        "colab": {
          "base_uri": "https://localhost:8080/"
        },
        "outputId": "db1bd9da-8e23-47c5-cf83-4a682fa498b5"
      },
      "execution_count": 148,
      "outputs": [
        {
          "output_type": "execute_result",
          "data": {
            "text/plain": [
              "np.float64(19.0)"
            ]
          },
          "metadata": {},
          "execution_count": 148
        }
      ]
    },
    {
      "cell_type": "code",
      "source": [
        "df_good_text[\"exclamation_count_neg_char\"] = df_good_text[\"Personal characteristics NEGATIVE\"].str.count(\"!\")\n",
        "df_good_text[\"exclamation_count_healthcare_pos\"] = df_good_text[\"Universal healthcare POSITIVE\"].str.count(\"!\")\n",
        "df_good_text[\"exclamation_count_healthcare_neg\"] = df_good_text[\"Universal healthcare NEGATIVE\"].str.count(\"!\")"
      ],
      "metadata": {
        "collapsed": true,
        "id": "SYFqc0F6U3RM"
      },
      "execution_count": 149,
      "outputs": []
    },
    {
      "cell_type": "markdown",
      "source": [
        "# *...*"
      ],
      "metadata": {
        "id": "g953HqIo8oHZ"
      }
    },
    {
      "cell_type": "code",
      "source": [
        "def count_three_dots(text):\n",
        "    text = str(text)\n",
        "    three_dots = re.findall(r'\\.{3,}', text)\n",
        "    return len(three_dots)"
      ],
      "metadata": {
        "id": "yYzUwX_88kZg"
      },
      "execution_count": 150,
      "outputs": []
    },
    {
      "cell_type": "code",
      "source": [
        "df_good_text[\"three_dots_count_pos_char\"] = df_good_text[\"Personal characteristics POSITIVE\"].apply(count_three_dots)"
      ],
      "metadata": {
        "id": "Sl7jzmGe8rbP"
      },
      "execution_count": 151,
      "outputs": []
    },
    {
      "cell_type": "code",
      "source": [
        "df_good_text['three_dots_count_pos_char'].sum()"
      ],
      "metadata": {
        "id": "AKAI1ZYl8tpx",
        "collapsed": true,
        "colab": {
          "base_uri": "https://localhost:8080/"
        },
        "outputId": "41104d42-ce40-4116-bee2-7a7dac7c679f"
      },
      "execution_count": 152,
      "outputs": [
        {
          "output_type": "execute_result",
          "data": {
            "text/plain": [
              "np.int64(2)"
            ]
          },
          "metadata": {},
          "execution_count": 152
        }
      ]
    },
    {
      "cell_type": "code",
      "source": [
        "df_good_text['three_dots_count_neg_char'] = df_good_text['Personal characteristics NEGATIVE'].apply(count_three_dots)\n",
        "df_good_text['three_dots_count_healthcare_pos'] = df_good_text['Universal healthcare POSITIVE'].apply(count_three_dots)\n",
        "df_good_text['three_dots_count_healthcare_neg'] = df_good_text['Universal healthcare NEGATIVE'].apply(count_three_dots)"
      ],
      "metadata": {
        "collapsed": true,
        "id": "Zqjt0TeNWsjm"
      },
      "execution_count": 153,
      "outputs": []
    },
    {
      "cell_type": "markdown",
      "source": [
        "*Superlatives*"
      ],
      "metadata": {
        "id": "waE7GGEFNEc5"
      }
    },
    {
      "cell_type": "code",
      "source": [
        "nlp = spacy.load(\"en_core_web_sm\")"
      ],
      "metadata": {
        "id": "cPEvQz0cNFvO"
      },
      "execution_count": 154,
      "outputs": []
    },
    {
      "cell_type": "code",
      "source": [
        "def count_superlatives(text):\n",
        "    if pd.isna(text):\n",
        "        return 0\n",
        "    doc = nlp(text)\n",
        "    return sum(1 for token in doc if token.tag_ in (\"JJS\", \"RBS\"))"
      ],
      "metadata": {
        "id": "KggaC0LHnRPy"
      },
      "execution_count": 155,
      "outputs": []
    },
    {
      "cell_type": "code",
      "source": [
        "for col in [\"Personal characteristics POSITIVE\", \"Personal characteristics NEGATIVE\", \"Universal healthcare POSITIVE\", \"Universal healthcare NEGATIVE\"]:\n",
        "    df_good_text[f'{col}_superlatives'] = df_good_text[col].apply(count_superlatives)"
      ],
      "metadata": {
        "id": "DBzsC51IQdkE"
      },
      "execution_count": 156,
      "outputs": []
    },
    {
      "cell_type": "markdown",
      "source": [
        "*CAPSed words*"
      ],
      "metadata": {
        "id": "5SGWRm-VotM4"
      }
    },
    {
      "cell_type": "code",
      "source": [
        "# exclude texts where everything is in caps and when a word in caps is an abbreviation\n",
        "# if two words are in caps, like \"EXTREMELLY GOOD coffee\", count it as the occurence of 1"
      ],
      "metadata": {
        "id": "QpIHnPJLovaf"
      },
      "execution_count": 157,
      "outputs": []
    },
    {
      "cell_type": "code",
      "source": [
        "import re"
      ],
      "metadata": {
        "id": "vJH-8WsAndd5"
      },
      "execution_count": 158,
      "outputs": []
    },
    {
      "cell_type": "code",
      "source": [
        "# function that counts CAPSed words while excluding potential abbreviations (i.e., words with 4 or less characters)\n",
        "\n",
        "def count_capslock(text):\n",
        "    if not isinstance(text, str) or not text.strip():\n",
        "        return 0\n",
        "\n",
        "    # ignore if the whole text is in CAPS\n",
        "    if text.isupper():\n",
        "        return 0\n",
        "\n",
        "    words = text.split()\n",
        "    count = 0\n",
        "    prev_caps = False\n",
        "\n",
        "    for word in words:\n",
        "        # clean punctuation around the word\n",
        "        clean_word = re.sub(r'[^A-Z]', '', word)\n",
        "\n",
        "        # check if it's a potential abbreviation (short, ≤4 letters, all caps)\n",
        "        is_abbreviation = clean_word.isupper() and len(clean_word) <= 4\n",
        "\n",
        "        # count if word is CAPSed and not an abbreviation\n",
        "        if word.isupper() and not is_abbreviation:\n",
        "            if not prev_caps:\n",
        "                count += 1\n",
        "                prev_caps = True\n",
        "        else:\n",
        "            prev_caps = False\n",
        "\n",
        "    return count\n"
      ],
      "metadata": {
        "id": "vKoCztaVpm04"
      },
      "execution_count": 159,
      "outputs": []
    },
    {
      "cell_type": "code",
      "source": [
        "for col in [\"Personal characteristics POSITIVE\", \"Personal characteristics NEGATIVE\", \"Universal healthcare POSITIVE\", \"Universal healthcare NEGATIVE\"]:\n",
        "    df_good_text[f'{col}_caps'] = df_good_text[col].apply(count_capslock)"
      ],
      "metadata": {
        "id": "DxtTJGf6qEaB"
      },
      "execution_count": 160,
      "outputs": []
    },
    {
      "cell_type": "markdown",
      "source": [
        "*POS tagging*"
      ],
      "metadata": {
        "id": "Jxltbf3TjyE8"
      }
    },
    {
      "cell_type": "code",
      "source": [
        "import nltk\n",
        "from nltk.tokenize import word_tokenize, sent_tokenize\n",
        "from nltk import sent_tokenize, word_tokenize, pos_tag\n",
        "\n",
        "nltk.download('punkt')\n",
        "nltk.download('punkt_tab')\n",
        "nltk.download('averaged_perceptron_tagger_eng')"
      ],
      "metadata": {
        "colab": {
          "base_uri": "https://localhost:8080/"
        },
        "id": "sKPHmGVXfr9c",
        "outputId": "75dc4efa-5400-46ec-8259-c628fa4f1060"
      },
      "execution_count": 161,
      "outputs": [
        {
          "output_type": "stream",
          "name": "stderr",
          "text": [
            "[nltk_data] Downloading package punkt to /root/nltk_data...\n",
            "[nltk_data]   Package punkt is already up-to-date!\n",
            "[nltk_data] Downloading package punkt_tab to /root/nltk_data...\n",
            "[nltk_data]   Package punkt_tab is already up-to-date!\n",
            "[nltk_data] Downloading package averaged_perceptron_tagger_eng to\n",
            "[nltk_data]     /root/nltk_data...\n",
            "[nltk_data]   Package averaged_perceptron_tagger_eng is already up-to-\n",
            "[nltk_data]       date!\n"
          ]
        },
        {
          "output_type": "execute_result",
          "data": {
            "text/plain": [
              "True"
            ]
          },
          "metadata": {},
          "execution_count": 161
        }
      ]
    },
    {
      "cell_type": "code",
      "source": [
        "def get_pos_tags(text):\n",
        "    if pd.isna(text):\n",
        "        return None\n",
        "    tagged_sentences = []\n",
        "    for sent in sent_tokenize(text):\n",
        "        tokens = word_tokenize(sent)\n",
        "        tags = pos_tag(tokens)\n",
        "        tagged_sentences.append(tags)\n",
        "    return tagged_sentences"
      ],
      "metadata": {
        "id": "Mrdf9rKrfuVe"
      },
      "execution_count": 162,
      "outputs": []
    },
    {
      "cell_type": "code",
      "source": [
        "df_good_text[\"POS_tags_pos_char\"] = df_good_text[\"Personal characteristics POSITIVE\"].apply(get_pos_tags)"
      ],
      "metadata": {
        "id": "_NgQxm2PiPx9"
      },
      "execution_count": 163,
      "outputs": []
    },
    {
      "cell_type": "code",
      "source": [
        "df_good_text[\"POS_tags_neg_char\"] = df_good_text[\"Personal characteristics NEGATIVE\"].apply(get_pos_tags)"
      ],
      "metadata": {
        "id": "KrUodtIkjIoN"
      },
      "execution_count": 164,
      "outputs": []
    },
    {
      "cell_type": "code",
      "source": [
        "df_good_text[\"POS_tags_health_pos\"] = df_good_text[\"Universal healthcare POSITIVE\"].apply(get_pos_tags)"
      ],
      "metadata": {
        "id": "PY-rDB-ljQnY"
      },
      "execution_count": 165,
      "outputs": []
    },
    {
      "cell_type": "code",
      "source": [
        "df_good_text[\"POS_tags_health_neg\"] = df_good_text[\"Universal healthcare NEGATIVE\"].apply(get_pos_tags)"
      ],
      "metadata": {
        "id": "gwL1HOXMjfwy"
      },
      "execution_count": 166,
      "outputs": []
    },
    {
      "cell_type": "markdown",
      "source": [
        "*SAME ADJ and SAME ADJ*"
      ],
      "metadata": {
        "id": "-N6c1XkGj6cI"
      }
    },
    {
      "cell_type": "code",
      "source": [
        "#search for (\"anyword\", 'ADJ') followed by (\"anyword\", 'ADJ')"
      ],
      "metadata": {
        "id": "Spys67RWkpyX"
      },
      "execution_count": 167,
      "outputs": []
    },
    {
      "cell_type": "code",
      "source": [
        "def count_repeated_adj(tags):\n",
        "    if tags is None:\n",
        "        return 0\n",
        "\n",
        "    count = 0\n",
        "    for sent in tags:\n",
        "        for i in range(len(sent) - 2):\n",
        "            w1, p1 = sent[i]\n",
        "            w2, p2 = sent[i+1]\n",
        "            w3, p3 = sent[i+2]\n",
        "\n",
        "            if p1.startswith(\"JJ\") and p3.startswith(\"JJ\") and w1.lower() == w3.lower() and w2.lower() == \"and\":\n",
        "                count += 1\n",
        "    return count"
      ],
      "metadata": {
        "id": "kalbadPIpoFm"
      },
      "execution_count": 168,
      "outputs": []
    },
    {
      "cell_type": "code",
      "source": [
        "df_good_text[\"pos_char_repeated_adj\"] = df_good_text[\"POS_tags_pos_char\"].apply(count_repeated_adj)"
      ],
      "metadata": {
        "id": "ueaz81qvvVFh"
      },
      "execution_count": 169,
      "outputs": []
    },
    {
      "cell_type": "code",
      "source": [
        "df_good_text[\"neg_char_repeated_adj\"] = df_good_text[\"POS_tags_neg_char\"].apply(count_repeated_adj)\n",
        "df_good_text[\"health_pos_repeated_adj\"] = df_good_text[\"POS_tags_health_pos\"].apply(count_repeated_adj)\n",
        "df_good_text[\"health_neg_repeated_adj\"] = df_good_text[\"POS_tags_health_neg\"].apply(count_repeated_adj)"
      ],
      "metadata": {
        "id": "EYCq2k5LvjpP"
      },
      "execution_count": 170,
      "outputs": []
    },
    {
      "cell_type": "markdown",
      "source": [
        "*at ADJ times*"
      ],
      "metadata": {
        "id": "zeHHp_KNkCPX"
      }
    },
    {
      "cell_type": "code",
      "source": [
        "#search for (\"at\", 'IN'), (\"anyword\", 'ADJ'), (\"times\", 'NOUN')"
      ],
      "metadata": {
        "id": "xKQt11IBkxm3"
      },
      "execution_count": 171,
      "outputs": []
    },
    {
      "cell_type": "code",
      "source": [
        "def count_at_adj_times(tags):\n",
        "    if tags is None:\n",
        "        return 0\n",
        "\n",
        "    count = 0\n",
        "    for sent in tags:\n",
        "        for i in range(len(sent) - 2):\n",
        "            w1, p1 = sent[i]\n",
        "            w2, p2 = sent[i+1]\n",
        "            w3, p3 = sent[i+2]\n",
        "\n",
        "            if w1.lower() == \"at\" and p1 == (\"IN\") and p2 == (\"JJ\") and w3.lower() == \"times\" and p3 == \"NOUN\":\n",
        "                count += 1\n",
        "    return count"
      ],
      "metadata": {
        "id": "omGuzZgTvvSh"
      },
      "execution_count": 172,
      "outputs": []
    },
    {
      "cell_type": "code",
      "source": [
        "df_good_text[\"pos_char_at_adj_times\"] = df_good_text[\"POS_tags_pos_char\"].apply(count_at_adj_times)"
      ],
      "metadata": {
        "id": "2Dwa25U-xF1C"
      },
      "execution_count": 173,
      "outputs": []
    },
    {
      "cell_type": "code",
      "source": [
        "df_good_text[\"neg_char_at_adj_times\"] = df_good_text[\"POS_tags_neg_char\"].apply(count_at_adj_times)\n",
        "df_good_text[\"health_pos_at_adj_times\"] = df_good_text[\"POS_tags_health_pos\"].apply(count_at_adj_times)\n",
        "df_good_text[\"health_neg_at_adj_times\"] = df_good_text[\"POS_tags_health_neg\"].apply(count_at_adj_times)"
      ],
      "metadata": {
        "id": "TSTmL6YgxUuL"
      },
      "execution_count": 174,
      "outputs": []
    },
    {
      "cell_type": "code",
      "source": [
        "df_good_text.to_csv(\"df_good_text.csv\")"
      ],
      "metadata": {
        "id": "Gh33tYK35lSu"
      },
      "execution_count": 175,
      "outputs": []
    },
    {
      "cell_type": "code",
      "source": [
        "#rename\n",
        "df_good_text = df_good_text.rename(columns={\"Personal characteristics POSITIVE_superlatives\" : \"superlatives_pos_char\",\n",
        "                            \"Personal characteristics NEGATIVE_superlatives\" : \"superlatives_neg_char\",\n",
        "                             \"Universal healthcare POSITIVE_superlatives\" : \"superlatives_healthcare_pos\",\n",
        "                             \"Universal healthcare NEGATIVE_superlatives\": \"superlatives_healthcare_neg\",\n",
        "                                            \"Personal characteristics POSITIVE_caps\" : \"caps_pos_char\",\n",
        "                                            \"Personal characteristics NEGATIVE_caps\" : \"caps_neg_char\",\n",
        "                                           \"Universal healthcare POSITIVE_caps\" : \"caps_health_pos\",\n",
        "                                             \"Universal healthcare NEGATIVE_caps\" : \"caps_health_neg\"})\n"
      ],
      "metadata": {
        "collapsed": true,
        "id": "CpDd36w84wWv"
      },
      "execution_count": 176,
      "outputs": []
    },
    {
      "cell_type": "code",
      "source": [
        "#add those features to the dict (sum them in the total count)\n",
        "\n",
        "# add exlamation_count, superlatives, CAPSed words, SAME and SAME ADJ to intensifiers and amplified\n",
        "# add three_doct_count to detensifiers and attenuated\n",
        "# add at ADJ times to specification and attenuated"
      ],
      "metadata": {
        "id": "MJsmQJ2IMz2d"
      },
      "execution_count": 177,
      "outputs": []
    },
    {
      "cell_type": "code",
      "source": [
        "new_pos_char = df_good_text[[\"exclamation_count_pos_char\", \"three_dots_count_pos_char\", \"superlatives_pos_char\", \"caps_pos_char\", \"pos_char_at_adj_times\", \"pos_char_repeated_adj\"]]\n",
        "new_neg_char = df_good_text[[\"exclamation_count_neg_char\", \"three_dots_count_neg_char\", \"superlatives_neg_char\", \"caps_neg_char\", \"neg_char_at_adj_times\", \"neg_char_repeated_adj\"]]\n",
        "new_healthcare_pos = df_good_text[[\"exclamation_count_healthcare_pos\", \"three_dots_count_healthcare_pos\", \"superlatives_healthcare_pos\", \"caps_health_pos\", \"health_pos_at_adj_times\", \"health_pos_repeated_adj\"]]\n",
        "new_healthcare_neg = df_good_text[[\"exclamation_count_healthcare_neg\", \"three_dots_count_healthcare_neg\", \"superlatives_healthcare_neg\", \"caps_health_neg\", \"health_neg_at_adj_times\", \"health_neg_repeated_adj\"]]"
      ],
      "metadata": {
        "collapsed": true,
        "id": "9luTDsFT9rvF"
      },
      "execution_count": 178,
      "outputs": []
    },
    {
      "cell_type": "code",
      "source": [
        "pos_char_all_features = pd.concat([new_pos_char, pos_char_dict_counts], axis=1, join=\"inner\")"
      ],
      "metadata": {
        "id": "4owxjtRL_DEB"
      },
      "execution_count": 179,
      "outputs": []
    },
    {
      "cell_type": "code",
      "source": [
        "# add exclamation_count_pos_char and superlatives_pos_char to intensifier and amplified\n",
        "pos_char_all_features[\"intensifier\"] = pos_char_all_features[\"intensifier\"] + pos_char_all_features[\"exclamation_count_pos_char\"] + pos_char_all_features[\"superlatives_pos_char\"] + pos_char_all_features[\"caps_pos_char\"] + pos_char_all_features[\"pos_char_repeated_adj\"]\n",
        "pos_char_all_features[\"amplified\"] = pos_char_all_features[\"amplified\"] + pos_char_all_features[\"exclamation_count_pos_char\"] + pos_char_all_features[\"superlatives_pos_char\"] + pos_char_all_features[\"caps_pos_char\"] + pos_char_all_features[\"pos_char_repeated_adj\"]\n",
        "\n",
        "# add three_dots_count_pos_char and ish_pos_char to detensifier and attenuated\n",
        "pos_char_all_features[\"detensifier\"] = pos_char_all_features[\"detensifier\"] + pos_char_all_features[\"three_dots_count_pos_char\"]\n",
        "pos_char_all_features[\"attenuated\"] = pos_char_all_features[\"attenuated\"] + pos_char_all_features[\"three_dots_count_pos_char\"]\n",
        "\n",
        "# add at adj times to specification and attenuated\n",
        "pos_char_all_features[\"specification\"] = pos_char_all_features[\"specification\"] + pos_char_all_features[\"pos_char_at_adj_times\"]\n",
        "pos_char_all_features[\"attenuated\"] = pos_char_all_features[\"attenuated\"] + pos_char_all_features[\"pos_char_at_adj_times\"]"
      ],
      "metadata": {
        "id": "7ZnKtqIMAHGF"
      },
      "execution_count": 180,
      "outputs": []
    },
    {
      "cell_type": "code",
      "source": [
        "pos_char_all_features = pos_char_all_features.drop(columns=[\"exclamation_count_pos_char\", \"three_dots_count_pos_char\", \"superlatives_pos_char\", \"caps_pos_char\", \"pos_char_repeated_adj\", \"pos_char_at_adj_times\"])"
      ],
      "metadata": {
        "id": "gagfl36KAUPK"
      },
      "execution_count": 181,
      "outputs": []
    },
    {
      "cell_type": "markdown",
      "source": [
        "neg char dictionary"
      ],
      "metadata": {
        "id": "9imGNSA3BQDH"
      }
    },
    {
      "cell_type": "code",
      "source": [
        "neg_char_dict_counts = aggregate_ngrams_by_subgroup_and_group(neg_char_signals, dictmeta)\n",
        "neg_char_dict_counts = neg_char_dict_counts.join(essays[\"WC_neg_char\"])"
      ],
      "metadata": {
        "id": "OjKZ_hhpA_D7"
      },
      "execution_count": 182,
      "outputs": []
    },
    {
      "cell_type": "code",
      "source": [
        "neg_char_all_features = pd.concat([new_neg_char, neg_char_dict_counts], axis=1, join=\"inner\")"
      ],
      "metadata": {
        "collapsed": true,
        "id": "VjcmgQTmBB5a"
      },
      "execution_count": 183,
      "outputs": []
    },
    {
      "cell_type": "code",
      "source": [
        "neg_char_all_features[\"intensifier\"] = neg_char_all_features[\"intensifier\"] + neg_char_all_features[\"exclamation_count_neg_char\"] + neg_char_all_features[\"superlatives_neg_char\"] + neg_char_all_features[\"caps_neg_char\"] + neg_char_all_features[\"neg_char_repeated_adj\"]\n",
        "neg_char_all_features[\"amplified\"] = neg_char_all_features[\"amplified\"] + neg_char_all_features[\"exclamation_count_neg_char\"] + neg_char_all_features[\"superlatives_neg_char\"]  + neg_char_all_features[\"caps_neg_char\"] + neg_char_all_features[\"neg_char_repeated_adj\"]\n",
        "\n",
        "neg_char_all_features[\"detensifier\"] = neg_char_all_features[\"detensifier\"] + neg_char_all_features[\"three_dots_count_neg_char\"]\n",
        "neg_char_all_features[\"attenuated\"] = neg_char_all_features[\"attenuated\"] + neg_char_all_features[\"three_dots_count_neg_char\"]\n",
        "\n",
        "neg_char_all_features[\"specification\"] = neg_char_all_features[\"specification\"] + neg_char_all_features[\"neg_char_at_adj_times\"]\n",
        "neg_char_all_features[\"attenuated\"] = neg_char_all_features[\"attenuated\"] + neg_char_all_features[\"neg_char_at_adj_times\"]"
      ],
      "metadata": {
        "id": "tLrT-d-1BB5b"
      },
      "execution_count": 184,
      "outputs": []
    },
    {
      "cell_type": "code",
      "source": [
        "neg_char_all_features = neg_char_all_features.drop(columns=[\"exclamation_count_neg_char\", \"three_dots_count_neg_char\", \"superlatives_neg_char\", \"caps_neg_char\", \"neg_char_repeated_adj\", \"neg_char_at_adj_times\"])"
      ],
      "metadata": {
        "id": "H-fIuDdlBB5c"
      },
      "execution_count": 185,
      "outputs": []
    },
    {
      "cell_type": "markdown",
      "source": [
        "universal healthcare positive"
      ],
      "metadata": {
        "id": "5p2GKg8pBtEB"
      }
    },
    {
      "cell_type": "code",
      "source": [
        "pos_healthcare_dict_counts = aggregate_ngrams_by_subgroup_and_group(pos_healthcare_signals, dictmeta)\n",
        "pos_healthcare_dict_counts = pos_healthcare_dict_counts.join(essays[\"WC_health_pos\"])"
      ],
      "metadata": {
        "id": "o48hr2enBu3a"
      },
      "execution_count": 186,
      "outputs": []
    },
    {
      "cell_type": "code",
      "source": [
        "health_pos_all_features = pd.concat([new_healthcare_pos, pos_healthcare_dict_counts], axis=1, join=\"inner\")"
      ],
      "metadata": {
        "collapsed": true,
        "id": "Bjx2ERw6B237"
      },
      "execution_count": 187,
      "outputs": []
    },
    {
      "cell_type": "code",
      "source": [
        "health_pos_all_features[\"intensifier\"] = health_pos_all_features[\"intensifier\"] + health_pos_all_features[\"exclamation_count_healthcare_pos\"] + health_pos_all_features[\"superlatives_healthcare_pos\"] + health_pos_all_features[\"caps_health_pos\"] + health_pos_all_features[\"health_pos_repeated_adj\"]\n",
        "health_pos_all_features[\"amplified\"] = health_pos_all_features[\"amplified\"] + health_pos_all_features[\"exclamation_count_healthcare_pos\"] + health_pos_all_features[\"superlatives_healthcare_pos\"] + health_pos_all_features[\"caps_health_pos\"] + health_pos_all_features[\"health_pos_repeated_adj\"]\n",
        "\n",
        "health_pos_all_features[\"detensifier\"] = health_pos_all_features[\"detensifier\"] + health_pos_all_features[\"three_dots_count_healthcare_pos\"]\n",
        "health_pos_all_features[\"attenuated\"] = health_pos_all_features[\"attenuated\"] + health_pos_all_features[\"three_dots_count_healthcare_pos\"]\n",
        "\n",
        "health_pos_all_features[\"specification\"] = health_pos_all_features[\"specification\"] + health_pos_all_features[\"health_pos_at_adj_times\"]\n",
        "health_pos_all_features[\"attenuated\"] = health_pos_all_features[\"attenuated\"] + health_pos_all_features[\"health_pos_at_adj_times\"]"
      ],
      "metadata": {
        "id": "I89mnAZ6B238"
      },
      "execution_count": 188,
      "outputs": []
    },
    {
      "cell_type": "code",
      "source": [
        "health_pos_all_features = health_pos_all_features.drop(columns=[\"exclamation_count_healthcare_pos\", \"three_dots_count_healthcare_pos\", \"superlatives_healthcare_pos\", \"caps_health_pos\", \"health_pos_repeated_adj\", \"health_pos_at_adj_times\"])"
      ],
      "metadata": {
        "id": "xwD6m_sUB239"
      },
      "execution_count": 189,
      "outputs": []
    },
    {
      "cell_type": "markdown",
      "source": [
        "universal healthcare negative"
      ],
      "metadata": {
        "id": "YQpqJJxaCw71"
      }
    },
    {
      "cell_type": "code",
      "source": [
        "neg_healthcare_dict_counts = aggregate_ngrams_by_subgroup_and_group(neg_healthcare_signals, dictmeta)\n",
        "neg_healthcare_dict_counts = neg_healthcare_dict_counts.join(essays[\"WC_health_neg\"])"
      ],
      "metadata": {
        "id": "WxQuYmCiCzqw"
      },
      "execution_count": 190,
      "outputs": []
    },
    {
      "cell_type": "code",
      "source": [
        "health_neg_all_features = pd.concat([new_healthcare_neg, neg_healthcare_dict_counts], axis=1, join=\"inner\")"
      ],
      "metadata": {
        "collapsed": true,
        "id": "d315ZrsxC7qT"
      },
      "execution_count": 191,
      "outputs": []
    },
    {
      "cell_type": "code",
      "source": [
        "health_neg_all_features[\"intensifier\"] = health_neg_all_features[\"intensifier\"] + health_neg_all_features[\"exclamation_count_healthcare_neg\"] + health_neg_all_features[\"superlatives_healthcare_neg\"] + health_neg_all_features[\"caps_health_neg\"] + health_neg_all_features[\"health_neg_repeated_adj\"]\n",
        "health_neg_all_features['amplified'] = health_neg_all_features[\"amplified\"] + health_neg_all_features[\"exclamation_count_healthcare_neg\"] + health_neg_all_features[\"superlatives_healthcare_neg\"] + health_neg_all_features[\"caps_health_neg\"] + health_neg_all_features[\"health_neg_repeated_adj\"]\n",
        "\n",
        "health_neg_all_features[\"detensifier\"] = health_neg_all_features[\"detensifier\"] + health_neg_all_features[\"three_dots_count_healthcare_neg\"]\n",
        "health_neg_all_features[\"attenuated\"] = health_neg_all_features[\"attenuated\"] + health_neg_all_features[\"three_dots_count_healthcare_neg\"]\n",
        "\n",
        "health_neg_all_features[\"specification\"] = health_neg_all_features[\"specification\"] + health_neg_all_features[\"health_neg_at_adj_times\"]\n",
        "health_neg_all_features[\"attenuated\"] = health_neg_all_features[\"attenuated\"] + health_neg_all_features[\"health_neg_at_adj_times\"]"
      ],
      "metadata": {
        "id": "g4R7xnWoC7qU"
      },
      "execution_count": 192,
      "outputs": []
    },
    {
      "cell_type": "code",
      "source": [
        "health_neg_all_features = health_neg_all_features.drop(columns=[\"exclamation_count_healthcare_neg\", \"three_dots_count_healthcare_neg\", \"superlatives_healthcare_neg\", \"caps_health_neg\", \"health_neg_repeated_adj\", \"health_neg_at_adj_times\"])"
      ],
      "metadata": {
        "id": "G9T9TMgRC7qV"
      },
      "execution_count": 193,
      "outputs": []
    },
    {
      "cell_type": "markdown",
      "source": [
        "Normalized dictionary features"
      ],
      "metadata": {
        "id": "y8NLBHWHMifJ"
      }
    },
    {
      "cell_type": "code",
      "source": [
        "pos_char_dict = normalize_by_column(pos_char_all_features, denominator_col=\"WC_pos_char\")"
      ],
      "metadata": {
        "id": "fHP7CCzVOR59"
      },
      "execution_count": 194,
      "outputs": []
    },
    {
      "cell_type": "code",
      "source": [
        "neg_char_dict = normalize_by_column(neg_char_all_features, denominator_col=\"WC_neg_char\")"
      ],
      "metadata": {
        "id": "fchf-5h4N2lo"
      },
      "execution_count": 195,
      "outputs": []
    },
    {
      "cell_type": "code",
      "source": [
        "pos_healthcare_dict = normalize_by_column(health_pos_all_features, denominator_col=\"WC_health_pos\")"
      ],
      "metadata": {
        "id": "cXQkUNB_N35i"
      },
      "execution_count": 196,
      "outputs": []
    },
    {
      "cell_type": "code",
      "source": [
        "neg_healthcare_dict = normalize_by_column(health_neg_all_features, denominator_col=\"WC_health_neg\")"
      ],
      "metadata": {
        "collapsed": true,
        "id": "-6WmFAKVN3v7"
      },
      "execution_count": 197,
      "outputs": []
    },
    {
      "cell_type": "markdown",
      "source": [
        "Rename signals"
      ],
      "metadata": {
        "id": "jgZjGHbr5o6n"
      }
    },
    {
      "cell_type": "code",
      "source": [
        "pos_char_signals = pos_char_signals.drop(columns = [\"ID\"])"
      ],
      "metadata": {
        "id": "vd6roAAWY79q"
      },
      "execution_count": 198,
      "outputs": []
    },
    {
      "cell_type": "code",
      "source": [
        "pos_char_signals = pos_char_signals.add_suffix(\"_pos_char\")\n",
        "neg_char_signals = neg_char_signals.add_suffix(\"_neg_char\")"
      ],
      "metadata": {
        "id": "TXDLtCll4nKW"
      },
      "execution_count": 199,
      "outputs": []
    },
    {
      "cell_type": "code",
      "source": [
        "pos_healthcare_signals = pos_healthcare_signals.add_suffix(\"_pos_healthcare\")\n",
        "neg_healthcare_signals = neg_healthcare_signals.add_suffix(\"_neg_healthcare\")"
      ],
      "metadata": {
        "id": "epcM0DRa5loh"
      },
      "execution_count": 200,
      "outputs": []
    },
    {
      "cell_type": "code",
      "source": [
        "df_signals = pd.concat([pos_char_signals, neg_char_signals, pos_healthcare_signals, neg_healthcare_signals], axis=1, join=\"inner\")"
      ],
      "metadata": {
        "id": "x4uljdsY5n00"
      },
      "execution_count": 201,
      "outputs": []
    },
    {
      "cell_type": "markdown",
      "source": [
        "rename dictionary"
      ],
      "metadata": {
        "id": "7yD64CfKiG1C"
      }
    },
    {
      "cell_type": "code",
      "source": [
        "pos_char_dict = pos_char_dict.add_suffix(\"_dict_pos_char\")\n",
        "neg_char_dict = neg_char_dict.add_suffix(\"_dict_neg_char\")\n",
        "pos_healthcare_dict = pos_healthcare_dict.add_suffix(\"_dict_pos_healthcare\")\n",
        "neg_healthcare_dict = neg_healthcare_dict.add_suffix(\"_dict_neg_healthcare\")"
      ],
      "metadata": {
        "collapsed": true,
        "id": "Fa5NBX_DiGLn"
      },
      "execution_count": 202,
      "outputs": []
    },
    {
      "cell_type": "code",
      "source": [
        "df_dict = pd.concat([pos_char_dict, neg_char_dict, pos_healthcare_dict, neg_healthcare_dict], axis=1, join=\"inner\")"
      ],
      "metadata": {
        "id": "SrLyNUjYVWsO"
      },
      "execution_count": 203,
      "outputs": []
    },
    {
      "cell_type": "code",
      "source": [
        "df_dict.head()"
      ],
      "metadata": {
        "collapsed": true,
        "colab": {
          "base_uri": "https://localhost:8080/",
          "height": 256
        },
        "outputId": "d14c3eb1-ecd1-4ff7-b83a-b3a1f6eb44cd",
        "id": "Bqgp0gteVWsO"
      },
      "execution_count": 204,
      "outputs": [
        {
          "output_type": "execute_result",
          "data": {
            "text/plain": [
              "                          amplified_dict_pos_char  attenuated_dict_pos_char  \\\n",
              "6716638eb68bb8ffd91a564d                 0.000000                  0.000000   \n",
              "675c63b9b4283bc639a84666                 0.000000                  0.000000   \n",
              "67606dd306bf1a14a332f78b                 0.000000                  0.000000   \n",
              "674167869d64d2b4fc734165                 0.000000                  0.000000   \n",
              "63ea6e6d78fced1e97a149c8                 5.945946                  4.864865   \n",
              "\n",
              "                          certainty_dict_pos_char  detensifier_dict_pos_char  \\\n",
              "6716638eb68bb8ffd91a564d                      0.0                        0.0   \n",
              "675c63b9b4283bc639a84666                      0.0                        0.0   \n",
              "67606dd306bf1a14a332f78b                      0.0                        0.0   \n",
              "674167869d64d2b4fc734165                      0.0                        0.0   \n",
              "63ea6e6d78fced1e97a149c8                      0.0                        0.0   \n",
              "\n",
              "                          generalization_dict_pos_char  \\\n",
              "6716638eb68bb8ffd91a564d                      0.000000   \n",
              "675c63b9b4283bc639a84666                      0.000000   \n",
              "67606dd306bf1a14a332f78b                      0.000000   \n",
              "674167869d64d2b4fc734165                      0.000000   \n",
              "63ea6e6d78fced1e97a149c8                      1.621622   \n",
              "\n",
              "                          intensifier_dict_pos_char  \\\n",
              "6716638eb68bb8ffd91a564d                   0.000000   \n",
              "675c63b9b4283bc639a84666                   0.000000   \n",
              "67606dd306bf1a14a332f78b                   0.000000   \n",
              "674167869d64d2b4fc734165                   0.000000   \n",
              "63ea6e6d78fced1e97a149c8                   4.324324   \n",
              "\n",
              "                          specification_dict_pos_char  \\\n",
              "6716638eb68bb8ffd91a564d                     0.000000   \n",
              "675c63b9b4283bc639a84666                     0.000000   \n",
              "67606dd306bf1a14a332f78b                     0.000000   \n",
              "674167869d64d2b4fc734165                     0.000000   \n",
              "63ea6e6d78fced1e97a149c8                     2.162162   \n",
              "\n",
              "                          uncertainty_dict_pos_char  amplified_dict_neg_char  \\\n",
              "6716638eb68bb8ffd91a564d                   0.000000                 0.000000   \n",
              "675c63b9b4283bc639a84666                   0.000000                 0.000000   \n",
              "67606dd306bf1a14a332f78b                   0.000000                 0.000000   \n",
              "674167869d64d2b4fc734165                   0.000000                 0.000000   \n",
              "63ea6e6d78fced1e97a149c8                   2.702703                 3.626943   \n",
              "\n",
              "                          attenuated_dict_neg_char  ...  \\\n",
              "6716638eb68bb8ffd91a564d                  0.000000  ...   \n",
              "675c63b9b4283bc639a84666                  0.000000  ...   \n",
              "67606dd306bf1a14a332f78b                  0.000000  ...   \n",
              "674167869d64d2b4fc734165                  0.000000  ...   \n",
              "63ea6e6d78fced1e97a149c8                  7.772021  ...   \n",
              "\n",
              "                          specification_dict_pos_healthcare  \\\n",
              "6716638eb68bb8ffd91a564d                           0.000000   \n",
              "675c63b9b4283bc639a84666                           0.000000   \n",
              "67606dd306bf1a14a332f78b                           0.000000   \n",
              "674167869d64d2b4fc734165                           0.000000   \n",
              "63ea6e6d78fced1e97a149c8                           0.641026   \n",
              "\n",
              "                          uncertainty_dict_pos_healthcare  \\\n",
              "6716638eb68bb8ffd91a564d                         0.000000   \n",
              "675c63b9b4283bc639a84666                         0.000000   \n",
              "67606dd306bf1a14a332f78b                         0.000000   \n",
              "674167869d64d2b4fc734165                         0.000000   \n",
              "63ea6e6d78fced1e97a149c8                         5.128205   \n",
              "\n",
              "                          amplified_dict_neg_healthcare  \\\n",
              "6716638eb68bb8ffd91a564d                       0.000000   \n",
              "675c63b9b4283bc639a84666                       0.000000   \n",
              "67606dd306bf1a14a332f78b                       0.000000   \n",
              "674167869d64d2b4fc734165                       0.000000   \n",
              "63ea6e6d78fced1e97a149c8                       1.104972   \n",
              "\n",
              "                          attenuated_dict_neg_healthcare  \\\n",
              "6716638eb68bb8ffd91a564d                        0.000000   \n",
              "675c63b9b4283bc639a84666                        0.000000   \n",
              "67606dd306bf1a14a332f78b                        0.000000   \n",
              "674167869d64d2b4fc734165                        0.000000   \n",
              "63ea6e6d78fced1e97a149c8                        8.287293   \n",
              "\n",
              "                          certainty_dict_neg_healthcare  \\\n",
              "6716638eb68bb8ffd91a564d                            0.0   \n",
              "675c63b9b4283bc639a84666                            0.0   \n",
              "67606dd306bf1a14a332f78b                            0.0   \n",
              "674167869d64d2b4fc734165                            0.0   \n",
              "63ea6e6d78fced1e97a149c8                            0.0   \n",
              "\n",
              "                          detensifier_dict_neg_healthcare  \\\n",
              "6716638eb68bb8ffd91a564d                              0.0   \n",
              "675c63b9b4283bc639a84666                              0.0   \n",
              "67606dd306bf1a14a332f78b                              0.0   \n",
              "674167869d64d2b4fc734165                              0.0   \n",
              "63ea6e6d78fced1e97a149c8                              0.0   \n",
              "\n",
              "                          generalization_dict_neg_healthcare  \\\n",
              "6716638eb68bb8ffd91a564d                            0.000000   \n",
              "675c63b9b4283bc639a84666                            0.000000   \n",
              "67606dd306bf1a14a332f78b                            0.000000   \n",
              "674167869d64d2b4fc734165                            0.000000   \n",
              "63ea6e6d78fced1e97a149c8                            1.104972   \n",
              "\n",
              "                          intensifier_dict_neg_healthcare  \\\n",
              "6716638eb68bb8ffd91a564d                              0.0   \n",
              "675c63b9b4283bc639a84666                              0.0   \n",
              "67606dd306bf1a14a332f78b                              0.0   \n",
              "674167869d64d2b4fc734165                              0.0   \n",
              "63ea6e6d78fced1e97a149c8                              0.0   \n",
              "\n",
              "                          specification_dict_neg_healthcare  \\\n",
              "6716638eb68bb8ffd91a564d                           0.000000   \n",
              "675c63b9b4283bc639a84666                           0.000000   \n",
              "67606dd306bf1a14a332f78b                           0.000000   \n",
              "674167869d64d2b4fc734165                           0.000000   \n",
              "63ea6e6d78fced1e97a149c8                           1.104972   \n",
              "\n",
              "                          uncertainty_dict_neg_healthcare  \n",
              "6716638eb68bb8ffd91a564d                          0.00000  \n",
              "675c63b9b4283bc639a84666                          0.00000  \n",
              "67606dd306bf1a14a332f78b                          0.00000  \n",
              "674167869d64d2b4fc734165                          0.00000  \n",
              "63ea6e6d78fced1e97a149c8                          7.18232  \n",
              "\n",
              "[5 rows x 32 columns]"
            ],
            "text/html": [
              "\n",
              "  <div id=\"df-edf8e299-7821-4e4c-8993-1d590f46b2c3\" class=\"colab-df-container\">\n",
              "    <div>\n",
              "<style scoped>\n",
              "    .dataframe tbody tr th:only-of-type {\n",
              "        vertical-align: middle;\n",
              "    }\n",
              "\n",
              "    .dataframe tbody tr th {\n",
              "        vertical-align: top;\n",
              "    }\n",
              "\n",
              "    .dataframe thead th {\n",
              "        text-align: right;\n",
              "    }\n",
              "</style>\n",
              "<table border=\"1\" class=\"dataframe\">\n",
              "  <thead>\n",
              "    <tr style=\"text-align: right;\">\n",
              "      <th></th>\n",
              "      <th>amplified_dict_pos_char</th>\n",
              "      <th>attenuated_dict_pos_char</th>\n",
              "      <th>certainty_dict_pos_char</th>\n",
              "      <th>detensifier_dict_pos_char</th>\n",
              "      <th>generalization_dict_pos_char</th>\n",
              "      <th>intensifier_dict_pos_char</th>\n",
              "      <th>specification_dict_pos_char</th>\n",
              "      <th>uncertainty_dict_pos_char</th>\n",
              "      <th>amplified_dict_neg_char</th>\n",
              "      <th>attenuated_dict_neg_char</th>\n",
              "      <th>...</th>\n",
              "      <th>specification_dict_pos_healthcare</th>\n",
              "      <th>uncertainty_dict_pos_healthcare</th>\n",
              "      <th>amplified_dict_neg_healthcare</th>\n",
              "      <th>attenuated_dict_neg_healthcare</th>\n",
              "      <th>certainty_dict_neg_healthcare</th>\n",
              "      <th>detensifier_dict_neg_healthcare</th>\n",
              "      <th>generalization_dict_neg_healthcare</th>\n",
              "      <th>intensifier_dict_neg_healthcare</th>\n",
              "      <th>specification_dict_neg_healthcare</th>\n",
              "      <th>uncertainty_dict_neg_healthcare</th>\n",
              "    </tr>\n",
              "  </thead>\n",
              "  <tbody>\n",
              "    <tr>\n",
              "      <th>6716638eb68bb8ffd91a564d</th>\n",
              "      <td>0.000000</td>\n",
              "      <td>0.000000</td>\n",
              "      <td>0.0</td>\n",
              "      <td>0.0</td>\n",
              "      <td>0.000000</td>\n",
              "      <td>0.000000</td>\n",
              "      <td>0.000000</td>\n",
              "      <td>0.000000</td>\n",
              "      <td>0.000000</td>\n",
              "      <td>0.000000</td>\n",
              "      <td>...</td>\n",
              "      <td>0.000000</td>\n",
              "      <td>0.000000</td>\n",
              "      <td>0.000000</td>\n",
              "      <td>0.000000</td>\n",
              "      <td>0.0</td>\n",
              "      <td>0.0</td>\n",
              "      <td>0.000000</td>\n",
              "      <td>0.0</td>\n",
              "      <td>0.000000</td>\n",
              "      <td>0.00000</td>\n",
              "    </tr>\n",
              "    <tr>\n",
              "      <th>675c63b9b4283bc639a84666</th>\n",
              "      <td>0.000000</td>\n",
              "      <td>0.000000</td>\n",
              "      <td>0.0</td>\n",
              "      <td>0.0</td>\n",
              "      <td>0.000000</td>\n",
              "      <td>0.000000</td>\n",
              "      <td>0.000000</td>\n",
              "      <td>0.000000</td>\n",
              "      <td>0.000000</td>\n",
              "      <td>0.000000</td>\n",
              "      <td>...</td>\n",
              "      <td>0.000000</td>\n",
              "      <td>0.000000</td>\n",
              "      <td>0.000000</td>\n",
              "      <td>0.000000</td>\n",
              "      <td>0.0</td>\n",
              "      <td>0.0</td>\n",
              "      <td>0.000000</td>\n",
              "      <td>0.0</td>\n",
              "      <td>0.000000</td>\n",
              "      <td>0.00000</td>\n",
              "    </tr>\n",
              "    <tr>\n",
              "      <th>67606dd306bf1a14a332f78b</th>\n",
              "      <td>0.000000</td>\n",
              "      <td>0.000000</td>\n",
              "      <td>0.0</td>\n",
              "      <td>0.0</td>\n",
              "      <td>0.000000</td>\n",
              "      <td>0.000000</td>\n",
              "      <td>0.000000</td>\n",
              "      <td>0.000000</td>\n",
              "      <td>0.000000</td>\n",
              "      <td>0.000000</td>\n",
              "      <td>...</td>\n",
              "      <td>0.000000</td>\n",
              "      <td>0.000000</td>\n",
              "      <td>0.000000</td>\n",
              "      <td>0.000000</td>\n",
              "      <td>0.0</td>\n",
              "      <td>0.0</td>\n",
              "      <td>0.000000</td>\n",
              "      <td>0.0</td>\n",
              "      <td>0.000000</td>\n",
              "      <td>0.00000</td>\n",
              "    </tr>\n",
              "    <tr>\n",
              "      <th>674167869d64d2b4fc734165</th>\n",
              "      <td>0.000000</td>\n",
              "      <td>0.000000</td>\n",
              "      <td>0.0</td>\n",
              "      <td>0.0</td>\n",
              "      <td>0.000000</td>\n",
              "      <td>0.000000</td>\n",
              "      <td>0.000000</td>\n",
              "      <td>0.000000</td>\n",
              "      <td>0.000000</td>\n",
              "      <td>0.000000</td>\n",
              "      <td>...</td>\n",
              "      <td>0.000000</td>\n",
              "      <td>0.000000</td>\n",
              "      <td>0.000000</td>\n",
              "      <td>0.000000</td>\n",
              "      <td>0.0</td>\n",
              "      <td>0.0</td>\n",
              "      <td>0.000000</td>\n",
              "      <td>0.0</td>\n",
              "      <td>0.000000</td>\n",
              "      <td>0.00000</td>\n",
              "    </tr>\n",
              "    <tr>\n",
              "      <th>63ea6e6d78fced1e97a149c8</th>\n",
              "      <td>5.945946</td>\n",
              "      <td>4.864865</td>\n",
              "      <td>0.0</td>\n",
              "      <td>0.0</td>\n",
              "      <td>1.621622</td>\n",
              "      <td>4.324324</td>\n",
              "      <td>2.162162</td>\n",
              "      <td>2.702703</td>\n",
              "      <td>3.626943</td>\n",
              "      <td>7.772021</td>\n",
              "      <td>...</td>\n",
              "      <td>0.641026</td>\n",
              "      <td>5.128205</td>\n",
              "      <td>1.104972</td>\n",
              "      <td>8.287293</td>\n",
              "      <td>0.0</td>\n",
              "      <td>0.0</td>\n",
              "      <td>1.104972</td>\n",
              "      <td>0.0</td>\n",
              "      <td>1.104972</td>\n",
              "      <td>7.18232</td>\n",
              "    </tr>\n",
              "  </tbody>\n",
              "</table>\n",
              "<p>5 rows × 32 columns</p>\n",
              "</div>\n",
              "    <div class=\"colab-df-buttons\">\n",
              "\n",
              "  <div class=\"colab-df-container\">\n",
              "    <button class=\"colab-df-convert\" onclick=\"convertToInteractive('df-edf8e299-7821-4e4c-8993-1d590f46b2c3')\"\n",
              "            title=\"Convert this dataframe to an interactive table.\"\n",
              "            style=\"display:none;\">\n",
              "\n",
              "  <svg xmlns=\"http://www.w3.org/2000/svg\" height=\"24px\" viewBox=\"0 -960 960 960\">\n",
              "    <path d=\"M120-120v-720h720v720H120Zm60-500h600v-160H180v160Zm220 220h160v-160H400v160Zm0 220h160v-160H400v160ZM180-400h160v-160H180v160Zm440 0h160v-160H620v160ZM180-180h160v-160H180v160Zm440 0h160v-160H620v160Z\"/>\n",
              "  </svg>\n",
              "    </button>\n",
              "\n",
              "  <style>\n",
              "    .colab-df-container {\n",
              "      display:flex;\n",
              "      gap: 12px;\n",
              "    }\n",
              "\n",
              "    .colab-df-convert {\n",
              "      background-color: #E8F0FE;\n",
              "      border: none;\n",
              "      border-radius: 50%;\n",
              "      cursor: pointer;\n",
              "      display: none;\n",
              "      fill: #1967D2;\n",
              "      height: 32px;\n",
              "      padding: 0 0 0 0;\n",
              "      width: 32px;\n",
              "    }\n",
              "\n",
              "    .colab-df-convert:hover {\n",
              "      background-color: #E2EBFA;\n",
              "      box-shadow: 0px 1px 2px rgba(60, 64, 67, 0.3), 0px 1px 3px 1px rgba(60, 64, 67, 0.15);\n",
              "      fill: #174EA6;\n",
              "    }\n",
              "\n",
              "    .colab-df-buttons div {\n",
              "      margin-bottom: 4px;\n",
              "    }\n",
              "\n",
              "    [theme=dark] .colab-df-convert {\n",
              "      background-color: #3B4455;\n",
              "      fill: #D2E3FC;\n",
              "    }\n",
              "\n",
              "    [theme=dark] .colab-df-convert:hover {\n",
              "      background-color: #434B5C;\n",
              "      box-shadow: 0px 1px 3px 1px rgba(0, 0, 0, 0.15);\n",
              "      filter: drop-shadow(0px 1px 2px rgba(0, 0, 0, 0.3));\n",
              "      fill: #FFFFFF;\n",
              "    }\n",
              "  </style>\n",
              "\n",
              "    <script>\n",
              "      const buttonEl =\n",
              "        document.querySelector('#df-edf8e299-7821-4e4c-8993-1d590f46b2c3 button.colab-df-convert');\n",
              "      buttonEl.style.display =\n",
              "        google.colab.kernel.accessAllowed ? 'block' : 'none';\n",
              "\n",
              "      async function convertToInteractive(key) {\n",
              "        const element = document.querySelector('#df-edf8e299-7821-4e4c-8993-1d590f46b2c3');\n",
              "        const dataTable =\n",
              "          await google.colab.kernel.invokeFunction('convertToInteractive',\n",
              "                                                    [key], {});\n",
              "        if (!dataTable) return;\n",
              "\n",
              "        const docLinkHtml = 'Like what you see? Visit the ' +\n",
              "          '<a target=\"_blank\" href=https://colab.research.google.com/notebooks/data_table.ipynb>data table notebook</a>'\n",
              "          + ' to learn more about interactive tables.';\n",
              "        element.innerHTML = '';\n",
              "        dataTable['output_type'] = 'display_data';\n",
              "        await google.colab.output.renderOutput(dataTable, element);\n",
              "        const docLink = document.createElement('div');\n",
              "        docLink.innerHTML = docLinkHtml;\n",
              "        element.appendChild(docLink);\n",
              "      }\n",
              "    </script>\n",
              "  </div>\n",
              "\n",
              "\n",
              "    <div id=\"df-9dbae561-97cf-4ceb-a04a-6a5942cf167f\">\n",
              "      <button class=\"colab-df-quickchart\" onclick=\"quickchart('df-9dbae561-97cf-4ceb-a04a-6a5942cf167f')\"\n",
              "                title=\"Suggest charts\"\n",
              "                style=\"display:none;\">\n",
              "\n",
              "<svg xmlns=\"http://www.w3.org/2000/svg\" height=\"24px\"viewBox=\"0 0 24 24\"\n",
              "     width=\"24px\">\n",
              "    <g>\n",
              "        <path d=\"M19 3H5c-1.1 0-2 .9-2 2v14c0 1.1.9 2 2 2h14c1.1 0 2-.9 2-2V5c0-1.1-.9-2-2-2zM9 17H7v-7h2v7zm4 0h-2V7h2v10zm4 0h-2v-4h2v4z\"/>\n",
              "    </g>\n",
              "</svg>\n",
              "      </button>\n",
              "\n",
              "<style>\n",
              "  .colab-df-quickchart {\n",
              "      --bg-color: #E8F0FE;\n",
              "      --fill-color: #1967D2;\n",
              "      --hover-bg-color: #E2EBFA;\n",
              "      --hover-fill-color: #174EA6;\n",
              "      --disabled-fill-color: #AAA;\n",
              "      --disabled-bg-color: #DDD;\n",
              "  }\n",
              "\n",
              "  [theme=dark] .colab-df-quickchart {\n",
              "      --bg-color: #3B4455;\n",
              "      --fill-color: #D2E3FC;\n",
              "      --hover-bg-color: #434B5C;\n",
              "      --hover-fill-color: #FFFFFF;\n",
              "      --disabled-bg-color: #3B4455;\n",
              "      --disabled-fill-color: #666;\n",
              "  }\n",
              "\n",
              "  .colab-df-quickchart {\n",
              "    background-color: var(--bg-color);\n",
              "    border: none;\n",
              "    border-radius: 50%;\n",
              "    cursor: pointer;\n",
              "    display: none;\n",
              "    fill: var(--fill-color);\n",
              "    height: 32px;\n",
              "    padding: 0;\n",
              "    width: 32px;\n",
              "  }\n",
              "\n",
              "  .colab-df-quickchart:hover {\n",
              "    background-color: var(--hover-bg-color);\n",
              "    box-shadow: 0 1px 2px rgba(60, 64, 67, 0.3), 0 1px 3px 1px rgba(60, 64, 67, 0.15);\n",
              "    fill: var(--button-hover-fill-color);\n",
              "  }\n",
              "\n",
              "  .colab-df-quickchart-complete:disabled,\n",
              "  .colab-df-quickchart-complete:disabled:hover {\n",
              "    background-color: var(--disabled-bg-color);\n",
              "    fill: var(--disabled-fill-color);\n",
              "    box-shadow: none;\n",
              "  }\n",
              "\n",
              "  .colab-df-spinner {\n",
              "    border: 2px solid var(--fill-color);\n",
              "    border-color: transparent;\n",
              "    border-bottom-color: var(--fill-color);\n",
              "    animation:\n",
              "      spin 1s steps(1) infinite;\n",
              "  }\n",
              "\n",
              "  @keyframes spin {\n",
              "    0% {\n",
              "      border-color: transparent;\n",
              "      border-bottom-color: var(--fill-color);\n",
              "      border-left-color: var(--fill-color);\n",
              "    }\n",
              "    20% {\n",
              "      border-color: transparent;\n",
              "      border-left-color: var(--fill-color);\n",
              "      border-top-color: var(--fill-color);\n",
              "    }\n",
              "    30% {\n",
              "      border-color: transparent;\n",
              "      border-left-color: var(--fill-color);\n",
              "      border-top-color: var(--fill-color);\n",
              "      border-right-color: var(--fill-color);\n",
              "    }\n",
              "    40% {\n",
              "      border-color: transparent;\n",
              "      border-right-color: var(--fill-color);\n",
              "      border-top-color: var(--fill-color);\n",
              "    }\n",
              "    60% {\n",
              "      border-color: transparent;\n",
              "      border-right-color: var(--fill-color);\n",
              "    }\n",
              "    80% {\n",
              "      border-color: transparent;\n",
              "      border-right-color: var(--fill-color);\n",
              "      border-bottom-color: var(--fill-color);\n",
              "    }\n",
              "    90% {\n",
              "      border-color: transparent;\n",
              "      border-bottom-color: var(--fill-color);\n",
              "    }\n",
              "  }\n",
              "</style>\n",
              "\n",
              "      <script>\n",
              "        async function quickchart(key) {\n",
              "          const quickchartButtonEl =\n",
              "            document.querySelector('#' + key + ' button');\n",
              "          quickchartButtonEl.disabled = true;  // To prevent multiple clicks.\n",
              "          quickchartButtonEl.classList.add('colab-df-spinner');\n",
              "          try {\n",
              "            const charts = await google.colab.kernel.invokeFunction(\n",
              "                'suggestCharts', [key], {});\n",
              "          } catch (error) {\n",
              "            console.error('Error during call to suggestCharts:', error);\n",
              "          }\n",
              "          quickchartButtonEl.classList.remove('colab-df-spinner');\n",
              "          quickchartButtonEl.classList.add('colab-df-quickchart-complete');\n",
              "        }\n",
              "        (() => {\n",
              "          let quickchartButtonEl =\n",
              "            document.querySelector('#df-9dbae561-97cf-4ceb-a04a-6a5942cf167f button');\n",
              "          quickchartButtonEl.style.display =\n",
              "            google.colab.kernel.accessAllowed ? 'block' : 'none';\n",
              "        })();\n",
              "      </script>\n",
              "    </div>\n",
              "\n",
              "    </div>\n",
              "  </div>\n"
            ],
            "application/vnd.google.colaboratory.intrinsic+json": {
              "type": "dataframe",
              "variable_name": "df_dict"
            }
          },
          "metadata": {},
          "execution_count": 204
        }
      ]
    },
    {
      "cell_type": "markdown",
      "source": [
        "Merge all text features"
      ],
      "metadata": {
        "id": "wDW0Fu_4N2Ge"
      }
    },
    {
      "cell_type": "code",
      "source": [
        "df_lang_features = pd.concat([df_dict, df_signals], axis=1)"
      ],
      "metadata": {
        "id": "_UG3OWQA0GRA"
      },
      "execution_count": 205,
      "outputs": []
    },
    {
      "cell_type": "markdown",
      "source": [
        "Merge with the survey dataframe and leave only data of quality"
      ],
      "metadata": {
        "id": "RNTiATM1QYDq"
      }
    },
    {
      "cell_type": "code",
      "source": [
        "survey = pd.read_excel(\"CROSSDA_data_Iva.xlsx\", index_col= \"ID\", engine=\"openpyxl\")"
      ],
      "metadata": {
        "id": "MGn0DFsmR2Kt"
      },
      "execution_count": 206,
      "outputs": []
    },
    {
      "cell_type": "code",
      "source": [
        "df_all = pd.concat([survey, df_lang_features], axis=1)"
      ],
      "metadata": {
        "id": "gAvLQ3_F4Eiv"
      },
      "execution_count": 207,
      "outputs": []
    },
    {
      "cell_type": "code",
      "source": [
        "df_good = df_all[\n",
        "    df_all[\"IPIP120_120.r\"].notna() &\n",
        "    df_all[\"attention_check\"].isin([\"PASS\", \"MIXED\"]) &\n",
        "    (df_all[\"num_answers\"] == 4) &\n",
        "    ~df_all[\"ivas_verdict_REFRESHIT\"].isin([\"gpt\", \"gpt pitaj\", \"gpt/ full\", \"maybe\", \"yes\"])\n",
        "]"
      ],
      "metadata": {
        "collapsed": true,
        "id": "NbngE0AgSiH2"
      },
      "execution_count": 208,
      "outputs": []
    },
    {
      "cell_type": "code",
      "source": [
        "df_good[[\"attenuated_dict_pos_char\", \"attenuated_dict_neg_char\", \"amplified_dict_pos_char\", \"amplified_dict_neg_char\"]].describe()"
      ],
      "metadata": {
        "colab": {
          "base_uri": "https://localhost:8080/",
          "height": 300
        },
        "id": "UBPUH46NNr6z",
        "outputId": "9d0e410a-a9db-4558-e6cc-019b72d536d0"
      },
      "execution_count": 209,
      "outputs": [
        {
          "output_type": "execute_result",
          "data": {
            "text/plain": [
              "       attenuated_dict_pos_char  attenuated_dict_neg_char  \\\n",
              "count                377.000000                377.000000   \n",
              "mean                   3.614204                  7.641107   \n",
              "std                    2.637457                  3.938601   \n",
              "min                    0.000000                  0.000000   \n",
              "25%                    1.762115                  5.000000   \n",
              "50%                    3.243243                  7.185629   \n",
              "75%                    5.208333                 10.000000   \n",
              "max                   12.154696                 27.272727   \n",
              "\n",
              "       amplified_dict_pos_char  amplified_dict_neg_char  \n",
              "count               377.000000               377.000000  \n",
              "mean                  3.810133                 2.856383  \n",
              "std                   2.651928                 2.177023  \n",
              "min                   0.000000                 0.000000  \n",
              "25%                   1.851852                 1.388889  \n",
              "50%                   3.529412                 2.590674  \n",
              "75%                   5.228758                 3.846154  \n",
              "max                  13.043478                17.647059  "
            ],
            "text/html": [
              "\n",
              "  <div id=\"df-5a3170cc-3b71-4987-a51e-09df74ecf1b5\" class=\"colab-df-container\">\n",
              "    <div>\n",
              "<style scoped>\n",
              "    .dataframe tbody tr th:only-of-type {\n",
              "        vertical-align: middle;\n",
              "    }\n",
              "\n",
              "    .dataframe tbody tr th {\n",
              "        vertical-align: top;\n",
              "    }\n",
              "\n",
              "    .dataframe thead th {\n",
              "        text-align: right;\n",
              "    }\n",
              "</style>\n",
              "<table border=\"1\" class=\"dataframe\">\n",
              "  <thead>\n",
              "    <tr style=\"text-align: right;\">\n",
              "      <th></th>\n",
              "      <th>attenuated_dict_pos_char</th>\n",
              "      <th>attenuated_dict_neg_char</th>\n",
              "      <th>amplified_dict_pos_char</th>\n",
              "      <th>amplified_dict_neg_char</th>\n",
              "    </tr>\n",
              "  </thead>\n",
              "  <tbody>\n",
              "    <tr>\n",
              "      <th>count</th>\n",
              "      <td>377.000000</td>\n",
              "      <td>377.000000</td>\n",
              "      <td>377.000000</td>\n",
              "      <td>377.000000</td>\n",
              "    </tr>\n",
              "    <tr>\n",
              "      <th>mean</th>\n",
              "      <td>3.614204</td>\n",
              "      <td>7.641107</td>\n",
              "      <td>3.810133</td>\n",
              "      <td>2.856383</td>\n",
              "    </tr>\n",
              "    <tr>\n",
              "      <th>std</th>\n",
              "      <td>2.637457</td>\n",
              "      <td>3.938601</td>\n",
              "      <td>2.651928</td>\n",
              "      <td>2.177023</td>\n",
              "    </tr>\n",
              "    <tr>\n",
              "      <th>min</th>\n",
              "      <td>0.000000</td>\n",
              "      <td>0.000000</td>\n",
              "      <td>0.000000</td>\n",
              "      <td>0.000000</td>\n",
              "    </tr>\n",
              "    <tr>\n",
              "      <th>25%</th>\n",
              "      <td>1.762115</td>\n",
              "      <td>5.000000</td>\n",
              "      <td>1.851852</td>\n",
              "      <td>1.388889</td>\n",
              "    </tr>\n",
              "    <tr>\n",
              "      <th>50%</th>\n",
              "      <td>3.243243</td>\n",
              "      <td>7.185629</td>\n",
              "      <td>3.529412</td>\n",
              "      <td>2.590674</td>\n",
              "    </tr>\n",
              "    <tr>\n",
              "      <th>75%</th>\n",
              "      <td>5.208333</td>\n",
              "      <td>10.000000</td>\n",
              "      <td>5.228758</td>\n",
              "      <td>3.846154</td>\n",
              "    </tr>\n",
              "    <tr>\n",
              "      <th>max</th>\n",
              "      <td>12.154696</td>\n",
              "      <td>27.272727</td>\n",
              "      <td>13.043478</td>\n",
              "      <td>17.647059</td>\n",
              "    </tr>\n",
              "  </tbody>\n",
              "</table>\n",
              "</div>\n",
              "    <div class=\"colab-df-buttons\">\n",
              "\n",
              "  <div class=\"colab-df-container\">\n",
              "    <button class=\"colab-df-convert\" onclick=\"convertToInteractive('df-5a3170cc-3b71-4987-a51e-09df74ecf1b5')\"\n",
              "            title=\"Convert this dataframe to an interactive table.\"\n",
              "            style=\"display:none;\">\n",
              "\n",
              "  <svg xmlns=\"http://www.w3.org/2000/svg\" height=\"24px\" viewBox=\"0 -960 960 960\">\n",
              "    <path d=\"M120-120v-720h720v720H120Zm60-500h600v-160H180v160Zm220 220h160v-160H400v160Zm0 220h160v-160H400v160ZM180-400h160v-160H180v160Zm440 0h160v-160H620v160ZM180-180h160v-160H180v160Zm440 0h160v-160H620v160Z\"/>\n",
              "  </svg>\n",
              "    </button>\n",
              "\n",
              "  <style>\n",
              "    .colab-df-container {\n",
              "      display:flex;\n",
              "      gap: 12px;\n",
              "    }\n",
              "\n",
              "    .colab-df-convert {\n",
              "      background-color: #E8F0FE;\n",
              "      border: none;\n",
              "      border-radius: 50%;\n",
              "      cursor: pointer;\n",
              "      display: none;\n",
              "      fill: #1967D2;\n",
              "      height: 32px;\n",
              "      padding: 0 0 0 0;\n",
              "      width: 32px;\n",
              "    }\n",
              "\n",
              "    .colab-df-convert:hover {\n",
              "      background-color: #E2EBFA;\n",
              "      box-shadow: 0px 1px 2px rgba(60, 64, 67, 0.3), 0px 1px 3px 1px rgba(60, 64, 67, 0.15);\n",
              "      fill: #174EA6;\n",
              "    }\n",
              "\n",
              "    .colab-df-buttons div {\n",
              "      margin-bottom: 4px;\n",
              "    }\n",
              "\n",
              "    [theme=dark] .colab-df-convert {\n",
              "      background-color: #3B4455;\n",
              "      fill: #D2E3FC;\n",
              "    }\n",
              "\n",
              "    [theme=dark] .colab-df-convert:hover {\n",
              "      background-color: #434B5C;\n",
              "      box-shadow: 0px 1px 3px 1px rgba(0, 0, 0, 0.15);\n",
              "      filter: drop-shadow(0px 1px 2px rgba(0, 0, 0, 0.3));\n",
              "      fill: #FFFFFF;\n",
              "    }\n",
              "  </style>\n",
              "\n",
              "    <script>\n",
              "      const buttonEl =\n",
              "        document.querySelector('#df-5a3170cc-3b71-4987-a51e-09df74ecf1b5 button.colab-df-convert');\n",
              "      buttonEl.style.display =\n",
              "        google.colab.kernel.accessAllowed ? 'block' : 'none';\n",
              "\n",
              "      async function convertToInteractive(key) {\n",
              "        const element = document.querySelector('#df-5a3170cc-3b71-4987-a51e-09df74ecf1b5');\n",
              "        const dataTable =\n",
              "          await google.colab.kernel.invokeFunction('convertToInteractive',\n",
              "                                                    [key], {});\n",
              "        if (!dataTable) return;\n",
              "\n",
              "        const docLinkHtml = 'Like what you see? Visit the ' +\n",
              "          '<a target=\"_blank\" href=https://colab.research.google.com/notebooks/data_table.ipynb>data table notebook</a>'\n",
              "          + ' to learn more about interactive tables.';\n",
              "        element.innerHTML = '';\n",
              "        dataTable['output_type'] = 'display_data';\n",
              "        await google.colab.output.renderOutput(dataTable, element);\n",
              "        const docLink = document.createElement('div');\n",
              "        docLink.innerHTML = docLinkHtml;\n",
              "        element.appendChild(docLink);\n",
              "      }\n",
              "    </script>\n",
              "  </div>\n",
              "\n",
              "\n",
              "    <div id=\"df-5a4f2714-65d0-49cc-b6a4-4b2711eaee7e\">\n",
              "      <button class=\"colab-df-quickchart\" onclick=\"quickchart('df-5a4f2714-65d0-49cc-b6a4-4b2711eaee7e')\"\n",
              "                title=\"Suggest charts\"\n",
              "                style=\"display:none;\">\n",
              "\n",
              "<svg xmlns=\"http://www.w3.org/2000/svg\" height=\"24px\"viewBox=\"0 0 24 24\"\n",
              "     width=\"24px\">\n",
              "    <g>\n",
              "        <path d=\"M19 3H5c-1.1 0-2 .9-2 2v14c0 1.1.9 2 2 2h14c1.1 0 2-.9 2-2V5c0-1.1-.9-2-2-2zM9 17H7v-7h2v7zm4 0h-2V7h2v10zm4 0h-2v-4h2v4z\"/>\n",
              "    </g>\n",
              "</svg>\n",
              "      </button>\n",
              "\n",
              "<style>\n",
              "  .colab-df-quickchart {\n",
              "      --bg-color: #E8F0FE;\n",
              "      --fill-color: #1967D2;\n",
              "      --hover-bg-color: #E2EBFA;\n",
              "      --hover-fill-color: #174EA6;\n",
              "      --disabled-fill-color: #AAA;\n",
              "      --disabled-bg-color: #DDD;\n",
              "  }\n",
              "\n",
              "  [theme=dark] .colab-df-quickchart {\n",
              "      --bg-color: #3B4455;\n",
              "      --fill-color: #D2E3FC;\n",
              "      --hover-bg-color: #434B5C;\n",
              "      --hover-fill-color: #FFFFFF;\n",
              "      --disabled-bg-color: #3B4455;\n",
              "      --disabled-fill-color: #666;\n",
              "  }\n",
              "\n",
              "  .colab-df-quickchart {\n",
              "    background-color: var(--bg-color);\n",
              "    border: none;\n",
              "    border-radius: 50%;\n",
              "    cursor: pointer;\n",
              "    display: none;\n",
              "    fill: var(--fill-color);\n",
              "    height: 32px;\n",
              "    padding: 0;\n",
              "    width: 32px;\n",
              "  }\n",
              "\n",
              "  .colab-df-quickchart:hover {\n",
              "    background-color: var(--hover-bg-color);\n",
              "    box-shadow: 0 1px 2px rgba(60, 64, 67, 0.3), 0 1px 3px 1px rgba(60, 64, 67, 0.15);\n",
              "    fill: var(--button-hover-fill-color);\n",
              "  }\n",
              "\n",
              "  .colab-df-quickchart-complete:disabled,\n",
              "  .colab-df-quickchart-complete:disabled:hover {\n",
              "    background-color: var(--disabled-bg-color);\n",
              "    fill: var(--disabled-fill-color);\n",
              "    box-shadow: none;\n",
              "  }\n",
              "\n",
              "  .colab-df-spinner {\n",
              "    border: 2px solid var(--fill-color);\n",
              "    border-color: transparent;\n",
              "    border-bottom-color: var(--fill-color);\n",
              "    animation:\n",
              "      spin 1s steps(1) infinite;\n",
              "  }\n",
              "\n",
              "  @keyframes spin {\n",
              "    0% {\n",
              "      border-color: transparent;\n",
              "      border-bottom-color: var(--fill-color);\n",
              "      border-left-color: var(--fill-color);\n",
              "    }\n",
              "    20% {\n",
              "      border-color: transparent;\n",
              "      border-left-color: var(--fill-color);\n",
              "      border-top-color: var(--fill-color);\n",
              "    }\n",
              "    30% {\n",
              "      border-color: transparent;\n",
              "      border-left-color: var(--fill-color);\n",
              "      border-top-color: var(--fill-color);\n",
              "      border-right-color: var(--fill-color);\n",
              "    }\n",
              "    40% {\n",
              "      border-color: transparent;\n",
              "      border-right-color: var(--fill-color);\n",
              "      border-top-color: var(--fill-color);\n",
              "    }\n",
              "    60% {\n",
              "      border-color: transparent;\n",
              "      border-right-color: var(--fill-color);\n",
              "    }\n",
              "    80% {\n",
              "      border-color: transparent;\n",
              "      border-right-color: var(--fill-color);\n",
              "      border-bottom-color: var(--fill-color);\n",
              "    }\n",
              "    90% {\n",
              "      border-color: transparent;\n",
              "      border-bottom-color: var(--fill-color);\n",
              "    }\n",
              "  }\n",
              "</style>\n",
              "\n",
              "      <script>\n",
              "        async function quickchart(key) {\n",
              "          const quickchartButtonEl =\n",
              "            document.querySelector('#' + key + ' button');\n",
              "          quickchartButtonEl.disabled = true;  // To prevent multiple clicks.\n",
              "          quickchartButtonEl.classList.add('colab-df-spinner');\n",
              "          try {\n",
              "            const charts = await google.colab.kernel.invokeFunction(\n",
              "                'suggestCharts', [key], {});\n",
              "          } catch (error) {\n",
              "            console.error('Error during call to suggestCharts:', error);\n",
              "          }\n",
              "          quickchartButtonEl.classList.remove('colab-df-spinner');\n",
              "          quickchartButtonEl.classList.add('colab-df-quickchart-complete');\n",
              "        }\n",
              "        (() => {\n",
              "          let quickchartButtonEl =\n",
              "            document.querySelector('#df-5a4f2714-65d0-49cc-b6a4-4b2711eaee7e button');\n",
              "          quickchartButtonEl.style.display =\n",
              "            google.colab.kernel.accessAllowed ? 'block' : 'none';\n",
              "        })();\n",
              "      </script>\n",
              "    </div>\n",
              "\n",
              "    </div>\n",
              "  </div>\n"
            ],
            "application/vnd.google.colaboratory.intrinsic+json": {
              "type": "dataframe",
              "summary": "{\n  \"name\": \"df_good[[\\\"attenuated_dict_pos_char\\\", \\\"attenuated_dict_neg_char\\\", \\\"amplified_dict_pos_char\\\", \\\"amplified_dict_neg_char\\\"]]\",\n  \"rows\": 8,\n  \"fields\": [\n    {\n      \"column\": \"attenuated_dict_pos_char\",\n      \"properties\": {\n        \"dtype\": \"number\",\n        \"std\": 131.89365456848097,\n        \"min\": 0.0,\n        \"max\": 377.0,\n        \"num_unique_values\": 8,\n        \"samples\": [\n          3.614203859727567,\n          3.2432432432432434,\n          377.0\n        ],\n        \"semantic_type\": \"\",\n        \"description\": \"\"\n      }\n    },\n    {\n      \"column\": \"attenuated_dict_neg_char\",\n      \"properties\": {\n        \"dtype\": \"number\",\n        \"std\": 130.45999157100124,\n        \"min\": 0.0,\n        \"max\": 377.0,\n        \"num_unique_values\": 8,\n        \"samples\": [\n          7.64110725815644,\n          7.18562874251497,\n          377.0\n        ],\n        \"semantic_type\": \"\",\n        \"description\": \"\"\n      }\n    },\n    {\n      \"column\": \"amplified_dict_pos_char\",\n      \"properties\": {\n        \"dtype\": \"number\",\n        \"std\": 131.82565502245004,\n        \"min\": 0.0,\n        \"max\": 377.0,\n        \"num_unique_values\": 8,\n        \"samples\": [\n          3.8101326018251003,\n          3.5294117647058822,\n          377.0\n        ],\n        \"semantic_type\": \"\",\n        \"description\": \"\"\n      }\n    },\n    {\n      \"column\": \"amplified_dict_neg_char\",\n      \"properties\": {\n        \"dtype\": \"number\",\n        \"std\": 131.86523941247006,\n        \"min\": 0.0,\n        \"max\": 377.0,\n        \"num_unique_values\": 8,\n        \"samples\": [\n          2.856382865279203,\n          2.5906735751295336,\n          377.0\n        ],\n        \"semantic_type\": \"\",\n        \"description\": \"\"\n      }\n    }\n  ]\n}"
            }
          },
          "metadata": {},
          "execution_count": 209
        }
      ]
    },
    {
      "cell_type": "code",
      "source": [
        "df_good[[\"neg_in_pos_num\", \"pos_in_neg_num\"]] = df_good[[\"neg_in_pos_num\", \"pos_in_neg_num\"]].fillna(0)\n"
      ],
      "metadata": {
        "id": "HZAv5abFUEsl",
        "colab": {
          "base_uri": "https://localhost:8080/"
        },
        "outputId": "1109c896-0649-454f-ecb6-6e86aa03b33d"
      },
      "execution_count": 210,
      "outputs": [
        {
          "output_type": "stream",
          "name": "stderr",
          "text": [
            "/tmp/ipython-input-1432441184.py:1: SettingWithCopyWarning: \n",
            "A value is trying to be set on a copy of a slice from a DataFrame.\n",
            "Try using .loc[row_indexer,col_indexer] = value instead\n",
            "\n",
            "See the caveats in the documentation: https://pandas.pydata.org/pandas-docs/stable/user_guide/indexing.html#returning-a-view-versus-a-copy\n",
            "  df_good[[\"neg_in_pos_num\", \"pos_in_neg_num\"]] = df_good[[\"neg_in_pos_num\", \"pos_in_neg_num\"]].fillna(0)\n"
          ]
        }
      ]
    },
    {
      "cell_type": "markdown",
      "source": [
        "Controling for general use: Target - avg of controls"
      ],
      "metadata": {
        "id": "iYwQo9yPekrc"
      }
    },
    {
      "cell_type": "code",
      "source": [
        "df_good[[\"attenuated_dict_pos_healthcare\", \"attenuated_dict_neg_healthcare\", \"amplified_dict_pos_healthcare\", \"amplified_dict_neg_healthcare\"]].describe()"
      ],
      "metadata": {
        "collapsed": true,
        "colab": {
          "base_uri": "https://localhost:8080/",
          "height": 300
        },
        "outputId": "2a30f589-e131-413f-fa6e-20ff5358c46f",
        "id": "zlNthFeyezYG"
      },
      "execution_count": 211,
      "outputs": [
        {
          "output_type": "execute_result",
          "data": {
            "text/plain": [
              "       attenuated_dict_pos_healthcare  attenuated_dict_neg_healthcare  \\\n",
              "count                      377.000000                      377.000000   \n",
              "mean                         3.606615                        6.010917   \n",
              "std                          2.644919                        3.081090   \n",
              "min                          0.000000                        0.000000   \n",
              "25%                          1.550388                        4.000000   \n",
              "50%                          3.448276                        5.825243   \n",
              "75%                          5.357143                        7.692308   \n",
              "max                         12.500000                       16.129032   \n",
              "\n",
              "       amplified_dict_pos_healthcare  amplified_dict_neg_healthcare  \n",
              "count                     377.000000                     377.000000  \n",
              "mean                        2.789483                       1.857304  \n",
              "std                         2.314282                       1.899313  \n",
              "min                         0.000000                       0.000000  \n",
              "25%                         1.250000                       0.000000  \n",
              "50%                         2.343750                       1.562500  \n",
              "75%                         3.875969                       2.958580  \n",
              "max                        14.285714                      14.285714  "
            ],
            "text/html": [
              "\n",
              "  <div id=\"df-afbf713f-89be-45ca-b05f-3a9f269ada00\" class=\"colab-df-container\">\n",
              "    <div>\n",
              "<style scoped>\n",
              "    .dataframe tbody tr th:only-of-type {\n",
              "        vertical-align: middle;\n",
              "    }\n",
              "\n",
              "    .dataframe tbody tr th {\n",
              "        vertical-align: top;\n",
              "    }\n",
              "\n",
              "    .dataframe thead th {\n",
              "        text-align: right;\n",
              "    }\n",
              "</style>\n",
              "<table border=\"1\" class=\"dataframe\">\n",
              "  <thead>\n",
              "    <tr style=\"text-align: right;\">\n",
              "      <th></th>\n",
              "      <th>attenuated_dict_pos_healthcare</th>\n",
              "      <th>attenuated_dict_neg_healthcare</th>\n",
              "      <th>amplified_dict_pos_healthcare</th>\n",
              "      <th>amplified_dict_neg_healthcare</th>\n",
              "    </tr>\n",
              "  </thead>\n",
              "  <tbody>\n",
              "    <tr>\n",
              "      <th>count</th>\n",
              "      <td>377.000000</td>\n",
              "      <td>377.000000</td>\n",
              "      <td>377.000000</td>\n",
              "      <td>377.000000</td>\n",
              "    </tr>\n",
              "    <tr>\n",
              "      <th>mean</th>\n",
              "      <td>3.606615</td>\n",
              "      <td>6.010917</td>\n",
              "      <td>2.789483</td>\n",
              "      <td>1.857304</td>\n",
              "    </tr>\n",
              "    <tr>\n",
              "      <th>std</th>\n",
              "      <td>2.644919</td>\n",
              "      <td>3.081090</td>\n",
              "      <td>2.314282</td>\n",
              "      <td>1.899313</td>\n",
              "    </tr>\n",
              "    <tr>\n",
              "      <th>min</th>\n",
              "      <td>0.000000</td>\n",
              "      <td>0.000000</td>\n",
              "      <td>0.000000</td>\n",
              "      <td>0.000000</td>\n",
              "    </tr>\n",
              "    <tr>\n",
              "      <th>25%</th>\n",
              "      <td>1.550388</td>\n",
              "      <td>4.000000</td>\n",
              "      <td>1.250000</td>\n",
              "      <td>0.000000</td>\n",
              "    </tr>\n",
              "    <tr>\n",
              "      <th>50%</th>\n",
              "      <td>3.448276</td>\n",
              "      <td>5.825243</td>\n",
              "      <td>2.343750</td>\n",
              "      <td>1.562500</td>\n",
              "    </tr>\n",
              "    <tr>\n",
              "      <th>75%</th>\n",
              "      <td>5.357143</td>\n",
              "      <td>7.692308</td>\n",
              "      <td>3.875969</td>\n",
              "      <td>2.958580</td>\n",
              "    </tr>\n",
              "    <tr>\n",
              "      <th>max</th>\n",
              "      <td>12.500000</td>\n",
              "      <td>16.129032</td>\n",
              "      <td>14.285714</td>\n",
              "      <td>14.285714</td>\n",
              "    </tr>\n",
              "  </tbody>\n",
              "</table>\n",
              "</div>\n",
              "    <div class=\"colab-df-buttons\">\n",
              "\n",
              "  <div class=\"colab-df-container\">\n",
              "    <button class=\"colab-df-convert\" onclick=\"convertToInteractive('df-afbf713f-89be-45ca-b05f-3a9f269ada00')\"\n",
              "            title=\"Convert this dataframe to an interactive table.\"\n",
              "            style=\"display:none;\">\n",
              "\n",
              "  <svg xmlns=\"http://www.w3.org/2000/svg\" height=\"24px\" viewBox=\"0 -960 960 960\">\n",
              "    <path d=\"M120-120v-720h720v720H120Zm60-500h600v-160H180v160Zm220 220h160v-160H400v160Zm0 220h160v-160H400v160ZM180-400h160v-160H180v160Zm440 0h160v-160H620v160ZM180-180h160v-160H180v160Zm440 0h160v-160H620v160Z\"/>\n",
              "  </svg>\n",
              "    </button>\n",
              "\n",
              "  <style>\n",
              "    .colab-df-container {\n",
              "      display:flex;\n",
              "      gap: 12px;\n",
              "    }\n",
              "\n",
              "    .colab-df-convert {\n",
              "      background-color: #E8F0FE;\n",
              "      border: none;\n",
              "      border-radius: 50%;\n",
              "      cursor: pointer;\n",
              "      display: none;\n",
              "      fill: #1967D2;\n",
              "      height: 32px;\n",
              "      padding: 0 0 0 0;\n",
              "      width: 32px;\n",
              "    }\n",
              "\n",
              "    .colab-df-convert:hover {\n",
              "      background-color: #E2EBFA;\n",
              "      box-shadow: 0px 1px 2px rgba(60, 64, 67, 0.3), 0px 1px 3px 1px rgba(60, 64, 67, 0.15);\n",
              "      fill: #174EA6;\n",
              "    }\n",
              "\n",
              "    .colab-df-buttons div {\n",
              "      margin-bottom: 4px;\n",
              "    }\n",
              "\n",
              "    [theme=dark] .colab-df-convert {\n",
              "      background-color: #3B4455;\n",
              "      fill: #D2E3FC;\n",
              "    }\n",
              "\n",
              "    [theme=dark] .colab-df-convert:hover {\n",
              "      background-color: #434B5C;\n",
              "      box-shadow: 0px 1px 3px 1px rgba(0, 0, 0, 0.15);\n",
              "      filter: drop-shadow(0px 1px 2px rgba(0, 0, 0, 0.3));\n",
              "      fill: #FFFFFF;\n",
              "    }\n",
              "  </style>\n",
              "\n",
              "    <script>\n",
              "      const buttonEl =\n",
              "        document.querySelector('#df-afbf713f-89be-45ca-b05f-3a9f269ada00 button.colab-df-convert');\n",
              "      buttonEl.style.display =\n",
              "        google.colab.kernel.accessAllowed ? 'block' : 'none';\n",
              "\n",
              "      async function convertToInteractive(key) {\n",
              "        const element = document.querySelector('#df-afbf713f-89be-45ca-b05f-3a9f269ada00');\n",
              "        const dataTable =\n",
              "          await google.colab.kernel.invokeFunction('convertToInteractive',\n",
              "                                                    [key], {});\n",
              "        if (!dataTable) return;\n",
              "\n",
              "        const docLinkHtml = 'Like what you see? Visit the ' +\n",
              "          '<a target=\"_blank\" href=https://colab.research.google.com/notebooks/data_table.ipynb>data table notebook</a>'\n",
              "          + ' to learn more about interactive tables.';\n",
              "        element.innerHTML = '';\n",
              "        dataTable['output_type'] = 'display_data';\n",
              "        await google.colab.output.renderOutput(dataTable, element);\n",
              "        const docLink = document.createElement('div');\n",
              "        docLink.innerHTML = docLinkHtml;\n",
              "        element.appendChild(docLink);\n",
              "      }\n",
              "    </script>\n",
              "  </div>\n",
              "\n",
              "\n",
              "    <div id=\"df-a759928a-09f3-409d-a220-b18a99160d6d\">\n",
              "      <button class=\"colab-df-quickchart\" onclick=\"quickchart('df-a759928a-09f3-409d-a220-b18a99160d6d')\"\n",
              "                title=\"Suggest charts\"\n",
              "                style=\"display:none;\">\n",
              "\n",
              "<svg xmlns=\"http://www.w3.org/2000/svg\" height=\"24px\"viewBox=\"0 0 24 24\"\n",
              "     width=\"24px\">\n",
              "    <g>\n",
              "        <path d=\"M19 3H5c-1.1 0-2 .9-2 2v14c0 1.1.9 2 2 2h14c1.1 0 2-.9 2-2V5c0-1.1-.9-2-2-2zM9 17H7v-7h2v7zm4 0h-2V7h2v10zm4 0h-2v-4h2v4z\"/>\n",
              "    </g>\n",
              "</svg>\n",
              "      </button>\n",
              "\n",
              "<style>\n",
              "  .colab-df-quickchart {\n",
              "      --bg-color: #E8F0FE;\n",
              "      --fill-color: #1967D2;\n",
              "      --hover-bg-color: #E2EBFA;\n",
              "      --hover-fill-color: #174EA6;\n",
              "      --disabled-fill-color: #AAA;\n",
              "      --disabled-bg-color: #DDD;\n",
              "  }\n",
              "\n",
              "  [theme=dark] .colab-df-quickchart {\n",
              "      --bg-color: #3B4455;\n",
              "      --fill-color: #D2E3FC;\n",
              "      --hover-bg-color: #434B5C;\n",
              "      --hover-fill-color: #FFFFFF;\n",
              "      --disabled-bg-color: #3B4455;\n",
              "      --disabled-fill-color: #666;\n",
              "  }\n",
              "\n",
              "  .colab-df-quickchart {\n",
              "    background-color: var(--bg-color);\n",
              "    border: none;\n",
              "    border-radius: 50%;\n",
              "    cursor: pointer;\n",
              "    display: none;\n",
              "    fill: var(--fill-color);\n",
              "    height: 32px;\n",
              "    padding: 0;\n",
              "    width: 32px;\n",
              "  }\n",
              "\n",
              "  .colab-df-quickchart:hover {\n",
              "    background-color: var(--hover-bg-color);\n",
              "    box-shadow: 0 1px 2px rgba(60, 64, 67, 0.3), 0 1px 3px 1px rgba(60, 64, 67, 0.15);\n",
              "    fill: var(--button-hover-fill-color);\n",
              "  }\n",
              "\n",
              "  .colab-df-quickchart-complete:disabled,\n",
              "  .colab-df-quickchart-complete:disabled:hover {\n",
              "    background-color: var(--disabled-bg-color);\n",
              "    fill: var(--disabled-fill-color);\n",
              "    box-shadow: none;\n",
              "  }\n",
              "\n",
              "  .colab-df-spinner {\n",
              "    border: 2px solid var(--fill-color);\n",
              "    border-color: transparent;\n",
              "    border-bottom-color: var(--fill-color);\n",
              "    animation:\n",
              "      spin 1s steps(1) infinite;\n",
              "  }\n",
              "\n",
              "  @keyframes spin {\n",
              "    0% {\n",
              "      border-color: transparent;\n",
              "      border-bottom-color: var(--fill-color);\n",
              "      border-left-color: var(--fill-color);\n",
              "    }\n",
              "    20% {\n",
              "      border-color: transparent;\n",
              "      border-left-color: var(--fill-color);\n",
              "      border-top-color: var(--fill-color);\n",
              "    }\n",
              "    30% {\n",
              "      border-color: transparent;\n",
              "      border-left-color: var(--fill-color);\n",
              "      border-top-color: var(--fill-color);\n",
              "      border-right-color: var(--fill-color);\n",
              "    }\n",
              "    40% {\n",
              "      border-color: transparent;\n",
              "      border-right-color: var(--fill-color);\n",
              "      border-top-color: var(--fill-color);\n",
              "    }\n",
              "    60% {\n",
              "      border-color: transparent;\n",
              "      border-right-color: var(--fill-color);\n",
              "    }\n",
              "    80% {\n",
              "      border-color: transparent;\n",
              "      border-right-color: var(--fill-color);\n",
              "      border-bottom-color: var(--fill-color);\n",
              "    }\n",
              "    90% {\n",
              "      border-color: transparent;\n",
              "      border-bottom-color: var(--fill-color);\n",
              "    }\n",
              "  }\n",
              "</style>\n",
              "\n",
              "      <script>\n",
              "        async function quickchart(key) {\n",
              "          const quickchartButtonEl =\n",
              "            document.querySelector('#' + key + ' button');\n",
              "          quickchartButtonEl.disabled = true;  // To prevent multiple clicks.\n",
              "          quickchartButtonEl.classList.add('colab-df-spinner');\n",
              "          try {\n",
              "            const charts = await google.colab.kernel.invokeFunction(\n",
              "                'suggestCharts', [key], {});\n",
              "          } catch (error) {\n",
              "            console.error('Error during call to suggestCharts:', error);\n",
              "          }\n",
              "          quickchartButtonEl.classList.remove('colab-df-spinner');\n",
              "          quickchartButtonEl.classList.add('colab-df-quickchart-complete');\n",
              "        }\n",
              "        (() => {\n",
              "          let quickchartButtonEl =\n",
              "            document.querySelector('#df-a759928a-09f3-409d-a220-b18a99160d6d button');\n",
              "          quickchartButtonEl.style.display =\n",
              "            google.colab.kernel.accessAllowed ? 'block' : 'none';\n",
              "        })();\n",
              "      </script>\n",
              "    </div>\n",
              "\n",
              "    </div>\n",
              "  </div>\n"
            ],
            "application/vnd.google.colaboratory.intrinsic+json": {
              "type": "dataframe",
              "summary": "{\n  \"name\": \"df_good[[\\\"attenuated_dict_pos_healthcare\\\", \\\"attenuated_dict_neg_healthcare\\\", \\\"amplified_dict_pos_healthcare\\\", \\\"amplified_dict_neg_healthcare\\\"]]\",\n  \"rows\": 8,\n  \"fields\": [\n    {\n      \"column\": \"attenuated_dict_pos_healthcare\",\n      \"properties\": {\n        \"dtype\": \"number\",\n        \"std\": 131.8726929885556,\n        \"min\": 0.0,\n        \"max\": 377.0,\n        \"num_unique_values\": 8,\n        \"samples\": [\n          3.6066146003461723,\n          3.4482758620689653,\n          377.0\n        ],\n        \"semantic_type\": \"\",\n        \"description\": \"\"\n      }\n    },\n    {\n      \"column\": \"attenuated_dict_neg_healthcare\",\n      \"properties\": {\n        \"dtype\": \"number\",\n        \"std\": 131.21482631140944,\n        \"min\": 0.0,\n        \"max\": 377.0,\n        \"num_unique_values\": 8,\n        \"samples\": [\n          6.0109173010096155,\n          5.825242718446602,\n          377.0\n        ],\n        \"semantic_type\": \"\",\n        \"description\": \"\"\n      }\n    },\n    {\n      \"column\": \"amplified_dict_pos_healthcare\",\n      \"properties\": {\n        \"dtype\": \"number\",\n        \"std\": 132.00677257588228,\n        \"min\": 0.0,\n        \"max\": 377.0,\n        \"num_unique_values\": 8,\n        \"samples\": [\n          2.789482808027543,\n          2.34375,\n          377.0\n        ],\n        \"semantic_type\": \"\",\n        \"description\": \"\"\n      }\n    },\n    {\n      \"column\": \"amplified_dict_neg_healthcare\",\n      \"properties\": {\n        \"dtype\": \"number\",\n        \"std\": 132.23084157066782,\n        \"min\": 0.0,\n        \"max\": 377.0,\n        \"num_unique_values\": 7,\n        \"samples\": [\n          377.0,\n          1.8573042513284541,\n          2.9585798816568047\n        ],\n        \"semantic_type\": \"\",\n        \"description\": \"\"\n      }\n    }\n  ]\n}"
            }
          },
          "metadata": {},
          "execution_count": 211
        }
      ]
    },
    {
      "cell_type": "code",
      "source": [
        "df_good[\"attenuated_dict_healthcare_avg\"] = (df_good[\"attenuated_dict_pos_healthcare\"] + df_good[\"attenuated_dict_neg_healthcare\"]) / 2"
      ],
      "metadata": {
        "colab": {
          "base_uri": "https://localhost:8080/"
        },
        "id": "7pcAXxf2fg7U",
        "outputId": "48c95f2f-e9be-4d38-80ee-144d4473a167"
      },
      "execution_count": 212,
      "outputs": [
        {
          "output_type": "stream",
          "name": "stderr",
          "text": [
            "/tmp/ipython-input-1206139576.py:1: SettingWithCopyWarning: \n",
            "A value is trying to be set on a copy of a slice from a DataFrame.\n",
            "Try using .loc[row_indexer,col_indexer] = value instead\n",
            "\n",
            "See the caveats in the documentation: https://pandas.pydata.org/pandas-docs/stable/user_guide/indexing.html#returning-a-view-versus-a-copy\n",
            "  df_good[\"attenuated_dict_healthcare_avg\"] = (df_good[\"attenuated_dict_pos_healthcare\"] + df_good[\"attenuated_dict_neg_healthcare\"]) / 2\n"
          ]
        }
      ]
    },
    {
      "cell_type": "code",
      "source": [
        "df_good[\"amplified_dict_healthcare_avg\"] = (df_good[\"amplified_dict_pos_healthcare\"] + df_good[\"amplified_dict_neg_healthcare\"]) / 2"
      ],
      "metadata": {
        "colab": {
          "base_uri": "https://localhost:8080/"
        },
        "id": "TSoRqcYegHxe",
        "outputId": "9b9c0dce-a84e-4a7e-986a-ad13768c0592"
      },
      "execution_count": 213,
      "outputs": [
        {
          "output_type": "stream",
          "name": "stderr",
          "text": [
            "/tmp/ipython-input-3888497388.py:1: SettingWithCopyWarning: \n",
            "A value is trying to be set on a copy of a slice from a DataFrame.\n",
            "Try using .loc[row_indexer,col_indexer] = value instead\n",
            "\n",
            "See the caveats in the documentation: https://pandas.pydata.org/pandas-docs/stable/user_guide/indexing.html#returning-a-view-versus-a-copy\n",
            "  df_good[\"amplified_dict_healthcare_avg\"] = (df_good[\"amplified_dict_pos_healthcare\"] + df_good[\"amplified_dict_neg_healthcare\"]) / 2\n"
          ]
        }
      ]
    },
    {
      "cell_type": "code",
      "source": [
        "df_good[\"generalization_dict_healthcare_avg\"] = (df_good[\"generalization_dict_pos_healthcare\"] + df_good[\"generalization_dict_neg_healthcare\"]) / 2\n",
        "df_good[\"certainty_dict_healthcare_avg\"] = (df_good[\"certainty_dict_pos_healthcare\"] + df_good[\"certainty_dict_neg_healthcare\"]) / 2\n",
        "df_good[\"intensifier_dict_healthcare_avg\"] = (df_good[\"intensifier_dict_pos_healthcare\"] + df_good[\"intensifier_dict_neg_healthcare\"]) / 2\n",
        "df_good[\"specification_dict_healthcare_avg\"] = (df_good[\"specification_dict_pos_healthcare\"] + df_good[\"specification_dict_neg_healthcare\"]) / 2\n",
        "df_good[\"detensifier_dict_healthcare_avg\"] = (df_good[\"detensifier_dict_pos_healthcare\"] + df_good[\"detensifier_dict_neg_healthcare\"]) / 2\n",
        "df_good[\"uncertainty_dict_healthcare_avg\"] = (df_good[\"uncertainty_dict_pos_healthcare\"] + df_good[\"uncertainty_dict_neg_healthcare\"]) / 2"
      ],
      "metadata": {
        "colab": {
          "base_uri": "https://localhost:8080/"
        },
        "id": "LH31ZE6XslI_",
        "outputId": "6992216b-20f3-439e-ad55-c2ad37ddb73d"
      },
      "execution_count": 214,
      "outputs": [
        {
          "output_type": "stream",
          "name": "stderr",
          "text": [
            "/tmp/ipython-input-2550090087.py:1: SettingWithCopyWarning: \n",
            "A value is trying to be set on a copy of a slice from a DataFrame.\n",
            "Try using .loc[row_indexer,col_indexer] = value instead\n",
            "\n",
            "See the caveats in the documentation: https://pandas.pydata.org/pandas-docs/stable/user_guide/indexing.html#returning-a-view-versus-a-copy\n",
            "  df_good[\"generalization_dict_healthcare_avg\"] = (df_good[\"generalization_dict_pos_healthcare\"] + df_good[\"generalization_dict_neg_healthcare\"]) / 2\n",
            "/tmp/ipython-input-2550090087.py:2: SettingWithCopyWarning: \n",
            "A value is trying to be set on a copy of a slice from a DataFrame.\n",
            "Try using .loc[row_indexer,col_indexer] = value instead\n",
            "\n",
            "See the caveats in the documentation: https://pandas.pydata.org/pandas-docs/stable/user_guide/indexing.html#returning-a-view-versus-a-copy\n",
            "  df_good[\"certainty_dict_healthcare_avg\"] = (df_good[\"certainty_dict_pos_healthcare\"] + df_good[\"certainty_dict_neg_healthcare\"]) / 2\n",
            "/tmp/ipython-input-2550090087.py:3: SettingWithCopyWarning: \n",
            "A value is trying to be set on a copy of a slice from a DataFrame.\n",
            "Try using .loc[row_indexer,col_indexer] = value instead\n",
            "\n",
            "See the caveats in the documentation: https://pandas.pydata.org/pandas-docs/stable/user_guide/indexing.html#returning-a-view-versus-a-copy\n",
            "  df_good[\"intensifier_dict_healthcare_avg\"] = (df_good[\"intensifier_dict_pos_healthcare\"] + df_good[\"intensifier_dict_neg_healthcare\"]) / 2\n",
            "/tmp/ipython-input-2550090087.py:4: SettingWithCopyWarning: \n",
            "A value is trying to be set on a copy of a slice from a DataFrame.\n",
            "Try using .loc[row_indexer,col_indexer] = value instead\n",
            "\n",
            "See the caveats in the documentation: https://pandas.pydata.org/pandas-docs/stable/user_guide/indexing.html#returning-a-view-versus-a-copy\n",
            "  df_good[\"specification_dict_healthcare_avg\"] = (df_good[\"specification_dict_pos_healthcare\"] + df_good[\"specification_dict_neg_healthcare\"]) / 2\n",
            "/tmp/ipython-input-2550090087.py:5: SettingWithCopyWarning: \n",
            "A value is trying to be set on a copy of a slice from a DataFrame.\n",
            "Try using .loc[row_indexer,col_indexer] = value instead\n",
            "\n",
            "See the caveats in the documentation: https://pandas.pydata.org/pandas-docs/stable/user_guide/indexing.html#returning-a-view-versus-a-copy\n",
            "  df_good[\"detensifier_dict_healthcare_avg\"] = (df_good[\"detensifier_dict_pos_healthcare\"] + df_good[\"detensifier_dict_neg_healthcare\"]) / 2\n",
            "/tmp/ipython-input-2550090087.py:6: SettingWithCopyWarning: \n",
            "A value is trying to be set on a copy of a slice from a DataFrame.\n",
            "Try using .loc[row_indexer,col_indexer] = value instead\n",
            "\n",
            "See the caveats in the documentation: https://pandas.pydata.org/pandas-docs/stable/user_guide/indexing.html#returning-a-view-versus-a-copy\n",
            "  df_good[\"uncertainty_dict_healthcare_avg\"] = (df_good[\"uncertainty_dict_pos_healthcare\"] + df_good[\"uncertainty_dict_neg_healthcare\"]) / 2\n"
          ]
        }
      ]
    },
    {
      "cell_type": "code",
      "source": [
        "df_good[\"amplified_dict_pos_char_control\"] = df_good[\"amplified_dict_pos_char\"] - df_good[\"amplified_dict_healthcare_avg\"]\n",
        "df_good[\"amplified_dict_neg_char_control\"] = df_good[\"amplified_dict_neg_char\"] - df_good[\"amplified_dict_healthcare_avg\"]\n",
        "df_good[\"attenuated_dict_pos_char_control\"] = df_good[\"attenuated_dict_pos_char\"] - df_good[\"attenuated_dict_healthcare_avg\"]\n",
        "df_good[\"attenuated_dict_neg_char_control\"] = df_good[\"attenuated_dict_neg_char\"] - df_good[\"attenuated_dict_healthcare_avg\"]"
      ],
      "metadata": {
        "colab": {
          "base_uri": "https://localhost:8080/"
        },
        "id": "nhN_nMKsPz26",
        "outputId": "cc84bd08-b590-49aa-ac43-70503a46a498"
      },
      "execution_count": 215,
      "outputs": [
        {
          "output_type": "stream",
          "name": "stderr",
          "text": [
            "/tmp/ipython-input-1817407185.py:1: SettingWithCopyWarning: \n",
            "A value is trying to be set on a copy of a slice from a DataFrame.\n",
            "Try using .loc[row_indexer,col_indexer] = value instead\n",
            "\n",
            "See the caveats in the documentation: https://pandas.pydata.org/pandas-docs/stable/user_guide/indexing.html#returning-a-view-versus-a-copy\n",
            "  df_good[\"amplified_dict_pos_char_control\"] = df_good[\"amplified_dict_pos_char\"] - df_good[\"amplified_dict_healthcare_avg\"]\n",
            "/tmp/ipython-input-1817407185.py:2: SettingWithCopyWarning: \n",
            "A value is trying to be set on a copy of a slice from a DataFrame.\n",
            "Try using .loc[row_indexer,col_indexer] = value instead\n",
            "\n",
            "See the caveats in the documentation: https://pandas.pydata.org/pandas-docs/stable/user_guide/indexing.html#returning-a-view-versus-a-copy\n",
            "  df_good[\"amplified_dict_neg_char_control\"] = df_good[\"amplified_dict_neg_char\"] - df_good[\"amplified_dict_healthcare_avg\"]\n",
            "/tmp/ipython-input-1817407185.py:3: SettingWithCopyWarning: \n",
            "A value is trying to be set on a copy of a slice from a DataFrame.\n",
            "Try using .loc[row_indexer,col_indexer] = value instead\n",
            "\n",
            "See the caveats in the documentation: https://pandas.pydata.org/pandas-docs/stable/user_guide/indexing.html#returning-a-view-versus-a-copy\n",
            "  df_good[\"attenuated_dict_pos_char_control\"] = df_good[\"attenuated_dict_pos_char\"] - df_good[\"attenuated_dict_healthcare_avg\"]\n",
            "/tmp/ipython-input-1817407185.py:4: SettingWithCopyWarning: \n",
            "A value is trying to be set on a copy of a slice from a DataFrame.\n",
            "Try using .loc[row_indexer,col_indexer] = value instead\n",
            "\n",
            "See the caveats in the documentation: https://pandas.pydata.org/pandas-docs/stable/user_guide/indexing.html#returning-a-view-versus-a-copy\n",
            "  df_good[\"attenuated_dict_neg_char_control\"] = df_good[\"attenuated_dict_neg_char\"] - df_good[\"attenuated_dict_healthcare_avg\"]\n"
          ]
        }
      ]
    },
    {
      "cell_type": "code",
      "source": [
        "df_good[\"generalization_dict_pos_char_control\"] = df_good[\"generalization_dict_pos_char\"] - df_good[\"generalization_dict_healthcare_avg\"]\n",
        "df_good[\"intensifier_dict_pos_char_control\"] = df_good[\"intensifier_dict_pos_char\"] - df_good[\"intensifier_dict_healthcare_avg\"]\n",
        "df_good[\"certainty_dict_pos_char_control\"] = df_good[\"certainty_dict_pos_char\"] - df_good[\"certainty_dict_healthcare_avg\"]\n",
        "\n",
        "df_good[\"generalization_dict_neg_char_control\"] = df_good[\"generalization_dict_neg_char\"] - df_good[\"generalization_dict_healthcare_avg\"]\n",
        "df_good[\"intensifier_dict_neg_char_control\"] = df_good[\"intensifier_dict_neg_char\"] - df_good[\"intensifier_dict_healthcare_avg\"]\n",
        "df_good[\"certainty_dict_neg_char_control\"] = df_good[\"certainty_dict_neg_char\"] - df_good[\"certainty_dict_healthcare_avg\"]\n",
        "\n",
        "df_good[\"specification_dict_pos_char_control\"] = df_good[\"specification_dict_pos_char\"] - df_good[\"specification_dict_healthcare_avg\"]\n",
        "df_good[\"detensifier_dict_pos_char_control\"] = df_good[\"detensifier_dict_pos_char\"] - df_good[\"detensifier_dict_healthcare_avg\"]\n",
        "df_good[\"uncertainty_dict_pos_char_control\"] = df_good[\"uncertainty_dict_pos_char\"] - df_good[\"uncertainty_dict_healthcare_avg\"]\n",
        "\n",
        "df_good[\"specification_dict_neg_char_control\"] = df_good[\"specification_dict_neg_char\"] - df_good[\"specification_dict_healthcare_avg\"]\n",
        "df_good[\"detensifier_dict_neg_char_control\"] = df_good[\"detensifier_dict_neg_char\"] - df_good[\"detensifier_dict_healthcare_avg\"]\n",
        "df_good[\"uncertainty_dict_neg_char_control\"] = df_good[\"uncertainty_dict_neg_char\"] - df_good[\"uncertainty_dict_healthcare_avg\"]"
      ],
      "metadata": {
        "colab": {
          "base_uri": "https://localhost:8080/"
        },
        "id": "t4KommMGsZxw",
        "outputId": "3d118432-d5ba-4958-d932-ffcac35bcb11"
      },
      "execution_count": 216,
      "outputs": [
        {
          "output_type": "stream",
          "name": "stderr",
          "text": [
            "/tmp/ipython-input-2064350137.py:1: SettingWithCopyWarning: \n",
            "A value is trying to be set on a copy of a slice from a DataFrame.\n",
            "Try using .loc[row_indexer,col_indexer] = value instead\n",
            "\n",
            "See the caveats in the documentation: https://pandas.pydata.org/pandas-docs/stable/user_guide/indexing.html#returning-a-view-versus-a-copy\n",
            "  df_good[\"generalization_dict_pos_char_control\"] = df_good[\"generalization_dict_pos_char\"] - df_good[\"generalization_dict_healthcare_avg\"]\n",
            "/tmp/ipython-input-2064350137.py:2: SettingWithCopyWarning: \n",
            "A value is trying to be set on a copy of a slice from a DataFrame.\n",
            "Try using .loc[row_indexer,col_indexer] = value instead\n",
            "\n",
            "See the caveats in the documentation: https://pandas.pydata.org/pandas-docs/stable/user_guide/indexing.html#returning-a-view-versus-a-copy\n",
            "  df_good[\"intensifier_dict_pos_char_control\"] = df_good[\"intensifier_dict_pos_char\"] - df_good[\"intensifier_dict_healthcare_avg\"]\n",
            "/tmp/ipython-input-2064350137.py:3: SettingWithCopyWarning: \n",
            "A value is trying to be set on a copy of a slice from a DataFrame.\n",
            "Try using .loc[row_indexer,col_indexer] = value instead\n",
            "\n",
            "See the caveats in the documentation: https://pandas.pydata.org/pandas-docs/stable/user_guide/indexing.html#returning-a-view-versus-a-copy\n",
            "  df_good[\"certainty_dict_pos_char_control\"] = df_good[\"certainty_dict_pos_char\"] - df_good[\"certainty_dict_healthcare_avg\"]\n",
            "/tmp/ipython-input-2064350137.py:5: SettingWithCopyWarning: \n",
            "A value is trying to be set on a copy of a slice from a DataFrame.\n",
            "Try using .loc[row_indexer,col_indexer] = value instead\n",
            "\n",
            "See the caveats in the documentation: https://pandas.pydata.org/pandas-docs/stable/user_guide/indexing.html#returning-a-view-versus-a-copy\n",
            "  df_good[\"generalization_dict_neg_char_control\"] = df_good[\"generalization_dict_neg_char\"] - df_good[\"generalization_dict_healthcare_avg\"]\n",
            "/tmp/ipython-input-2064350137.py:6: SettingWithCopyWarning: \n",
            "A value is trying to be set on a copy of a slice from a DataFrame.\n",
            "Try using .loc[row_indexer,col_indexer] = value instead\n",
            "\n",
            "See the caveats in the documentation: https://pandas.pydata.org/pandas-docs/stable/user_guide/indexing.html#returning-a-view-versus-a-copy\n",
            "  df_good[\"intensifier_dict_neg_char_control\"] = df_good[\"intensifier_dict_neg_char\"] - df_good[\"intensifier_dict_healthcare_avg\"]\n",
            "/tmp/ipython-input-2064350137.py:7: SettingWithCopyWarning: \n",
            "A value is trying to be set on a copy of a slice from a DataFrame.\n",
            "Try using .loc[row_indexer,col_indexer] = value instead\n",
            "\n",
            "See the caveats in the documentation: https://pandas.pydata.org/pandas-docs/stable/user_guide/indexing.html#returning-a-view-versus-a-copy\n",
            "  df_good[\"certainty_dict_neg_char_control\"] = df_good[\"certainty_dict_neg_char\"] - df_good[\"certainty_dict_healthcare_avg\"]\n",
            "/tmp/ipython-input-2064350137.py:9: SettingWithCopyWarning: \n",
            "A value is trying to be set on a copy of a slice from a DataFrame.\n",
            "Try using .loc[row_indexer,col_indexer] = value instead\n",
            "\n",
            "See the caveats in the documentation: https://pandas.pydata.org/pandas-docs/stable/user_guide/indexing.html#returning-a-view-versus-a-copy\n",
            "  df_good[\"specification_dict_pos_char_control\"] = df_good[\"specification_dict_pos_char\"] - df_good[\"specification_dict_healthcare_avg\"]\n",
            "/tmp/ipython-input-2064350137.py:10: SettingWithCopyWarning: \n",
            "A value is trying to be set on a copy of a slice from a DataFrame.\n",
            "Try using .loc[row_indexer,col_indexer] = value instead\n",
            "\n",
            "See the caveats in the documentation: https://pandas.pydata.org/pandas-docs/stable/user_guide/indexing.html#returning-a-view-versus-a-copy\n",
            "  df_good[\"detensifier_dict_pos_char_control\"] = df_good[\"detensifier_dict_pos_char\"] - df_good[\"detensifier_dict_healthcare_avg\"]\n",
            "/tmp/ipython-input-2064350137.py:11: SettingWithCopyWarning: \n",
            "A value is trying to be set on a copy of a slice from a DataFrame.\n",
            "Try using .loc[row_indexer,col_indexer] = value instead\n",
            "\n",
            "See the caveats in the documentation: https://pandas.pydata.org/pandas-docs/stable/user_guide/indexing.html#returning-a-view-versus-a-copy\n",
            "  df_good[\"uncertainty_dict_pos_char_control\"] = df_good[\"uncertainty_dict_pos_char\"] - df_good[\"uncertainty_dict_healthcare_avg\"]\n",
            "/tmp/ipython-input-2064350137.py:13: SettingWithCopyWarning: \n",
            "A value is trying to be set on a copy of a slice from a DataFrame.\n",
            "Try using .loc[row_indexer,col_indexer] = value instead\n",
            "\n",
            "See the caveats in the documentation: https://pandas.pydata.org/pandas-docs/stable/user_guide/indexing.html#returning-a-view-versus-a-copy\n",
            "  df_good[\"specification_dict_neg_char_control\"] = df_good[\"specification_dict_neg_char\"] - df_good[\"specification_dict_healthcare_avg\"]\n",
            "/tmp/ipython-input-2064350137.py:14: SettingWithCopyWarning: \n",
            "A value is trying to be set on a copy of a slice from a DataFrame.\n",
            "Try using .loc[row_indexer,col_indexer] = value instead\n",
            "\n",
            "See the caveats in the documentation: https://pandas.pydata.org/pandas-docs/stable/user_guide/indexing.html#returning-a-view-versus-a-copy\n",
            "  df_good[\"detensifier_dict_neg_char_control\"] = df_good[\"detensifier_dict_neg_char\"] - df_good[\"detensifier_dict_healthcare_avg\"]\n",
            "/tmp/ipython-input-2064350137.py:15: SettingWithCopyWarning: \n",
            "A value is trying to be set on a copy of a slice from a DataFrame.\n",
            "Try using .loc[row_indexer,col_indexer] = value instead\n",
            "\n",
            "See the caveats in the documentation: https://pandas.pydata.org/pandas-docs/stable/user_guide/indexing.html#returning-a-view-versus-a-copy\n",
            "  df_good[\"uncertainty_dict_neg_char_control\"] = df_good[\"uncertainty_dict_neg_char\"] - df_good[\"uncertainty_dict_healthcare_avg\"]\n"
          ]
        }
      ]
    },
    {
      "cell_type": "code",
      "source": [
        "df_good.to_csv(\"df_good.csv\")"
      ],
      "metadata": {
        "id": "lBX7Fth_85FL"
      },
      "execution_count": 217,
      "outputs": []
    },
    {
      "cell_type": "markdown",
      "source": [
        "Descriptive analyses and plotting"
      ],
      "metadata": {
        "id": "NnfHT4WgezYH"
      }
    },
    {
      "cell_type": "code",
      "source": [
        "#plot 4 distributions\n",
        "\n",
        "# amplified pos\n",
        "\n",
        "ampl_pos = df_good[\"amplified_dict_pos_char_control\"]\n",
        "ampl_pos.describe()"
      ],
      "metadata": {
        "colab": {
          "base_uri": "https://localhost:8080/",
          "height": 335
        },
        "outputId": "bd134509-4f72-42d4-b9f2-b73037036947",
        "id": "Khdy9zqXezYH"
      },
      "execution_count": 218,
      "outputs": [
        {
          "output_type": "execute_result",
          "data": {
            "text/plain": [
              "count    377.000000\n",
              "mean       1.486739\n",
              "std        2.824383\n",
              "min       -5.336208\n",
              "25%       -0.374383\n",
              "50%        1.209261\n",
              "75%        3.073252\n",
              "max       13.043478\n",
              "Name: amplified_dict_pos_char_control, dtype: float64"
            ],
            "text/html": [
              "<div>\n",
              "<style scoped>\n",
              "    .dataframe tbody tr th:only-of-type {\n",
              "        vertical-align: middle;\n",
              "    }\n",
              "\n",
              "    .dataframe tbody tr th {\n",
              "        vertical-align: top;\n",
              "    }\n",
              "\n",
              "    .dataframe thead th {\n",
              "        text-align: right;\n",
              "    }\n",
              "</style>\n",
              "<table border=\"1\" class=\"dataframe\">\n",
              "  <thead>\n",
              "    <tr style=\"text-align: right;\">\n",
              "      <th></th>\n",
              "      <th>amplified_dict_pos_char_control</th>\n",
              "    </tr>\n",
              "  </thead>\n",
              "  <tbody>\n",
              "    <tr>\n",
              "      <th>count</th>\n",
              "      <td>377.000000</td>\n",
              "    </tr>\n",
              "    <tr>\n",
              "      <th>mean</th>\n",
              "      <td>1.486739</td>\n",
              "    </tr>\n",
              "    <tr>\n",
              "      <th>std</th>\n",
              "      <td>2.824383</td>\n",
              "    </tr>\n",
              "    <tr>\n",
              "      <th>min</th>\n",
              "      <td>-5.336208</td>\n",
              "    </tr>\n",
              "    <tr>\n",
              "      <th>25%</th>\n",
              "      <td>-0.374383</td>\n",
              "    </tr>\n",
              "    <tr>\n",
              "      <th>50%</th>\n",
              "      <td>1.209261</td>\n",
              "    </tr>\n",
              "    <tr>\n",
              "      <th>75%</th>\n",
              "      <td>3.073252</td>\n",
              "    </tr>\n",
              "    <tr>\n",
              "      <th>max</th>\n",
              "      <td>13.043478</td>\n",
              "    </tr>\n",
              "  </tbody>\n",
              "</table>\n",
              "</div><br><label><b>dtype:</b> float64</label>"
            ]
          },
          "metadata": {},
          "execution_count": 218
        }
      ]
    },
    {
      "cell_type": "code",
      "source": [
        "plt.hist(ampl_pos)\n",
        "plt.ylabel(\"Frequency of participants\")\n",
        "plt.xlabel(\"ampl_pos\")\n",
        "plt.show()"
      ],
      "metadata": {
        "colab": {
          "base_uri": "https://localhost:8080/",
          "height": 450
        },
        "outputId": "1fc2888c-0feb-4d54-9f5f-5b4e6fcba0cb",
        "id": "p25N5A6RezYH"
      },
      "execution_count": 219,
      "outputs": [
        {
          "output_type": "display_data",
          "data": {
            "text/plain": [
              "<Figure size 640x480 with 1 Axes>"
            ],
            "image/png": "[encoded data removed]"
          },
          "metadata": {}
        }
      ]
    },
    {
      "cell_type": "code",
      "source": [
        "# amplified pos chat\n",
        "\n",
        "ampl_neg = df_good[\"amplified_dict_neg_char_control\"]\n",
        "ampl_neg.describe()"
      ],
      "metadata": {
        "colab": {
          "base_uri": "https://localhost:8080/",
          "height": 335
        },
        "outputId": "67a74918-2de9-495a-a0b8-fa1b31e9b4b7",
        "id": "l2KndMILezYH"
      },
      "execution_count": 220,
      "outputs": [
        {
          "output_type": "execute_result",
          "data": {
            "text/plain": [
              "count    377.000000\n",
              "mean       0.532989\n",
              "std        2.536471\n",
              "min       -7.007168\n",
              "25%       -0.955746\n",
              "50%        0.308642\n",
              "75%        1.785714\n",
              "max       17.647059\n",
              "Name: amplified_dict_neg_char_control, dtype: float64"
            ],
            "text/html": [
              "<div>\n",
              "<style scoped>\n",
              "    .dataframe tbody tr th:only-of-type {\n",
              "        vertical-align: middle;\n",
              "    }\n",
              "\n",
              "    .dataframe tbody tr th {\n",
              "        vertical-align: top;\n",
              "    }\n",
              "\n",
              "    .dataframe thead th {\n",
              "        text-align: right;\n",
              "    }\n",
              "</style>\n",
              "<table border=\"1\" class=\"dataframe\">\n",
              "  <thead>\n",
              "    <tr style=\"text-align: right;\">\n",
              "      <th></th>\n",
              "      <th>amplified_dict_neg_char_control</th>\n",
              "    </tr>\n",
              "  </thead>\n",
              "  <tbody>\n",
              "    <tr>\n",
              "      <th>count</th>\n",
              "      <td>377.000000</td>\n",
              "    </tr>\n",
              "    <tr>\n",
              "      <th>mean</th>\n",
              "      <td>0.532989</td>\n",
              "    </tr>\n",
              "    <tr>\n",
              "      <th>std</th>\n",
              "      <td>2.536471</td>\n",
              "    </tr>\n",
              "    <tr>\n",
              "      <th>min</th>\n",
              "      <td>-7.007168</td>\n",
              "    </tr>\n",
              "    <tr>\n",
              "      <th>25%</th>\n",
              "      <td>-0.955746</td>\n",
              "    </tr>\n",
              "    <tr>\n",
              "      <th>50%</th>\n",
              "      <td>0.308642</td>\n",
              "    </tr>\n",
              "    <tr>\n",
              "      <th>75%</th>\n",
              "      <td>1.785714</td>\n",
              "    </tr>\n",
              "    <tr>\n",
              "      <th>max</th>\n",
              "      <td>17.647059</td>\n",
              "    </tr>\n",
              "  </tbody>\n",
              "</table>\n",
              "</div><br><label><b>dtype:</b> float64</label>"
            ]
          },
          "metadata": {},
          "execution_count": 220
        }
      ]
    },
    {
      "cell_type": "code",
      "source": [
        "plt.hist(ampl_neg)\n",
        "plt.ylabel(\"Frequency of participants\")\n",
        "plt.xlabel(\"ampl_neg\")\n",
        "plt.show()"
      ],
      "metadata": {
        "colab": {
          "base_uri": "https://localhost:8080/",
          "height": 450
        },
        "outputId": "e3b40b07-83b5-4d07-d6e4-d181c504892c",
        "id": "14I9rbYCezYI"
      },
      "execution_count": 221,
      "outputs": [
        {
          "output_type": "display_data",
          "data": {
            "text/plain": [
              "<Figure size 640x480 with 1 Axes>"
            ],
            "image/png": "[encoded data removed]"
          },
          "metadata": {}
        }
      ]
    },
    {
      "cell_type": "code",
      "source": [
        "# attenuated pos char\n",
        "\n",
        "atten_pos = df_good[\"attenuated_dict_pos_char_control\"]\n",
        "atten_pos.describe()"
      ],
      "metadata": {
        "colab": {
          "base_uri": "https://localhost:8080/",
          "height": 335
        },
        "outputId": "7ff7879b-abe5-45c0-b572-2f073a963ccb",
        "id": "HlgkQl86ezYI"
      },
      "execution_count": 222,
      "outputs": [
        {
          "output_type": "execute_result",
          "data": {
            "text/plain": [
              "count    377.000000\n",
              "mean      -1.194562\n",
              "std        3.119761\n",
              "min       -9.085842\n",
              "25%       -3.260431\n",
              "50%       -1.311722\n",
              "75%        0.801115\n",
              "max        9.317170\n",
              "Name: attenuated_dict_pos_char_control, dtype: float64"
            ],
            "text/html": [
              "<div>\n",
              "<style scoped>\n",
              "    .dataframe tbody tr th:only-of-type {\n",
              "        vertical-align: middle;\n",
              "    }\n",
              "\n",
              "    .dataframe tbody tr th {\n",
              "        vertical-align: top;\n",
              "    }\n",
              "\n",
              "    .dataframe thead th {\n",
              "        text-align: right;\n",
              "    }\n",
              "</style>\n",
              "<table border=\"1\" class=\"dataframe\">\n",
              "  <thead>\n",
              "    <tr style=\"text-align: right;\">\n",
              "      <th></th>\n",
              "      <th>attenuated_dict_pos_char_control</th>\n",
              "    </tr>\n",
              "  </thead>\n",
              "  <tbody>\n",
              "    <tr>\n",
              "      <th>count</th>\n",
              "      <td>377.000000</td>\n",
              "    </tr>\n",
              "    <tr>\n",
              "      <th>mean</th>\n",
              "      <td>-1.194562</td>\n",
              "    </tr>\n",
              "    <tr>\n",
              "      <th>std</th>\n",
              "      <td>3.119761</td>\n",
              "    </tr>\n",
              "    <tr>\n",
              "      <th>min</th>\n",
              "      <td>-9.085842</td>\n",
              "    </tr>\n",
              "    <tr>\n",
              "      <th>25%</th>\n",
              "      <td>-3.260431</td>\n",
              "    </tr>\n",
              "    <tr>\n",
              "      <th>50%</th>\n",
              "      <td>-1.311722</td>\n",
              "    </tr>\n",
              "    <tr>\n",
              "      <th>75%</th>\n",
              "      <td>0.801115</td>\n",
              "    </tr>\n",
              "    <tr>\n",
              "      <th>max</th>\n",
              "      <td>9.317170</td>\n",
              "    </tr>\n",
              "  </tbody>\n",
              "</table>\n",
              "</div><br><label><b>dtype:</b> float64</label>"
            ]
          },
          "metadata": {},
          "execution_count": 222
        }
      ]
    },
    {
      "cell_type": "code",
      "source": [
        "plt.hist(atten_pos)\n",
        "plt.ylabel(\"Frequency of participants\")\n",
        "plt.xlabel(\"atten_pos\")\n",
        "plt.show()"
      ],
      "metadata": {
        "colab": {
          "base_uri": "https://localhost:8080/",
          "height": 449
        },
        "outputId": "c1020c7b-b3a2-4e8f-abc2-dc0117c6395d",
        "id": "0a1qn0LbezYI"
      },
      "execution_count": 223,
      "outputs": [
        {
          "output_type": "display_data",
          "data": {
            "text/plain": [
              "<Figure size 640x480 with 1 Axes>"
            ],
            "image/png": "[encoded data removed]"
          },
          "metadata": {}
        }
      ]
    },
    {
      "cell_type": "code",
      "source": [
        "# attenuated neg char\n",
        "\n",
        "atten_neg = df_good[\"attenuated_dict_neg_char_control\"]\n",
        "atten_neg.describe()"
      ],
      "metadata": {
        "colab": {
          "base_uri": "https://localhost:8080/",
          "height": 335
        },
        "outputId": "0a871559-aae4-4c9d-f5c2-ad0ab27a9eef",
        "id": "z2rAdHBXezYI"
      },
      "execution_count": 224,
      "outputs": [
        {
          "output_type": "execute_result",
          "data": {
            "text/plain": [
              "count    377.000000\n",
              "mean       2.832341\n",
              "std        4.155110\n",
              "min       -8.673469\n",
              "25%        0.233994\n",
              "50%        2.473193\n",
              "75%        4.979592\n",
              "max       24.772727\n",
              "Name: attenuated_dict_neg_char_control, dtype: float64"
            ],
            "text/html": [
              "<div>\n",
              "<style scoped>\n",
              "    .dataframe tbody tr th:only-of-type {\n",
              "        vertical-align: middle;\n",
              "    }\n",
              "\n",
              "    .dataframe tbody tr th {\n",
              "        vertical-align: top;\n",
              "    }\n",
              "\n",
              "    .dataframe thead th {\n",
              "        text-align: right;\n",
              "    }\n",
              "</style>\n",
              "<table border=\"1\" class=\"dataframe\">\n",
              "  <thead>\n",
              "    <tr style=\"text-align: right;\">\n",
              "      <th></th>\n",
              "      <th>attenuated_dict_neg_char_control</th>\n",
              "    </tr>\n",
              "  </thead>\n",
              "  <tbody>\n",
              "    <tr>\n",
              "      <th>count</th>\n",
              "      <td>377.000000</td>\n",
              "    </tr>\n",
              "    <tr>\n",
              "      <th>mean</th>\n",
              "      <td>2.832341</td>\n",
              "    </tr>\n",
              "    <tr>\n",
              "      <th>std</th>\n",
              "      <td>4.155110</td>\n",
              "    </tr>\n",
              "    <tr>\n",
              "      <th>min</th>\n",
              "      <td>-8.673469</td>\n",
              "    </tr>\n",
              "    <tr>\n",
              "      <th>25%</th>\n",
              "      <td>0.233994</td>\n",
              "    </tr>\n",
              "    <tr>\n",
              "      <th>50%</th>\n",
              "      <td>2.473193</td>\n",
              "    </tr>\n",
              "    <tr>\n",
              "      <th>75%</th>\n",
              "      <td>4.979592</td>\n",
              "    </tr>\n",
              "    <tr>\n",
              "      <th>max</th>\n",
              "      <td>24.772727</td>\n",
              "    </tr>\n",
              "  </tbody>\n",
              "</table>\n",
              "</div><br><label><b>dtype:</b> float64</label>"
            ]
          },
          "metadata": {},
          "execution_count": 224
        }
      ]
    },
    {
      "cell_type": "code",
      "source": [
        "plt.hist(atten_neg)\n",
        "plt.ylabel(\"Frequency of participants\")\n",
        "plt.xlabel(\"atten_neg\")\n",
        "plt.show()"
      ],
      "metadata": {
        "colab": {
          "base_uri": "https://localhost:8080/",
          "height": 449
        },
        "outputId": "ca5f7191-fedd-46ac-f847-aa3a9bda723f",
        "id": "j6smntmTezYI"
      },
      "execution_count": 225,
      "outputs": [
        {
          "output_type": "display_data",
          "data": {
            "text/plain": [
              "<Figure size 640x480 with 1 Axes>"
            ],
            "image/png": "[encoded data removed]"
          },
          "metadata": {}
        }
      ]
    },
    {
      "cell_type": "code",
      "source": [
        "SE_avg = df_good[\"SE_avg\"]\n",
        "plt.hist(SE_avg)\n",
        "plt.ylabel(\"Frequency of participants\")\n",
        "plt.xlabel(\"SE_avg\")\n",
        "plt.show()"
      ],
      "metadata": {
        "colab": {
          "base_uri": "https://localhost:8080/",
          "height": 449
        },
        "collapsed": true,
        "id": "MCDIE0HfWvKO",
        "outputId": "6ed05db5-8d77-464d-a3ca-fc83f22565cd"
      },
      "execution_count": 226,
      "outputs": [
        {
          "output_type": "display_data",
          "data": {
            "text/plain": [
              "<Figure size 640x480 with 1 Axes>"
            ],
            "image/png": "[encoded data removed]"
          },
          "metadata": {}
        }
      ]
    },
    {
      "cell_type": "code",
      "source": [
        "SESPM_favorable_construals_avg = df_good[\"SESPM_favorable_construals_avg\"]\n",
        "plt.hist(SESPM_favorable_construals_avg)\n",
        "plt.ylabel(\"Frequency of participants\")\n",
        "plt.xlabel(\"SESPM_favorable_construals_avg\")\n",
        "plt.show()"
      ],
      "metadata": {
        "colab": {
          "base_uri": "https://localhost:8080/",
          "height": 450
        },
        "collapsed": true,
        "id": "256uV3o5Wv-Q",
        "outputId": "1e86de0e-45d1-4052-a795-5219354414fa"
      },
      "execution_count": 227,
      "outputs": [
        {
          "output_type": "display_data",
          "data": {
            "text/plain": [
              "<Figure size 640x480 with 1 Axes>"
            ],
            "image/png": "[encoded data removed]"
          },
          "metadata": {}
        }
      ]
    },
    {
      "cell_type": "code",
      "source": [
        "SPI_avg = df_good[\"SPI_avg\"]\n",
        "plt.hist(SPI_avg)\n",
        "plt.ylabel(\"Frequency of participants\")\n",
        "plt.xlabel(\"SPI_avg\")\n",
        "plt.show()"
      ],
      "metadata": {
        "colab": {
          "base_uri": "https://localhost:8080/",
          "height": 449
        },
        "collapsed": true,
        "id": "hM8wnHU4Wwao",
        "outputId": "6741f3b2-c6aa-48be-81d6-747576b66929"
      },
      "execution_count": 228,
      "outputs": [
        {
          "output_type": "display_data",
          "data": {
            "text/plain": [
              "<Figure size 640x480 with 1 Axes>"
            ],
            "image/png": "[encoded data removed]"
          },
          "metadata": {}
        }
      ]
    },
    {
      "cell_type": "code",
      "source": [
        "SPM_avg = df_good[\"SPM_avg\"]\n",
        "plt.hist(SPM_avg)\n",
        "plt.ylabel(\"Frequency of participants\")\n",
        "plt.xlabel(\"SPM_avg\")\n",
        "plt.show()"
      ],
      "metadata": {
        "colab": {
          "base_uri": "https://localhost:8080/",
          "height": 449
        },
        "collapsed": true,
        "id": "currP1b_Ww_4",
        "outputId": "520aacde-9424-4b94-b826-f7e96f887eef"
      },
      "execution_count": 229,
      "outputs": [
        {
          "output_type": "display_data",
          "data": {
            "text/plain": [
              "<Figure size 640x480 with 1 Axes>"
            ],
            "image/png": "[encoded data removed]"
          },
          "metadata": {}
        }
      ]
    },
    {
      "cell_type": "code",
      "source": [
        "ext  = df_good[\"extraversion_avg\"]"
      ],
      "metadata": {
        "id": "zTYIyQ-KW7LT"
      },
      "execution_count": 230,
      "outputs": []
    },
    {
      "cell_type": "code",
      "source": [
        "plt.hist(ext)\n",
        "plt.ylabel(\"Frequency of participants\")\n",
        "plt.xlabel(\"ext\")\n",
        "plt.show()"
      ],
      "metadata": {
        "colab": {
          "base_uri": "https://localhost:8080/",
          "height": 449
        },
        "id": "Xf12JD-X6Fpu",
        "outputId": "e9dbfd3c-c4f4-4f17-94fe-b8c891bdd252"
      },
      "execution_count": 231,
      "outputs": [
        {
          "output_type": "display_data",
          "data": {
            "text/plain": [
              "<Figure size 640x480 with 1 Axes>"
            ],
            "image/png": "[encoded data removed]"
          },
          "metadata": {}
        }
      ]
    },
    {
      "cell_type": "code",
      "source": [
        "dep = df_good[\"DASS21_dep_sum\"]\n",
        "dep.describe()"
      ],
      "metadata": {
        "colab": {
          "base_uri": "https://localhost:8080/",
          "height": 335
        },
        "outputId": "7d8bb908-849b-4fd5-8e1e-cfcb273d6c94",
        "id": "zpab0WfC6F4m"
      },
      "execution_count": 232,
      "outputs": [
        {
          "output_type": "execute_result",
          "data": {
            "text/plain": [
              "count    377.000000\n",
              "mean      11.161804\n",
              "std        6.153431\n",
              "min        1.000000\n",
              "25%        7.000000\n",
              "50%        9.000000\n",
              "75%       15.000000\n",
              "max       28.000000\n",
              "Name: DASS21_dep_sum, dtype: float64"
            ],
            "text/html": [
              "<div>\n",
              "<style scoped>\n",
              "    .dataframe tbody tr th:only-of-type {\n",
              "        vertical-align: middle;\n",
              "    }\n",
              "\n",
              "    .dataframe tbody tr th {\n",
              "        vertical-align: top;\n",
              "    }\n",
              "\n",
              "    .dataframe thead th {\n",
              "        text-align: right;\n",
              "    }\n",
              "</style>\n",
              "<table border=\"1\" class=\"dataframe\">\n",
              "  <thead>\n",
              "    <tr style=\"text-align: right;\">\n",
              "      <th></th>\n",
              "      <th>DASS21_dep_sum</th>\n",
              "    </tr>\n",
              "  </thead>\n",
              "  <tbody>\n",
              "    <tr>\n",
              "      <th>count</th>\n",
              "      <td>377.000000</td>\n",
              "    </tr>\n",
              "    <tr>\n",
              "      <th>mean</th>\n",
              "      <td>11.161804</td>\n",
              "    </tr>\n",
              "    <tr>\n",
              "      <th>std</th>\n",
              "      <td>6.153431</td>\n",
              "    </tr>\n",
              "    <tr>\n",
              "      <th>min</th>\n",
              "      <td>1.000000</td>\n",
              "    </tr>\n",
              "    <tr>\n",
              "      <th>25%</th>\n",
              "      <td>7.000000</td>\n",
              "    </tr>\n",
              "    <tr>\n",
              "      <th>50%</th>\n",
              "      <td>9.000000</td>\n",
              "    </tr>\n",
              "    <tr>\n",
              "      <th>75%</th>\n",
              "      <td>15.000000</td>\n",
              "    </tr>\n",
              "    <tr>\n",
              "      <th>max</th>\n",
              "      <td>28.000000</td>\n",
              "    </tr>\n",
              "  </tbody>\n",
              "</table>\n",
              "</div><br><label><b>dtype:</b> float64</label>"
            ]
          },
          "metadata": {},
          "execution_count": 232
        }
      ]
    },
    {
      "cell_type": "code",
      "source": [
        "plt.hist(dep)\n",
        "plt.ylabel(\"Frequency of participants\")\n",
        "plt.xlabel(\"dep\")\n",
        "plt.show()"
      ],
      "metadata": {
        "colab": {
          "base_uri": "https://localhost:8080/",
          "height": 449
        },
        "outputId": "98759d8b-f648-467b-ca34-ae6f91835fa8",
        "id": "wy0LwOX-6F4o"
      },
      "execution_count": 233,
      "outputs": [
        {
          "output_type": "display_data",
          "data": {
            "text/plain": [
              "<Figure size 640x480 with 1 Axes>"
            ],
            "image/png": "[encoded data removed]"
          },
          "metadata": {}
        }
      ]
    },
    {
      "cell_type": "code",
      "source": [
        "sise = df_good[\"SISE\"]\n",
        "sise.describe()"
      ],
      "metadata": {
        "colab": {
          "base_uri": "https://localhost:8080/",
          "height": 335
        },
        "outputId": "114b3c42-29da-48ae-d7d6-cff4756afc9b",
        "id": "gtgEgpel8aDA"
      },
      "execution_count": 234,
      "outputs": [
        {
          "output_type": "execute_result",
          "data": {
            "text/plain": [
              "count    377.000000\n",
              "mean       4.811671\n",
              "std        1.954012\n",
              "min        1.000000\n",
              "25%        3.000000\n",
              "50%        5.000000\n",
              "75%        7.000000\n",
              "max        7.000000\n",
              "Name: SISE, dtype: float64"
            ],
            "text/html": [
              "<div>\n",
              "<style scoped>\n",
              "    .dataframe tbody tr th:only-of-type {\n",
              "        vertical-align: middle;\n",
              "    }\n",
              "\n",
              "    .dataframe tbody tr th {\n",
              "        vertical-align: top;\n",
              "    }\n",
              "\n",
              "    .dataframe thead th {\n",
              "        text-align: right;\n",
              "    }\n",
              "</style>\n",
              "<table border=\"1\" class=\"dataframe\">\n",
              "  <thead>\n",
              "    <tr style=\"text-align: right;\">\n",
              "      <th></th>\n",
              "      <th>SISE</th>\n",
              "    </tr>\n",
              "  </thead>\n",
              "  <tbody>\n",
              "    <tr>\n",
              "      <th>count</th>\n",
              "      <td>377.000000</td>\n",
              "    </tr>\n",
              "    <tr>\n",
              "      <th>mean</th>\n",
              "      <td>4.811671</td>\n",
              "    </tr>\n",
              "    <tr>\n",
              "      <th>std</th>\n",
              "      <td>1.954012</td>\n",
              "    </tr>\n",
              "    <tr>\n",
              "      <th>min</th>\n",
              "      <td>1.000000</td>\n",
              "    </tr>\n",
              "    <tr>\n",
              "      <th>25%</th>\n",
              "      <td>3.000000</td>\n",
              "    </tr>\n",
              "    <tr>\n",
              "      <th>50%</th>\n",
              "      <td>5.000000</td>\n",
              "    </tr>\n",
              "    <tr>\n",
              "      <th>75%</th>\n",
              "      <td>7.000000</td>\n",
              "    </tr>\n",
              "    <tr>\n",
              "      <th>max</th>\n",
              "      <td>7.000000</td>\n",
              "    </tr>\n",
              "  </tbody>\n",
              "</table>\n",
              "</div><br><label><b>dtype:</b> float64</label>"
            ]
          },
          "metadata": {},
          "execution_count": 234
        }
      ]
    },
    {
      "cell_type": "code",
      "source": [
        "plt.hist(sise)\n",
        "plt.ylabel(\"Frequency of participants\")\n",
        "plt.xlabel(\"sise\")\n",
        "plt.show()"
      ],
      "metadata": {
        "colab": {
          "base_uri": "https://localhost:8080/",
          "height": 449
        },
        "outputId": "3903c802-c93e-4057-a7c8-89d326d6ddae",
        "id": "N2zrdHRq8aDB"
      },
      "execution_count": 235,
      "outputs": [
        {
          "output_type": "display_data",
          "data": {
            "text/plain": [
              "<Figure size 640x480 with 1 Axes>"
            ],
            "image/png": "[encoded data removed]"
          },
          "metadata": {}
        }
      ]
    },
    {
      "cell_type": "code",
      "source": [
        "sar = df_good[\"SESPM_self.affirming_reflections_avg\"]\n",
        "sar.describe()"
      ],
      "metadata": {
        "colab": {
          "base_uri": "https://localhost:8080/",
          "height": 335
        },
        "outputId": "df53afd7-0ff6-442c-da4d-c7d70f79a717",
        "id": "G8z8jBBl8bBv"
      },
      "execution_count": 236,
      "outputs": [
        {
          "output_type": "execute_result",
          "data": {
            "text/plain": [
              "count    377.000000\n",
              "mean       4.457992\n",
              "std        0.976347\n",
              "min        1.000000\n",
              "25%        3.833000\n",
              "50%        4.666667\n",
              "75%        5.167000\n",
              "max        6.000000\n",
              "Name: SESPM_self.affirming_reflections_avg, dtype: float64"
            ],
            "text/html": [
              "<div>\n",
              "<style scoped>\n",
              "    .dataframe tbody tr th:only-of-type {\n",
              "        vertical-align: middle;\n",
              "    }\n",
              "\n",
              "    .dataframe tbody tr th {\n",
              "        vertical-align: top;\n",
              "    }\n",
              "\n",
              "    .dataframe thead th {\n",
              "        text-align: right;\n",
              "    }\n",
              "</style>\n",
              "<table border=\"1\" class=\"dataframe\">\n",
              "  <thead>\n",
              "    <tr style=\"text-align: right;\">\n",
              "      <th></th>\n",
              "      <th>SESPM_self.affirming_reflections_avg</th>\n",
              "    </tr>\n",
              "  </thead>\n",
              "  <tbody>\n",
              "    <tr>\n",
              "      <th>count</th>\n",
              "      <td>377.000000</td>\n",
              "    </tr>\n",
              "    <tr>\n",
              "      <th>mean</th>\n",
              "      <td>4.457992</td>\n",
              "    </tr>\n",
              "    <tr>\n",
              "      <th>std</th>\n",
              "      <td>0.976347</td>\n",
              "    </tr>\n",
              "    <tr>\n",
              "      <th>min</th>\n",
              "      <td>1.000000</td>\n",
              "    </tr>\n",
              "    <tr>\n",
              "      <th>25%</th>\n",
              "      <td>3.833000</td>\n",
              "    </tr>\n",
              "    <tr>\n",
              "      <th>50%</th>\n",
              "      <td>4.666667</td>\n",
              "    </tr>\n",
              "    <tr>\n",
              "      <th>75%</th>\n",
              "      <td>5.167000</td>\n",
              "    </tr>\n",
              "    <tr>\n",
              "      <th>max</th>\n",
              "      <td>6.000000</td>\n",
              "    </tr>\n",
              "  </tbody>\n",
              "</table>\n",
              "</div><br><label><b>dtype:</b> float64</label>"
            ]
          },
          "metadata": {},
          "execution_count": 236
        }
      ]
    },
    {
      "cell_type": "code",
      "source": [
        "plt.hist(sar)\n",
        "plt.ylabel(\"Frequency of participants\")\n",
        "plt.xlabel(\"sar\")\n",
        "plt.show()"
      ],
      "metadata": {
        "colab": {
          "base_uri": "https://localhost:8080/",
          "height": 449
        },
        "outputId": "bec9a49f-6dec-4424-c578-b39bcbc33fc2",
        "id": "i7FdSbNZ8bBw"
      },
      "execution_count": 237,
      "outputs": [
        {
          "output_type": "display_data",
          "data": {
            "text/plain": [
              "<Figure size 640x480 with 1 Axes>"
            ],
            "image/png": "[encoded data removed]"
          },
          "metadata": {}
        }
      ]
    },
    {
      "cell_type": "code",
      "source": [
        "from scipy.stats import skew\n",
        "\n",
        "print(skew(dep))\n",
        "print(skew(ext))\n",
        "print(skew(ampl_neg))\n",
        "print(skew(ampl_pos))\n",
        "print(skew(atten_neg))\n",
        "print(skew(atten_pos))"
      ],
      "metadata": {
        "colab": {
          "base_uri": "https://localhost:8080/"
        },
        "id": "8Jo9MMKa6z2L",
        "outputId": "22ab4c33-93e1-46c5-9912-3aa2f1e1527b"
      },
      "execution_count": 238,
      "outputs": [
        {
          "output_type": "stream",
          "name": "stdout",
          "text": [
            "0.7839960869185537\n",
            "-0.5646210035000149\n",
            "1.0775637406330143\n",
            "0.5087532368106394\n",
            "0.7138217891075347\n",
            "0.1340617334928362\n"
          ]
        }
      ]
    },
    {
      "cell_type": "code",
      "source": [
        "plt.hist(ampl_neg)\n",
        "plt.ylabel(\"Frequency of participants\")\n",
        "plt.xlabel(\"ampl_neg\")\n",
        "plt.show()"
      ],
      "metadata": {
        "colab": {
          "base_uri": "https://localhost:8080/",
          "height": 450
        },
        "id": "zkT4PqytANx_",
        "outputId": "e7db8093-26fc-4d54-8733-bd185a30e83a"
      },
      "execution_count": 239,
      "outputs": [
        {
          "output_type": "display_data",
          "data": {
            "text/plain": [
              "<Figure size 640x480 with 1 Axes>"
            ],
            "image/png": "[encoded data removed]"
          },
          "metadata": {}
        }
      ]
    },
    {
      "cell_type": "code",
      "source": [
        "RME = df_good[\"Rosenberg_avg\"]\n",
        "RME.describe()"
      ],
      "metadata": {
        "colab": {
          "base_uri": "https://localhost:8080/",
          "height": 335
        },
        "outputId": "a1ad525f-3e43-4057-dc72-d66024046ce3",
        "id": "maUEFNAGiUTZ"
      },
      "execution_count": 240,
      "outputs": [
        {
          "output_type": "execute_result",
          "data": {
            "text/plain": [
              "count    377.000000\n",
              "mean       2.924138\n",
              "std        0.783117\n",
              "min        1.000000\n",
              "25%        2.400000\n",
              "50%        3.000000\n",
              "75%        3.600000\n",
              "max        4.000000\n",
              "Name: Rosenberg_avg, dtype: float64"
            ],
            "text/html": [
              "<div>\n",
              "<style scoped>\n",
              "    .dataframe tbody tr th:only-of-type {\n",
              "        vertical-align: middle;\n",
              "    }\n",
              "\n",
              "    .dataframe tbody tr th {\n",
              "        vertical-align: top;\n",
              "    }\n",
              "\n",
              "    .dataframe thead th {\n",
              "        text-align: right;\n",
              "    }\n",
              "</style>\n",
              "<table border=\"1\" class=\"dataframe\">\n",
              "  <thead>\n",
              "    <tr style=\"text-align: right;\">\n",
              "      <th></th>\n",
              "      <th>Rosenberg_avg</th>\n",
              "    </tr>\n",
              "  </thead>\n",
              "  <tbody>\n",
              "    <tr>\n",
              "      <th>count</th>\n",
              "      <td>377.000000</td>\n",
              "    </tr>\n",
              "    <tr>\n",
              "      <th>mean</th>\n",
              "      <td>2.924138</td>\n",
              "    </tr>\n",
              "    <tr>\n",
              "      <th>std</th>\n",
              "      <td>0.783117</td>\n",
              "    </tr>\n",
              "    <tr>\n",
              "      <th>min</th>\n",
              "      <td>1.000000</td>\n",
              "    </tr>\n",
              "    <tr>\n",
              "      <th>25%</th>\n",
              "      <td>2.400000</td>\n",
              "    </tr>\n",
              "    <tr>\n",
              "      <th>50%</th>\n",
              "      <td>3.000000</td>\n",
              "    </tr>\n",
              "    <tr>\n",
              "      <th>75%</th>\n",
              "      <td>3.600000</td>\n",
              "    </tr>\n",
              "    <tr>\n",
              "      <th>max</th>\n",
              "      <td>4.000000</td>\n",
              "    </tr>\n",
              "  </tbody>\n",
              "</table>\n",
              "</div><br><label><b>dtype:</b> float64</label>"
            ]
          },
          "metadata": {},
          "execution_count": 240
        }
      ]
    },
    {
      "cell_type": "code",
      "source": [
        "plt.hist(RME)\n",
        "plt.ylabel(\"Frequency of participants\")\n",
        "plt.xlabel(\"RME\")\n",
        "plt.show()"
      ],
      "metadata": {
        "colab": {
          "base_uri": "https://localhost:8080/",
          "height": 449
        },
        "outputId": "70ff3388-72f0-4504-ba58-1f130e2a9d1f",
        "id": "oqrW5nYriUTa"
      },
      "execution_count": 241,
      "outputs": [
        {
          "output_type": "display_data",
          "data": {
            "text/plain": [
              "<Figure size 640x480 with 1 Axes>"
            ],
            "image/png": "[encoded data removed]"
          },
          "metadata": {}
        }
      ]
    },
    {
      "cell_type": "code",
      "source": [
        "print(skew(RME))"
      ],
      "metadata": {
        "colab": {
          "base_uri": "https://localhost:8080/"
        },
        "id": "dPWQpCdni0Eu",
        "outputId": "94cabb7a-1e06-426c-c758-ee6b78012088"
      },
      "execution_count": 242,
      "outputs": [
        {
          "output_type": "stream",
          "name": "stdout",
          "text": [
            "-0.6742182596921971\n"
          ]
        }
      ]
    },
    {
      "cell_type": "markdown",
      "source": [
        "# *Cronbach alpha*"
      ],
      "metadata": {
        "id": "dAyx7pvjPogW"
      }
    },
    {
      "cell_type": "code",
      "source": [
        "SE_all = df_good[[\"SE01.r\", \"SE02\", \"SE03.r\", \"SE04\", \"SE05.r\", \"SE06\", \"SE07.r\", \"SE08\", \"SE09.r\", \"SE10\", \"SE11\", \"SE12.r\"]]"
      ],
      "metadata": {
        "id": "ZKsjQMGoPvJZ"
      },
      "execution_count": 243,
      "outputs": []
    },
    {
      "cell_type": "code",
      "source": [
        " ext_all = df_good[[\"IPIP120_002\", \"IPIP120_032\", \"IPIP120_062.r\", \"IPIP120_092.r\", \"IPIP120_007\", \"IPIP120_037\", \"IPIP120_067.r\", \"IPIP120_097.r\", \"IPIP120_012\", \"IPIP120_042\", \"IPIP120_072\", \"IPIP120_102.r\", \"IPIP120_017\", \"IPIP120_047\", \"IPIP120_077\", \"IPIP120_107.r\", \"IPIP120_022\", \"IPIP120_052\", \"IPIP120_082\", \"IPIP120_112\", \"IPIP120_027\", \"IPIP120_057\", \"IPIP120_087\", \"IPIP120_117\"]]"
      ],
      "metadata": {
        "id": "eZf8ejm4Sici"
      },
      "execution_count": 244,
      "outputs": []
    },
    {
      "cell_type": "code",
      "source": [
        "!pip install pingouin\n",
        "import pingouin as pg"
      ],
      "metadata": {
        "colab": {
          "base_uri": "https://localhost:8080/"
        },
        "id": "JjBphPaDQpM3",
        "outputId": "b9a3c7fe-7829-4947-a579-539b27274e5d"
      },
      "execution_count": 245,
      "outputs": [
        {
          "output_type": "stream",
          "name": "stdout",
          "text": [
            "Requirement already satisfied: pingouin in /usr/local/lib/python3.12/dist-packages (0.5.5)\n",
            "Requirement already satisfied: matplotlib in /usr/local/lib/python3.12/dist-packages (from pingouin) (3.10.0)\n",
            "Requirement already satisfied: numpy in /usr/local/lib/python3.12/dist-packages (from pingouin) (2.0.2)\n",
            "Requirement already satisfied: pandas>=1.5 in /usr/local/lib/python3.12/dist-packages (from pingouin) (2.2.2)\n",
            "Requirement already satisfied: pandas-flavor in /usr/local/lib/python3.12/dist-packages (from pingouin) (0.7.0)\n",
            "Requirement already satisfied: scikit-learn>=1.2 in /usr/local/lib/python3.12/dist-packages (from pingouin) (1.6.1)\n",
            "Requirement already satisfied: scipy in /usr/local/lib/python3.12/dist-packages (from pingouin) (1.16.2)\n",
            "Requirement already satisfied: seaborn in /usr/local/lib/python3.12/dist-packages (from pingouin) (0.13.2)\n",
            "Requirement already satisfied: statsmodels in /usr/local/lib/python3.12/dist-packages (from pingouin) (0.14.5)\n",
            "Requirement already satisfied: tabulate in /usr/local/lib/python3.12/dist-packages (from pingouin) (0.9.0)\n",
            "Requirement already satisfied: python-dateutil>=2.8.2 in /usr/local/lib/python3.12/dist-packages (from pandas>=1.5->pingouin) (2.9.0.post0)\n",
            "Requirement already satisfied: pytz>=2020.1 in /usr/local/lib/python3.12/dist-packages (from pandas>=1.5->pingouin) (2025.2)\n",
            "Requirement already satisfied: tzdata>=2022.7 in /usr/local/lib/python3.12/dist-packages (from pandas>=1.5->pingouin) (2025.2)\n",
            "Requirement already satisfied: joblib>=1.2.0 in /usr/local/lib/python3.12/dist-packages (from scikit-learn>=1.2->pingouin) (1.5.2)\n",
            "Requirement already satisfied: threadpoolctl>=3.1.0 in /usr/local/lib/python3.12/dist-packages (from scikit-learn>=1.2->pingouin) (3.6.0)\n",
            "Requirement already satisfied: contourpy>=1.0.1 in /usr/local/lib/python3.12/dist-packages (from matplotlib->pingouin) (1.3.3)\n",
            "Requirement already satisfied: cycler>=0.10 in /usr/local/lib/python3.12/dist-packages (from matplotlib->pingouin) (0.12.1)\n",
            "Requirement already satisfied: fonttools>=4.22.0 in /usr/local/lib/python3.12/dist-packages (from matplotlib->pingouin) (4.60.0)\n",
            "Requirement already satisfied: kiwisolver>=1.3.1 in /usr/local/lib/python3.12/dist-packages (from matplotlib->pingouin) (1.4.9)\n",
            "Requirement already satisfied: packaging>=20.0 in /usr/local/lib/python3.12/dist-packages (from matplotlib->pingouin) (25.0)\n",
            "Requirement already satisfied: pillow>=8 in /usr/local/lib/python3.12/dist-packages (from matplotlib->pingouin) (11.3.0)\n",
            "Requirement already satisfied: pyparsing>=2.3.1 in /usr/local/lib/python3.12/dist-packages (from matplotlib->pingouin) (3.2.4)\n",
            "Requirement already satisfied: xarray in /usr/local/lib/python3.12/dist-packages (from pandas-flavor->pingouin) (2025.9.0)\n",
            "Requirement already satisfied: patsy>=0.5.6 in /usr/local/lib/python3.12/dist-packages (from statsmodels->pingouin) (1.0.1)\n",
            "Requirement already satisfied: six>=1.5 in /usr/local/lib/python3.12/dist-packages (from python-dateutil>=2.8.2->pandas>=1.5->pingouin) (1.17.0)\n"
          ]
        }
      ]
    },
    {
      "cell_type": "code",
      "source": [
        "pg.cronbach_alpha(data=SE_all)"
      ],
      "metadata": {
        "colab": {
          "base_uri": "https://localhost:8080/"
        },
        "id": "-99w1d2VSgt2",
        "outputId": "cef211fe-39eb-411d-bc71-354b502822cc"
      },
      "execution_count": 246,
      "outputs": [
        {
          "output_type": "execute_result",
          "data": {
            "text/plain": [
              "(np.float64(0.7992603444316829), array([0.768, 0.828]))"
            ]
          },
          "metadata": {},
          "execution_count": 246
        }
      ]
    },
    {
      "cell_type": "code",
      "source": [
        "pg.cronbach_alpha(data=ext_all)"
      ],
      "metadata": {
        "colab": {
          "base_uri": "https://localhost:8080/"
        },
        "id": "-r6zcgK0Tava",
        "outputId": "34b2aa5e-5e27-4dfa-a574-f2a6bf2dc97d"
      },
      "execution_count": 247,
      "outputs": [
        {
          "output_type": "execute_result",
          "data": {
            "text/plain": [
              "(np.float64(0.9130393427342809), array([0.9  , 0.925]))"
            ]
          },
          "metadata": {},
          "execution_count": 247
        }
      ]
    },
    {
      "cell_type": "code",
      "source": [
        "SPM_all = df_good[[\"SPM1\", \"SPM2\", \"SPM3\", \"SPM4\", \"SPM5\", \"SPM6\", \"SPM7\", \"SPM8\", \"SPM9\", \"SPM10\", \"SPM11\", \"SPM12\", \"SPM13\"]]\n",
        "pg.cronbach_alpha(data=SPM_all)"
      ],
      "metadata": {
        "colab": {
          "base_uri": "https://localhost:8080/"
        },
        "id": "9Z1VpS6eTqnC",
        "outputId": "84b0aedd-7cd0-43d9-f0b4-af197f3ec98f"
      },
      "execution_count": 248,
      "outputs": [
        {
          "output_type": "execute_result",
          "data": {
            "text/plain": [
              "(np.float64(0.8391794068947972), array([0.814, 0.862]))"
            ]
          },
          "metadata": {},
          "execution_count": 248
        }
      ]
    },
    {
      "cell_type": "code",
      "source": [
        "DEP_all = df_good[[\"DASS21_D01\", \"DASS21_D02\", \"DASS21_D03\", \"DASS21_D04\", \"DASS21_D05\", \"DASS21_D06\", \"DASS21_D07\"]]\n",
        "pg.cronbach_alpha(data=DEP_all)"
      ],
      "metadata": {
        "colab": {
          "base_uri": "https://localhost:8080/"
        },
        "id": "y24we4-qUbok",
        "outputId": "17e97f28-4183-4bba-85c2-e773aa0a1059"
      },
      "execution_count": 249,
      "outputs": [
        {
          "output_type": "execute_result",
          "data": {
            "text/plain": [
              "(np.float64(0.9345124800388422), array([0.924, 0.944]))"
            ]
          },
          "metadata": {},
          "execution_count": 249
        }
      ]
    },
    {
      "cell_type": "code",
      "source": [
        "NARC_all = df_good[[\"SD4_NARC01\", \"SD4_NARC03\", \"SD4_NARC04\", \"SD4_NARC05\", \"SD4_NARC06\", \"SD4_NARC07\"]]\n",
        "pg.cronbach_alpha(data=NARC_all)"
      ],
      "metadata": {
        "colab": {
          "base_uri": "https://localhost:8080/"
        },
        "id": "8CdjH02OUwRY",
        "outputId": "fa13d027-0e8c-4bae-965f-8dcff6604475"
      },
      "execution_count": 250,
      "outputs": [
        {
          "output_type": "execute_result",
          "data": {
            "text/plain": [
              "(np.float64(0.7978825465875022), array([0.765, 0.828]))"
            ]
          },
          "metadata": {},
          "execution_count": 250
        }
      ]
    },
    {
      "cell_type": "code",
      "source": [
        "PE_all = df_good[[\"SESPMOther_PE001\", \"SESPMOther_PE002\", \"SESPMOther_PE003\", \"SESPMOther_PE004\", \"SESPMOther_PE005\", \"SESPMOther_PE006\", \"SESPMOther_PE007\", \"SESPMOther_PE008\", \"SESPMOther_PE009\", \"SESPMOther_PE010\"]]\n",
        "pg.cronbach_alpha(data=PE_all)"
      ],
      "metadata": {
        "colab": {
          "base_uri": "https://localhost:8080/"
        },
        "id": "4P1c5KAcVGtB",
        "outputId": "8521df24-f7e1-44ae-86fc-8a93a9e45ed2"
      },
      "execution_count": 251,
      "outputs": [
        {
          "output_type": "execute_result",
          "data": {
            "text/plain": [
              "(np.float64(0.8297587969238597), array([0.803, 0.854]))"
            ]
          },
          "metadata": {},
          "execution_count": 251
        }
      ]
    },
    {
      "cell_type": "code",
      "source": [
        "FC_all = df_good[[\"SESPMOther_FC01\", \"SESPMOther_FC02\", \"SESPMOther_FC03\", \"SESPMOther_FC04\", \"SESPMOther_FC05\", \"SESPMOther_FC06\"]]\n",
        "pg.cronbach_alpha(data=FC_all)"
      ],
      "metadata": {
        "colab": {
          "base_uri": "https://localhost:8080/"
        },
        "id": "dfj1f87tVmai",
        "outputId": "e20cdb1a-f54b-416b-b043-0a10a97a5265"
      },
      "execution_count": 252,
      "outputs": [
        {
          "output_type": "execute_result",
          "data": {
            "text/plain": [
              "(np.float64(0.8208667057050701), array([0.791, 0.847]))"
            ]
          },
          "metadata": {},
          "execution_count": 252
        }
      ]
    },
    {
      "cell_type": "code",
      "source": [
        "SAR_all = df_good[[\"SESPMOther_SAR01\", \"SESPMOther_SAR02\", \"SESPMOther_SAR03\", \"SESPMOther_SAR04\", \"SESPMOther_SAR05\", \"SESPMOther_SAR06\"]]\n",
        "pg.cronbach_alpha(data=SAR_all)"
      ],
      "metadata": {
        "colab": {
          "base_uri": "https://localhost:8080/"
        },
        "id": "RoPZlVm-V5cv",
        "outputId": "25418468-9932-4236-d08b-28e0d451dc3a"
      },
      "execution_count": 253,
      "outputs": [
        {
          "output_type": "execute_result",
          "data": {
            "text/plain": [
              "(np.float64(0.8123547678732287), array([0.781, 0.84 ]))"
            ]
          },
          "metadata": {},
          "execution_count": 253
        }
      ]
    },
    {
      "cell_type": "code",
      "source": [
        "RSE_all = df_good[[\"Rosenberg_01\", \"Rosenberg_02.r\", \"Rosenberg_03\", \"Rosenberg_04\", \"Rosenberg_05.r\", \"Rosenberg_06.r\", \"Rosenberg_07\", \"Rosenberg_08.r\", \"Rosenberg_09.r\", \"Rosenberg_10\"]]\n",
        "pg.cronbach_alpha(data=RSE_all)"
      ],
      "metadata": {
        "colab": {
          "base_uri": "https://localhost:8080/"
        },
        "id": "wR6VVNwfO2mA",
        "outputId": "eb2ffec2-1f44-43e3-dfc8-0e028e28f92d"
      },
      "execution_count": 254,
      "outputs": [
        {
          "output_type": "execute_result",
          "data": {
            "text/plain": [
              "(np.float64(0.9389825349162105), array([0.929, 0.948]))"
            ]
          },
          "metadata": {},
          "execution_count": 254
        }
      ]
    }
  ]
}