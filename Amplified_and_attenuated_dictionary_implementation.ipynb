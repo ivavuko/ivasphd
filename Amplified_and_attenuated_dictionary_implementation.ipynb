{
  "nbformat": 4,
  "nbformat_minor": 0,
  "metadata": {
    "colab": {
      "provenance": [],
      "authorship_tag": "ABX9TyMuYE2QhTO2hbjMLzYnu5ic",
      "include_colab_link": true
    },
    "kernelspec": {
      "name": "python3",
      "display_name": "Python 3"
    },
    "language_info": {
      "name": "python"
    }
  },
  "cells": [
    {
      "cell_type": "markdown",
      "metadata": {
        "id": "view-in-github",
        "colab_type": "text"
      },
      "source": [
        "<a href=\"https://colab.research.google.com/github/ivavuko/ivasphd/blob/main/Amplified_and_attenuated_dictionary_implementation.ipynb\" target=\"_parent\"><img src=\"https://colab.research.google.com/assets/colab-badge.svg\" alt=\"Open In Colab\"/></a>"
      ]
    },
    {
      "cell_type": "code",
      "source": [
        "import pandas as pd\n",
        "import re\n",
        "import requests\n",
        "import numpy as np\n",
        "import matplotlib.pyplot as plt\n",
        "import datetime as dt\n",
        "import io\n",
        "import spacy\n",
        "from sklearn import metrics\n",
        "from sklearn.pipeline import Pipeline\n",
        "from statsmodels.stats.contingency_tables import mcnemar\n",
        "from sklearn.feature_extraction.text import CountVectorizer, TfidfVectorizer\n",
        "from scipy import stats"
      ],
      "metadata": {
        "id": "-ZgFQyXjGGlk"
      },
      "execution_count": 1,
      "outputs": []
    },
    {
      "cell_type": "code",
      "source": [
        "dictsignals = pd.read_csv(\"python_signals_dictionary - condensed.csv\", encoding=\"utf-8\")\n",
        "dictsignals.head()"
      ],
      "metadata": {
        "colab": {
          "base_uri": "https://localhost:8080/",
          "height": 304
        },
        "id": "tIw2uvoKxiYi",
        "outputId": "a62e1a3f-16f3-416c-e942-81ce81c6b23a"
      },
      "execution_count": 2,
      "outputs": [
        {
          "output_type": "error",
          "ename": "FileNotFoundError",
          "evalue": "[Errno 2] No such file or directory: 'python_signals_dictionary - condensed.csv'",
          "traceback": [
            "\u001b[0;31m---------------------------------------------------------------------------\u001b[0m",
            "\u001b[0;31mFileNotFoundError\u001b[0m                         Traceback (most recent call last)",
            "\u001b[0;32m/tmp/ipython-input-2774198174.py\u001b[0m in \u001b[0;36m<cell line: 0>\u001b[0;34m()\u001b[0m\n\u001b[0;32m----> 1\u001b[0;31m \u001b[0mdictsignals\u001b[0m \u001b[0;34m=\u001b[0m \u001b[0mpd\u001b[0m\u001b[0;34m.\u001b[0m\u001b[0mread_csv\u001b[0m\u001b[0;34m(\u001b[0m\u001b[0;34m\"python_signals_dictionary - condensed.csv\"\u001b[0m\u001b[0;34m,\u001b[0m \u001b[0mencoding\u001b[0m\u001b[0;34m=\u001b[0m\u001b[0;34m\"utf-8\"\u001b[0m\u001b[0;34m)\u001b[0m\u001b[0;34m\u001b[0m\u001b[0;34m\u001b[0m\u001b[0m\n\u001b[0m\u001b[1;32m      2\u001b[0m \u001b[0mdictsignals\u001b[0m\u001b[0;34m.\u001b[0m\u001b[0mhead\u001b[0m\u001b[0;34m(\u001b[0m\u001b[0;34m)\u001b[0m\u001b[0;34m\u001b[0m\u001b[0;34m\u001b[0m\u001b[0m\n",
            "\u001b[0;32m/usr/local/lib/python3.12/dist-packages/pandas/io/parsers/readers.py\u001b[0m in \u001b[0;36mread_csv\u001b[0;34m(filepath_or_buffer, sep, delimiter, header, names, index_col, usecols, dtype, engine, converters, true_values, false_values, skipinitialspace, skiprows, skipfooter, nrows, na_values, keep_default_na, na_filter, verbose, skip_blank_lines, parse_dates, infer_datetime_format, keep_date_col, date_parser, date_format, dayfirst, cache_dates, iterator, chunksize, compression, thousands, decimal, lineterminator, quotechar, quoting, doublequote, escapechar, comment, encoding, encoding_errors, dialect, on_bad_lines, delim_whitespace, low_memory, memory_map, float_precision, storage_options, dtype_backend)\u001b[0m\n\u001b[1;32m   1024\u001b[0m     \u001b[0mkwds\u001b[0m\u001b[0;34m.\u001b[0m\u001b[0mupdate\u001b[0m\u001b[0;34m(\u001b[0m\u001b[0mkwds_defaults\u001b[0m\u001b[0;34m)\u001b[0m\u001b[0;34m\u001b[0m\u001b[0;34m\u001b[0m\u001b[0m\n\u001b[1;32m   1025\u001b[0m \u001b[0;34m\u001b[0m\u001b[0m\n\u001b[0;32m-> 1026\u001b[0;31m     \u001b[0;32mreturn\u001b[0m \u001b[0m_read\u001b[0m\u001b[0;34m(\u001b[0m\u001b[0mfilepath_or_buffer\u001b[0m\u001b[0;34m,\u001b[0m \u001b[0mkwds\u001b[0m\u001b[0;34m)\u001b[0m\u001b[0;34m\u001b[0m\u001b[0;34m\u001b[0m\u001b[0m\n\u001b[0m\u001b[1;32m   1027\u001b[0m \u001b[0;34m\u001b[0m\u001b[0m\n\u001b[1;32m   1028\u001b[0m \u001b[0;34m\u001b[0m\u001b[0m\n",
            "\u001b[0;32m/usr/local/lib/python3.12/dist-packages/pandas/io/parsers/readers.py\u001b[0m in \u001b[0;36m_read\u001b[0;34m(filepath_or_buffer, kwds)\u001b[0m\n\u001b[1;32m    618\u001b[0m \u001b[0;34m\u001b[0m\u001b[0m\n\u001b[1;32m    619\u001b[0m     \u001b[0;31m# Create the parser.\u001b[0m\u001b[0;34m\u001b[0m\u001b[0;34m\u001b[0m\u001b[0m\n\u001b[0;32m--> 620\u001b[0;31m     \u001b[0mparser\u001b[0m \u001b[0;34m=\u001b[0m \u001b[0mTextFileReader\u001b[0m\u001b[0;34m(\u001b[0m\u001b[0mfilepath_or_buffer\u001b[0m\u001b[0;34m,\u001b[0m \u001b[0;34m**\u001b[0m\u001b[0mkwds\u001b[0m\u001b[0;34m)\u001b[0m\u001b[0;34m\u001b[0m\u001b[0;34m\u001b[0m\u001b[0m\n\u001b[0m\u001b[1;32m    621\u001b[0m \u001b[0;34m\u001b[0m\u001b[0m\n\u001b[1;32m    622\u001b[0m     \u001b[0;32mif\u001b[0m \u001b[0mchunksize\u001b[0m \u001b[0;32mor\u001b[0m \u001b[0miterator\u001b[0m\u001b[0;34m:\u001b[0m\u001b[0;34m\u001b[0m\u001b[0;34m\u001b[0m\u001b[0m\n",
            "\u001b[0;32m/usr/local/lib/python3.12/dist-packages/pandas/io/parsers/readers.py\u001b[0m in \u001b[0;36m__init__\u001b[0;34m(self, f, engine, **kwds)\u001b[0m\n\u001b[1;32m   1618\u001b[0m \u001b[0;34m\u001b[0m\u001b[0m\n\u001b[1;32m   1619\u001b[0m         \u001b[0mself\u001b[0m\u001b[0;34m.\u001b[0m\u001b[0mhandles\u001b[0m\u001b[0;34m:\u001b[0m \u001b[0mIOHandles\u001b[0m \u001b[0;34m|\u001b[0m \u001b[0;32mNone\u001b[0m \u001b[0;34m=\u001b[0m \u001b[0;32mNone\u001b[0m\u001b[0;34m\u001b[0m\u001b[0;34m\u001b[0m\u001b[0m\n\u001b[0;32m-> 1620\u001b[0;31m         \u001b[0mself\u001b[0m\u001b[0;34m.\u001b[0m\u001b[0m_engine\u001b[0m \u001b[0;34m=\u001b[0m \u001b[0mself\u001b[0m\u001b[0;34m.\u001b[0m\u001b[0m_make_engine\u001b[0m\u001b[0;34m(\u001b[0m\u001b[0mf\u001b[0m\u001b[0;34m,\u001b[0m \u001b[0mself\u001b[0m\u001b[0;34m.\u001b[0m\u001b[0mengine\u001b[0m\u001b[0;34m)\u001b[0m\u001b[0;34m\u001b[0m\u001b[0;34m\u001b[0m\u001b[0m\n\u001b[0m\u001b[1;32m   1621\u001b[0m \u001b[0;34m\u001b[0m\u001b[0m\n\u001b[1;32m   1622\u001b[0m     \u001b[0;32mdef\u001b[0m \u001b[0mclose\u001b[0m\u001b[0;34m(\u001b[0m\u001b[0mself\u001b[0m\u001b[0;34m)\u001b[0m \u001b[0;34m->\u001b[0m \u001b[0;32mNone\u001b[0m\u001b[0;34m:\u001b[0m\u001b[0;34m\u001b[0m\u001b[0;34m\u001b[0m\u001b[0m\n",
            "\u001b[0;32m/usr/local/lib/python3.12/dist-packages/pandas/io/parsers/readers.py\u001b[0m in \u001b[0;36m_make_engine\u001b[0;34m(self, f, engine)\u001b[0m\n\u001b[1;32m   1878\u001b[0m                 \u001b[0;32mif\u001b[0m \u001b[0;34m\"b\"\u001b[0m \u001b[0;32mnot\u001b[0m \u001b[0;32min\u001b[0m \u001b[0mmode\u001b[0m\u001b[0;34m:\u001b[0m\u001b[0;34m\u001b[0m\u001b[0;34m\u001b[0m\u001b[0m\n\u001b[1;32m   1879\u001b[0m                     \u001b[0mmode\u001b[0m \u001b[0;34m+=\u001b[0m \u001b[0;34m\"b\"\u001b[0m\u001b[0;34m\u001b[0m\u001b[0;34m\u001b[0m\u001b[0m\n\u001b[0;32m-> 1880\u001b[0;31m             self.handles = get_handle(\n\u001b[0m\u001b[1;32m   1881\u001b[0m                 \u001b[0mf\u001b[0m\u001b[0;34m,\u001b[0m\u001b[0;34m\u001b[0m\u001b[0;34m\u001b[0m\u001b[0m\n\u001b[1;32m   1882\u001b[0m                 \u001b[0mmode\u001b[0m\u001b[0;34m,\u001b[0m\u001b[0;34m\u001b[0m\u001b[0;34m\u001b[0m\u001b[0m\n",
            "\u001b[0;32m/usr/local/lib/python3.12/dist-packages/pandas/io/common.py\u001b[0m in \u001b[0;36mget_handle\u001b[0;34m(path_or_buf, mode, encoding, compression, memory_map, is_text, errors, storage_options)\u001b[0m\n\u001b[1;32m    880\u001b[0m         \u001b[0;32melse\u001b[0m\u001b[0;34m:\u001b[0m\u001b[0;34m\u001b[0m\u001b[0;34m\u001b[0m\u001b[0m\n\u001b[1;32m    881\u001b[0m             \u001b[0;31m# Binary mode\u001b[0m\u001b[0;34m\u001b[0m\u001b[0;34m\u001b[0m\u001b[0m\n\u001b[0;32m--> 882\u001b[0;31m             \u001b[0mhandle\u001b[0m \u001b[0;34m=\u001b[0m \u001b[0mopen\u001b[0m\u001b[0;34m(\u001b[0m\u001b[0mhandle\u001b[0m\u001b[0;34m,\u001b[0m \u001b[0mioargs\u001b[0m\u001b[0;34m.\u001b[0m\u001b[0mmode\u001b[0m\u001b[0;34m)\u001b[0m\u001b[0;34m\u001b[0m\u001b[0;34m\u001b[0m\u001b[0m\n\u001b[0m\u001b[1;32m    883\u001b[0m         \u001b[0mhandles\u001b[0m\u001b[0;34m.\u001b[0m\u001b[0mappend\u001b[0m\u001b[0;34m(\u001b[0m\u001b[0mhandle\u001b[0m\u001b[0;34m)\u001b[0m\u001b[0;34m\u001b[0m\u001b[0;34m\u001b[0m\u001b[0m\n\u001b[1;32m    884\u001b[0m \u001b[0;34m\u001b[0m\u001b[0m\n",
            "\u001b[0;31mFileNotFoundError\u001b[0m: [Errno 2] No such file or directory: 'python_signals_dictionary - condensed.csv'"
          ]
        }
      ]
    },
    {
      "cell_type": "code",
      "source": [
        "signals = dictsignals[\"signals\"].tolist()"
      ],
      "metadata": {
        "collapsed": true,
        "id": "CZUvhQ-eyTxr"
      },
      "execution_count": null,
      "outputs": []
    },
    {
      "cell_type": "code",
      "source": [
        "essays = pd.read_csv(\"CROSSDA_data_Iva_only_text.xlsx - data_recoded.csv\", index_col= \"ID\", encoding=\"utf-8\")"
      ],
      "metadata": {
        "id": "5G4UzFvdya9M"
      },
      "execution_count": null,
      "outputs": []
    },
    {
      "cell_type": "code",
      "source": [
        "# converting wildcard signals to regex patterns because of the wildcards from LIWC\n",
        "regex_patterns = {}\n",
        "for phrase in signals:\n",
        "    if phrase.startswith(\"*\") and phrase.endswith(\"*\"):\n",
        "        regex_patterns[phrase] = rf\"\\b\\w*{re.escape(phrase[1:-1])}\\w*\\b\"\n",
        "    elif phrase.startswith(\"*\"):\n",
        "        regex_patterns[phrase] = rf\"\\b\\w*{re.escape(phrase[1:])}\\b\"\n",
        "    elif phrase.endswith(\"*\"):\n",
        "        regex_patterns[phrase] = rf\"\\b{re.escape(phrase[:-1])}\\w*\\b\"\n",
        "    else:\n",
        "        regex_patterns[phrase] = rf\"\\b{re.escape(phrase)}\\b\""
      ],
      "metadata": {
        "collapsed": true,
        "id": "NYlSRcDd2sTn"
      },
      "execution_count": null,
      "outputs": []
    },
    {
      "cell_type": "code",
      "source": [
        "# sorting instances by length (longest first) to ensure priority of longer signals\n",
        "sorted_instances = sorted(regex_patterns.keys(), key=len, reverse=True)"
      ],
      "metadata": {
        "id": "AZnJGEYJoiPu"
      },
      "execution_count": null,
      "outputs": []
    },
    {
      "cell_type": "code",
      "source": [
        "# function for counting the numbers of occurrences of signals in texts\n",
        "def process_column(df, column_name):\n",
        "    rows = []\n",
        "\n",
        "    for index, text in df[column_name].items():\n",
        "        row = {\"Index\": index}\n",
        "        counted_positions = set()  # to track already matched positions\n",
        "\n",
        "        if pd.isna(text):  # skip nan values\n",
        "            text = \"\"\n",
        "\n",
        "        for phrase in sorted_instances:\n",
        "            pattern = regex_patterns[phrase]\n",
        "            matches = list(re.finditer(pattern, text, flags=re.IGNORECASE))\n",
        "            count = 0\n",
        "\n",
        "            for match in matches:\n",
        "                start, end = match.span()\n",
        "                if all(pos not in counted_positions for pos in range(start, end)):  # ensure no overlap\n",
        "                    count += 1\n",
        "                    counted_positions.update(range(start, end))  # mark positions as counted\n",
        "\n",
        "            row[phrase] = count\n",
        "\n",
        "        rows.append(row)\n",
        "\n",
        "    # create the dataframe and set index to match the original dataframe\n",
        "    return pd.DataFrame(rows).set_index(\"Index\")"
      ],
      "metadata": {
        "id": "DOy5y7F5oiG6"
      },
      "execution_count": null,
      "outputs": []
    },
    {
      "cell_type": "code",
      "source": [
        "# process each column separately\n",
        "pos_char_signals = process_column(essays, \"Personal characteristics POSITIVE\")\n",
        "neg_char_signals = process_column(essays, \"Personal characteristics NEGATIVE\")\n",
        "pos_healthcare_signals = process_column(essays, \"Universal healthcare POSITIVE\")\n",
        "neg_healthcare_signals = process_column(essays, \"Universal healthcare NEGATIVE\")"
      ],
      "metadata": {
        "id": "ESl6Q8oBoh9Y"
      },
      "execution_count": null,
      "outputs": []
    },
    {
      "cell_type": "code",
      "source": [
        "pos_char_signals[\"ID\"] = pos_char_signals.index"
      ],
      "metadata": {
        "collapsed": true,
        "id": "mknGPkzKLF1A"
      },
      "execution_count": null,
      "outputs": []
    },
    {
      "cell_type": "markdown",
      "source": [
        "Dictionary features based on counts per signal"
      ],
      "metadata": {
        "id": "6B5NpAOMAznD"
      }
    },
    {
      "cell_type": "code",
      "source": [
        "dictmeta = pd.read_csv(\"python_signals_dictionary - meta-data.csv\", encoding=\"latin-1\")\n",
        "dictmeta.head()"
      ],
      "metadata": {
        "id": "0Mg67Uc41afg"
      },
      "execution_count": null,
      "outputs": []
    },
    {
      "cell_type": "code",
      "source": [
        "# a function that takes into account the metadata of signals and aggregates signals into the counts of attenuated and amplified language and their subgroups\n",
        "\n",
        "def aggregate_ngrams_by_subgroup_and_group(ngram_df, dictmeta):\n",
        "\n",
        "    # create mapping from signal to subgroup\n",
        "    ngram_to_subgroup = dict(zip(dictmeta[\"signals\"], dictmeta[\"subgroup\"]))\n",
        "\n",
        "    # filter to valid ngrams that appear in both dictmeta and ngram_df\n",
        "    valid_ngrams = [col for col in ngram_df.columns if col in ngram_to_subgroup]\n",
        "\n",
        "    # subset to those columns\n",
        "    filtered_df = ngram_df[valid_ngrams]\n",
        "\n",
        "    # create a new df to store subgroup sums\n",
        "    subgroup_agg = pd.DataFrame(index=filtered_df.index)\n",
        "\n",
        "    # sum each subgroup\n",
        "    for subgroup in dictmeta[\"subgroup\"].unique():\n",
        "        ngrams_in_subgroup = dictmeta[dictmeta[\"subgroup\"] == subgroup][\"signals\"]\n",
        "        ngrams_in_subgroup = [ng for ng in ngrams_in_subgroup if ng in filtered_df.columns]\n",
        "        if ngrams_in_subgroup:\n",
        "            subgroup_agg[subgroup] = filtered_df[ngrams_in_subgroup].sum(axis=1)\n",
        "        else:\n",
        "            subgroup_agg[subgroup] = 0\n",
        "\n",
        "    # aggregate subgroups into groups\n",
        "    group_agg = pd.DataFrame(index=subgroup_agg.index)\n",
        "    group_agg[\"amplified\"] = subgroup_agg.get(\"generalization\", 0) + \\\n",
        "                             subgroup_agg.get(\"intensifier\", 0) + \\\n",
        "                             subgroup_agg.get(\"certainty\", 0)\n",
        "    group_agg[\"attenuated\"] = subgroup_agg.get(\"specification\", 0) + \\\n",
        "                              subgroup_agg.get(\"detensifier\", 0) + \\\n",
        "                              subgroup_agg.get(\"uncertainty\", 0)\n",
        "\n",
        "    # combine subgroup and group counts\n",
        "    result = pd.concat([subgroup_agg, group_agg], axis=1)\n",
        "    result = result.sort_index(axis=1)\n",
        "\n",
        "    return result"
      ],
      "metadata": {
        "id": "5vI3e9pXHMPG"
      },
      "execution_count": null,
      "outputs": []
    },
    {
      "cell_type": "code",
      "source": [
        "# a function that normalizes the counts into percentages relative to the word count of that person's text\n",
        "\n",
        "def normalize_by_column(df, denominator_col=\"WC\"):\n",
        "\n",
        "    # columns to normalize (all except the denominator)\n",
        "    cols_to_normalize = df.columns.difference([denominator_col])\n",
        "\n",
        "    # compute percentages\n",
        "    percentage = df[cols_to_normalize].div(df[denominator_col], axis=0)*100\n",
        "\n",
        "     # replace 'inf' values with 0\n",
        "    percentage.replace([float(\"inf\"), -float(\"inf\")], 0, inplace=True)\n",
        "\n",
        "    # fill nans (e.g., if denominator is zero) with 0\n",
        "    percentage = percentage.fillna(0)\n",
        "\n",
        "    return percentage\n"
      ],
      "metadata": {
        "id": "jhpvxmGeBQBa"
      },
      "execution_count": null,
      "outputs": []
    },
    {
      "cell_type": "code",
      "source": [
        "essays[\"WC_pos_char\"] = essays[\"Personal characteristics POSITIVE\"].apply(lambda n: len(n.split()) if isinstance(n, str) else 0)\n",
        "essays[\"WC_neg_char\"] = essays[\"Personal characteristics NEGATIVE\"].apply(lambda n: len(n.split()) if isinstance(n, str) else 0)\n",
        "essays[\"WC_health_pos\"] = essays[\"Universal healthcare POSITIVE\"].apply(lambda n: len(n.split()) if isinstance(n, str) else 0)\n",
        "essays[\"WC_health_neg\"] = essays[\"Universal healthcare NEGATIVE\"].apply(lambda n: len(n.split()) if isinstance(n, str) else 0)"
      ],
      "metadata": {
        "id": "AQKN7C_mH_9_"
      },
      "execution_count": null,
      "outputs": []
    },
    {
      "cell_type": "code",
      "source": [
        "pos_char_dict_counts = aggregate_ngrams_by_subgroup_and_group(pos_char_signals, dictmeta)\n",
        "pos_char_dict_counts = pos_char_dict_counts.join(essays[\"WC_pos_char\"])"
      ],
      "metadata": {
        "id": "bvrcy65JHNjL"
      },
      "execution_count": null,
      "outputs": []
    },
    {
      "cell_type": "markdown",
      "source": [
        "## Custom features (the complicated ones that can't be simply counted)\n",
        "\n"
      ],
      "metadata": {
        "id": "dfcq5IzUMpHW"
      }
    },
    {
      "cell_type": "code",
      "source": [
        "df_good_text = essays.copy()"
      ],
      "metadata": {
        "id": "qJ3igQLSQ-b5"
      },
      "execution_count": null,
      "outputs": []
    },
    {
      "cell_type": "markdown",
      "source": [
        "*Exclamation marks*"
      ],
      "metadata": {
        "id": "i_FoOkPX8fgZ"
      }
    },
    {
      "cell_type": "code",
      "source": [
        "def count_exclamation_mark(text):\n",
        "    text = str(text)\n",
        "    exlamation_mark = re.findall(r'\\!{1,}', text)\n",
        "    return len(exlamation_mark)"
      ],
      "metadata": {
        "id": "xwpFJ5x4ozoc"
      },
      "execution_count": null,
      "outputs": []
    },
    {
      "cell_type": "code",
      "source": [
        "df_good_text[\"exclamation_count_neg_char\"] = df_good_text[\"Personal characteristics NEGATIVE\"].apply(count_exclamation_mark)\n",
        "df_good_text[\"exclamation_count_healthcare_pos\"] = df_good_text[\"Universal healthcare POSITIVE\"].apply(count_exclamation_mark)\n",
        "df_good_text[\"exclamation_count_healthcare_neg\"] = df_good_text[\"Universal healthcare NEGATIVE\"].apply(count_exclamation_mark)"
      ],
      "metadata": {
        "collapsed": true,
        "id": "SYFqc0F6U3RM"
      },
      "execution_count": null,
      "outputs": []
    },
    {
      "cell_type": "code",
      "source": [
        "df_good_text[\"exclamation_count_pos_char\"] = df_good_text[\"Personal characteristics POSITIVE\"].apply(count_exclamation_mark)"
      ],
      "metadata": {
        "id": "lkT9r-nQ8jAA"
      },
      "execution_count": null,
      "outputs": []
    },
    {
      "cell_type": "markdown",
      "source": [
        "# *...*"
      ],
      "metadata": {
        "id": "g953HqIo8oHZ"
      }
    },
    {
      "cell_type": "code",
      "source": [
        "def count_three_dots(text):\n",
        "    text = str(text)\n",
        "    three_dots = re.findall(r'\\.{3,}', text)\n",
        "    return len(three_dots)"
      ],
      "metadata": {
        "id": "yYzUwX_88kZg"
      },
      "execution_count": null,
      "outputs": []
    },
    {
      "cell_type": "code",
      "source": [
        "df_good_text[\"three_dots_count_pos_char\"] = df_good_text[\"Personal characteristics POSITIVE\"].apply(count_three_dots)"
      ],
      "metadata": {
        "id": "Sl7jzmGe8rbP"
      },
      "execution_count": null,
      "outputs": []
    },
    {
      "cell_type": "code",
      "source": [
        "df_good_text['three_dots_count_pos_char'].sum()"
      ],
      "metadata": {
        "id": "AKAI1ZYl8tpx",
        "collapsed": true
      },
      "execution_count": null,
      "outputs": []
    },
    {
      "cell_type": "code",
      "source": [
        "df_good_text['three_dots_count_neg_char'] = df_good_text['Personal characteristics NEGATIVE'].apply(count_three_dots)\n",
        "df_good_text['three_dots_count_healthcare_pos'] = df_good_text['Universal healthcare POSITIVE'].apply(count_three_dots)\n",
        "df_good_text['three_dots_count_healthcare_neg'] = df_good_text['Universal healthcare NEGATIVE'].apply(count_three_dots)"
      ],
      "metadata": {
        "collapsed": true,
        "id": "Zqjt0TeNWsjm"
      },
      "execution_count": null,
      "outputs": []
    },
    {
      "cell_type": "markdown",
      "source": [
        "*Superlatives*"
      ],
      "metadata": {
        "id": "waE7GGEFNEc5"
      }
    },
    {
      "cell_type": "code",
      "source": [
        "nlp = spacy.load(\"en_core_web_sm\")"
      ],
      "metadata": {
        "id": "cPEvQz0cNFvO"
      },
      "execution_count": null,
      "outputs": []
    },
    {
      "cell_type": "code",
      "source": [
        "def count_superlatives(text):\n",
        "    if pd.isna(text):\n",
        "        return 0\n",
        "    doc = nlp(text)\n",
        "    return sum(1 for token in doc if token.tag_ in (\"JJS\", \"RBS\"))"
      ],
      "metadata": {
        "id": "KggaC0LHnRPy"
      },
      "execution_count": null,
      "outputs": []
    },
    {
      "cell_type": "code",
      "source": [
        "for col in [\"Personal characteristics POSITIVE\", \"Personal characteristics NEGATIVE\", \"Universal healthcare POSITIVE\", \"Universal healthcare NEGATIVE\"]:\n",
        "    df_good_text[f'{col}_superlatives'] = df_good_text[col].apply(count_superlatives)"
      ],
      "metadata": {
        "id": "DBzsC51IQdkE"
      },
      "execution_count": null,
      "outputs": []
    },
    {
      "cell_type": "markdown",
      "source": [
        "*CAPSed words*"
      ],
      "metadata": {
        "id": "5SGWRm-VotM4"
      }
    },
    {
      "cell_type": "code",
      "source": [
        "# exclude texts where everything is in caps and when a word in caps is an abbreviation\n",
        "# if two words are in caps, like \"EXTREMELLY GOOD coffee\", count it as the occurence of 1"
      ],
      "metadata": {
        "id": "QpIHnPJLovaf"
      },
      "execution_count": null,
      "outputs": []
    },
    {
      "cell_type": "code",
      "source": [
        "import re"
      ],
      "metadata": {
        "id": "vJH-8WsAndd5"
      },
      "execution_count": null,
      "outputs": []
    },
    {
      "cell_type": "code",
      "source": [
        "# function that counts CAPSed words while excluding potential abbreviations (i.e., words with 4 or less characters)\n",
        "\n",
        "def count_capslock(text):\n",
        "    if not isinstance(text, str) or not text.strip():\n",
        "        return 0\n",
        "\n",
        "    # ignore if the whole text is in CAPS\n",
        "    if text.isupper():\n",
        "        return 0\n",
        "\n",
        "    words = text.split()\n",
        "    count = 0\n",
        "    prev_caps = False\n",
        "\n",
        "    for word in words:\n",
        "        # clean punctuation around the word\n",
        "        clean_word = re.sub(r'[^A-Z]', '', word)\n",
        "\n",
        "        # check if it's a potential abbreviation (short, ≤4 letters, all caps)\n",
        "        is_abbreviation = clean_word.isupper() and len(clean_word) <= 4\n",
        "\n",
        "        # count if word is CAPSed and not an abbreviation\n",
        "        if word.isupper() and not is_abbreviation:\n",
        "            if not prev_caps:\n",
        "                count += 1\n",
        "                prev_caps = True\n",
        "        else:\n",
        "            prev_caps = False\n",
        "\n",
        "    return count\n"
      ],
      "metadata": {
        "id": "vKoCztaVpm04"
      },
      "execution_count": null,
      "outputs": []
    },
    {
      "cell_type": "code",
      "source": [
        "for col in [\"Personal characteristics POSITIVE\", \"Personal characteristics NEGATIVE\", \"Universal healthcare POSITIVE\", \"Universal healthcare NEGATIVE\"]:\n",
        "    df_good_text[f'{col}_caps'] = df_good_text[col].apply(count_capslock)"
      ],
      "metadata": {
        "id": "DxtTJGf6qEaB"
      },
      "execution_count": null,
      "outputs": []
    },
    {
      "cell_type": "markdown",
      "source": [
        "*POS tagging*"
      ],
      "metadata": {
        "id": "Jxltbf3TjyE8"
      }
    },
    {
      "cell_type": "code",
      "source": [
        "import nltk\n",
        "from nltk.tokenize import word_tokenize, sent_tokenize\n",
        "from nltk import sent_tokenize, word_tokenize, pos_tag\n",
        "\n",
        "nltk.download('punkt')\n",
        "nltk.download('punkt_tab')\n",
        "nltk.download('averaged_perceptron_tagger_eng')"
      ],
      "metadata": {
        "id": "sKPHmGVXfr9c"
      },
      "execution_count": null,
      "outputs": []
    },
    {
      "cell_type": "code",
      "source": [
        "def get_pos_tags(text):\n",
        "    if pd.isna(text):\n",
        "        return None\n",
        "    tagged_sentences = []\n",
        "    for sent in sent_tokenize(text):\n",
        "        tokens = word_tokenize(sent)\n",
        "        tags = pos_tag(tokens)\n",
        "        tagged_sentences.append(tags)\n",
        "    return tagged_sentences"
      ],
      "metadata": {
        "id": "Mrdf9rKrfuVe"
      },
      "execution_count": null,
      "outputs": []
    },
    {
      "cell_type": "code",
      "source": [
        "df_good_text[\"POS_tags_pos_char\"] = df_good_text[\"Personal characteristics POSITIVE\"].apply(get_pos_tags)"
      ],
      "metadata": {
        "id": "_NgQxm2PiPx9"
      },
      "execution_count": null,
      "outputs": []
    },
    {
      "cell_type": "code",
      "source": [
        "df_good_text[\"POS_tags_neg_char\"] = df_good_text[\"Personal characteristics NEGATIVE\"].apply(get_pos_tags)"
      ],
      "metadata": {
        "id": "KrUodtIkjIoN"
      },
      "execution_count": null,
      "outputs": []
    },
    {
      "cell_type": "code",
      "source": [
        "df_good_text[\"POS_tags_health_pos\"] = df_good_text[\"Universal healthcare POSITIVE\"].apply(get_pos_tags)"
      ],
      "metadata": {
        "id": "PY-rDB-ljQnY"
      },
      "execution_count": null,
      "outputs": []
    },
    {
      "cell_type": "code",
      "source": [
        "df_good_text[\"POS_tags_health_neg\"] = df_good_text[\"Universal healthcare NEGATIVE\"].apply(get_pos_tags)"
      ],
      "metadata": {
        "id": "gwL1HOXMjfwy"
      },
      "execution_count": null,
      "outputs": []
    },
    {
      "cell_type": "markdown",
      "source": [
        "*SAME ADJ and SAME ADJ*"
      ],
      "metadata": {
        "id": "-N6c1XkGj6cI"
      }
    },
    {
      "cell_type": "code",
      "source": [
        "#search for (\"anyword\", 'ADJ') followed by (\"anyword\", 'ADJ')"
      ],
      "metadata": {
        "id": "Spys67RWkpyX"
      },
      "execution_count": null,
      "outputs": []
    },
    {
      "cell_type": "code",
      "source": [
        "def count_repeated_adj(tags):\n",
        "    if tags is None:\n",
        "        return 0\n",
        "\n",
        "    count = 0\n",
        "    for sent in tags:\n",
        "        for i in range(len(sent) - 2):\n",
        "            w1, p1 = sent[i]\n",
        "            w2, p2 = sent[i+1]\n",
        "            w3, p3 = sent[i+2]\n",
        "\n",
        "            if p1.startswith(\"JJ\") and p3.startswith(\"JJ\") and w1.lower() == w3.lower() and w2.lower() == \"and\":\n",
        "                count += 1\n",
        "    return count"
      ],
      "metadata": {
        "id": "kalbadPIpoFm"
      },
      "execution_count": null,
      "outputs": []
    },
    {
      "cell_type": "code",
      "source": [
        "df_good_text[\"pos_char_repeated_adj\"] = df_good_text[\"POS_tags_pos_char\"].apply(count_repeated_adj)"
      ],
      "metadata": {
        "id": "ueaz81qvvVFh"
      },
      "execution_count": null,
      "outputs": []
    },
    {
      "cell_type": "code",
      "source": [
        "df_good_text[\"neg_char_repeated_adj\"] = df_good_text[\"POS_tags_neg_char\"].apply(count_repeated_adj)\n",
        "df_good_text[\"health_pos_repeated_adj\"] = df_good_text[\"POS_tags_health_pos\"].apply(count_repeated_adj)\n",
        "df_good_text[\"health_neg_repeated_adj\"] = df_good_text[\"POS_tags_health_neg\"].apply(count_repeated_adj)"
      ],
      "metadata": {
        "id": "EYCq2k5LvjpP"
      },
      "execution_count": null,
      "outputs": []
    },
    {
      "cell_type": "markdown",
      "source": [
        "*at ADJ times*"
      ],
      "metadata": {
        "id": "zeHHp_KNkCPX"
      }
    },
    {
      "cell_type": "code",
      "source": [
        "#search for (\"at\", 'IN'), (\"anyword\", 'ADJ'), (\"times\", 'NOUN')"
      ],
      "metadata": {
        "id": "xKQt11IBkxm3"
      },
      "execution_count": null,
      "outputs": []
    },
    {
      "cell_type": "code",
      "source": [
        "def count_at_adj_times(tags):\n",
        "    if tags is None:\n",
        "        return 0\n",
        "\n",
        "    count = 0\n",
        "    for sent in tags:\n",
        "        for i in range(len(sent) - 2):\n",
        "            w1, p1 = sent[i]\n",
        "            w2, p2 = sent[i+1]\n",
        "            w3, p3 = sent[i+2]\n",
        "\n",
        "            if w1.lower() == \"at\" and p1 == (\"IN\") and p2 == (\"JJ\") and w3.lower() == \"times\" and p3 == \"NOUN\":\n",
        "                count += 1\n",
        "    return count"
      ],
      "metadata": {
        "id": "omGuzZgTvvSh"
      },
      "execution_count": null,
      "outputs": []
    },
    {
      "cell_type": "code",
      "source": [
        "df_good_text[\"pos_char_at_adj_times\"] = df_good_text[\"POS_tags_pos_char\"].apply(count_at_adj_times)"
      ],
      "metadata": {
        "id": "2Dwa25U-xF1C"
      },
      "execution_count": null,
      "outputs": []
    },
    {
      "cell_type": "code",
      "source": [
        "df_good_text[\"neg_char_at_adj_times\"] = df_good_text[\"POS_tags_neg_char\"].apply(count_at_adj_times)\n",
        "df_good_text[\"health_pos_at_adj_times\"] = df_good_text[\"POS_tags_health_pos\"].apply(count_at_adj_times)\n",
        "df_good_text[\"health_neg_at_adj_times\"] = df_good_text[\"POS_tags_health_neg\"].apply(count_at_adj_times)"
      ],
      "metadata": {
        "id": "TSTmL6YgxUuL"
      },
      "execution_count": null,
      "outputs": []
    },
    {
      "cell_type": "code",
      "source": [
        "df_good_text.to_csv(\"df_good_text.csv\")"
      ],
      "metadata": {
        "id": "Gh33tYK35lSu"
      },
      "execution_count": null,
      "outputs": []
    },
    {
      "cell_type": "code",
      "source": [
        "#rename\n",
        "df_good_text = df_good_text.rename(columns={\"Personal characteristics POSITIVE_superlatives\" : \"superlatives_pos_char\",\n",
        "                            \"Personal characteristics NEGATIVE_superlatives\" : \"superlatives_neg_char\",\n",
        "                             \"Universal healthcare POSITIVE_superlatives\" : \"superlatives_healthcare_pos\",\n",
        "                             \"Universal healthcare NEGATIVE_superlatives\": \"superlatives_healthcare_neg\",\n",
        "                                            \"Personal characteristics POSITIVE_caps\" : \"caps_pos_char\",\n",
        "                                            \"Personal characteristics NEGATIVE_caps\" : \"caps_neg_char\",\n",
        "                                           \"Universal healthcare POSITIVE_caps\" : \"caps_health_pos\",\n",
        "                                             \"Universal healthcare NEGATIVE_caps\" : \"caps_health_neg\"})\n"
      ],
      "metadata": {
        "collapsed": true,
        "id": "CpDd36w84wWv"
      },
      "execution_count": null,
      "outputs": []
    },
    {
      "cell_type": "code",
      "source": [
        "#add those features to the dict (sum them in the total count)\n",
        "\n",
        "# add exlamation_count, superlatives, CAPSed words, SAME and SAME ADJ to intensifiers and amplified\n",
        "# add three_doct_count to detensifiers and attenuated\n",
        "# add at ADJ times to specification and attenuated"
      ],
      "metadata": {
        "id": "MJsmQJ2IMz2d"
      },
      "execution_count": null,
      "outputs": []
    },
    {
      "cell_type": "code",
      "source": [
        "new_pos_char = df_good_text[[\"exclamation_count_pos_char\", \"three_dots_count_pos_char\", \"superlatives_pos_char\", \"caps_pos_char\", \"pos_char_at_adj_times\", \"pos_char_repeated_adj\"]]\n",
        "new_neg_char = df_good_text[[\"exclamation_count_neg_char\", \"three_dots_count_neg_char\", \"superlatives_neg_char\", \"caps_neg_char\", \"neg_char_at_adj_times\", \"neg_char_repeated_adj\"]]\n",
        "new_healthcare_pos = df_good_text[[\"exclamation_count_healthcare_pos\", \"three_dots_count_healthcare_pos\", \"superlatives_healthcare_pos\", \"caps_health_pos\", \"health_pos_at_adj_times\", \"health_pos_repeated_adj\"]]\n",
        "new_healthcare_neg = df_good_text[[\"exclamation_count_healthcare_neg\", \"three_dots_count_healthcare_neg\", \"superlatives_healthcare_neg\", \"caps_health_neg\", \"health_neg_at_adj_times\", \"health_neg_repeated_adj\"]]"
      ],
      "metadata": {
        "collapsed": true,
        "id": "9luTDsFT9rvF"
      },
      "execution_count": null,
      "outputs": []
    },
    {
      "cell_type": "code",
      "source": [
        "pos_char_all_features = pd.concat([new_pos_char, pos_char_dict_counts], axis=1, join=\"inner\")"
      ],
      "metadata": {
        "id": "4owxjtRL_DEB"
      },
      "execution_count": null,
      "outputs": []
    },
    {
      "cell_type": "code",
      "source": [
        "# add exclamation_count_pos_char and superlatives_pos_char to intensifier and amplified\n",
        "pos_char_all_features[\"intensifier\"] = pos_char_all_features[\"intensifier\"] + pos_char_all_features[\"exclamation_count_pos_char\"] + pos_char_all_features[\"superlatives_pos_char\"] + pos_char_all_features[\"caps_pos_char\"] + pos_char_all_features[\"pos_char_repeated_adj\"]\n",
        "pos_char_all_features[\"amplified\"] = pos_char_all_features[\"amplified\"] + pos_char_all_features[\"exclamation_count_pos_char\"] + pos_char_all_features[\"superlatives_pos_char\"] + pos_char_all_features[\"caps_pos_char\"] + pos_char_all_features[\"pos_char_repeated_adj\"]\n",
        "\n",
        "# add three_dots_count_pos_char and ish_pos_char to detensifier and attenuated\n",
        "pos_char_all_features[\"detensifier\"] = pos_char_all_features[\"detensifier\"] + pos_char_all_features[\"three_dots_count_pos_char\"]\n",
        "pos_char_all_features[\"attenuated\"] = pos_char_all_features[\"attenuated\"] + pos_char_all_features[\"three_dots_count_pos_char\"]\n",
        "\n",
        "# add at adj times to specification and attenuated\n",
        "pos_char_all_features[\"specification\"] = pos_char_all_features[\"specification\"] + pos_char_all_features[\"pos_char_at_adj_times\"]\n",
        "pos_char_all_features[\"attenuated\"] = pos_char_all_features[\"attenuated\"] + pos_char_all_features[\"pos_char_at_adj_times\"]"
      ],
      "metadata": {
        "id": "7ZnKtqIMAHGF"
      },
      "execution_count": null,
      "outputs": []
    },
    {
      "cell_type": "code",
      "source": [
        "pos_char_all_features = pos_char_all_features.drop(columns=[\"exclamation_count_pos_char\", \"three_dots_count_pos_char\", \"superlatives_pos_char\", \"caps_pos_char\", \"pos_char_repeated_adj\", \"pos_char_at_adj_times\"])"
      ],
      "metadata": {
        "id": "gagfl36KAUPK"
      },
      "execution_count": null,
      "outputs": []
    },
    {
      "cell_type": "markdown",
      "source": [
        "neg char dictionary"
      ],
      "metadata": {
        "id": "9imGNSA3BQDH"
      }
    },
    {
      "cell_type": "code",
      "source": [
        "neg_char_dict_counts = aggregate_ngrams_by_subgroup_and_group(neg_char_signals, dictmeta)\n",
        "neg_char_dict_counts = neg_char_dict_counts.join(essays[\"WC_neg_char\"])"
      ],
      "metadata": {
        "id": "OjKZ_hhpA_D7"
      },
      "execution_count": null,
      "outputs": []
    },
    {
      "cell_type": "code",
      "source": [
        "neg_char_all_features = pd.concat([new_neg_char, neg_char_dict_counts], axis=1, join=\"inner\")"
      ],
      "metadata": {
        "collapsed": true,
        "id": "VjcmgQTmBB5a"
      },
      "execution_count": null,
      "outputs": []
    },
    {
      "cell_type": "code",
      "source": [
        "neg_char_all_features[\"intensifier\"] = neg_char_all_features[\"intensifier\"] + neg_char_all_features[\"exclamation_count_neg_char\"] + neg_char_all_features[\"superlatives_neg_char\"] + neg_char_all_features[\"caps_neg_char\"] + neg_char_all_features[\"neg_char_repeated_adj\"]\n",
        "neg_char_all_features[\"amplified\"] = neg_char_all_features[\"amplified\"] + neg_char_all_features[\"exclamation_count_neg_char\"] + neg_char_all_features[\"superlatives_neg_char\"]  + neg_char_all_features[\"caps_neg_char\"] + neg_char_all_features[\"neg_char_repeated_adj\"]\n",
        "\n",
        "neg_char_all_features[\"detensifier\"] = neg_char_all_features[\"detensifier\"] + neg_char_all_features[\"three_dots_count_neg_char\"]\n",
        "neg_char_all_features[\"attenuated\"] = neg_char_all_features[\"attenuated\"] + neg_char_all_features[\"three_dots_count_neg_char\"]\n",
        "\n",
        "neg_char_all_features[\"specification\"] = neg_char_all_features[\"specification\"] + neg_char_all_features[\"neg_char_at_adj_times\"]\n",
        "neg_char_all_features[\"attenuated\"] = neg_char_all_features[\"attenuated\"] + neg_char_all_features[\"neg_char_at_adj_times\"]"
      ],
      "metadata": {
        "id": "tLrT-d-1BB5b"
      },
      "execution_count": null,
      "outputs": []
    },
    {
      "cell_type": "code",
      "source": [
        "neg_char_all_features = neg_char_all_features.drop(columns=[\"exclamation_count_neg_char\", \"three_dots_count_neg_char\", \"superlatives_neg_char\", \"caps_neg_char\", \"neg_char_repeated_adj\", \"neg_char_at_adj_times\"])"
      ],
      "metadata": {
        "id": "H-fIuDdlBB5c"
      },
      "execution_count": null,
      "outputs": []
    },
    {
      "cell_type": "markdown",
      "source": [
        "universal healthcare positive"
      ],
      "metadata": {
        "id": "5p2GKg8pBtEB"
      }
    },
    {
      "cell_type": "code",
      "source": [
        "pos_healthcare_dict_counts = aggregate_ngrams_by_subgroup_and_group(pos_healthcare_signals, dictmeta)\n",
        "pos_healthcare_dict_counts = pos_healthcare_dict_counts.join(essays[\"WC_health_pos\"])"
      ],
      "metadata": {
        "id": "o48hr2enBu3a"
      },
      "execution_count": null,
      "outputs": []
    },
    {
      "cell_type": "code",
      "source": [
        "health_pos_all_features = pd.concat([new_healthcare_pos, pos_healthcare_dict_counts], axis=1, join=\"inner\")"
      ],
      "metadata": {
        "collapsed": true,
        "id": "Bjx2ERw6B237"
      },
      "execution_count": null,
      "outputs": []
    },
    {
      "cell_type": "code",
      "source": [
        "health_pos_all_features[\"intensifier\"] = health_pos_all_features[\"intensifier\"] + health_pos_all_features[\"exclamation_count_healthcare_pos\"] + health_pos_all_features[\"superlatives_healthcare_pos\"] + health_pos_all_features[\"caps_health_pos\"] + health_pos_all_features[\"health_pos_repeated_adj\"]\n",
        "health_pos_all_features[\"amplified\"] = health_pos_all_features[\"amplified\"] + health_pos_all_features[\"exclamation_count_healthcare_pos\"] + health_pos_all_features[\"superlatives_healthcare_pos\"] + health_pos_all_features[\"caps_health_pos\"] + health_pos_all_features[\"health_pos_repeated_adj\"]\n",
        "\n",
        "health_pos_all_features[\"detensifier\"] = health_pos_all_features[\"detensifier\"] + health_pos_all_features[\"three_dots_count_healthcare_pos\"]\n",
        "health_pos_all_features[\"attenuated\"] = health_pos_all_features[\"attenuated\"] + health_pos_all_features[\"three_dots_count_healthcare_pos\"]\n",
        "\n",
        "health_pos_all_features[\"specification\"] = health_pos_all_features[\"specification\"] + health_pos_all_features[\"health_pos_at_adj_times\"]\n",
        "health_pos_all_features[\"attenuated\"] = health_pos_all_features[\"attenuated\"] + health_pos_all_features[\"health_pos_at_adj_times\"]"
      ],
      "metadata": {
        "id": "I89mnAZ6B238"
      },
      "execution_count": null,
      "outputs": []
    },
    {
      "cell_type": "code",
      "source": [
        "health_pos_all_features = health_pos_all_features.drop(columns=[\"exclamation_count_healthcare_pos\", \"three_dots_count_healthcare_pos\", \"superlatives_healthcare_pos\", \"caps_health_pos\", \"health_pos_repeated_adj\", \"health_pos_at_adj_times\"])"
      ],
      "metadata": {
        "id": "xwD6m_sUB239"
      },
      "execution_count": null,
      "outputs": []
    },
    {
      "cell_type": "markdown",
      "source": [
        "universal healthcare negative"
      ],
      "metadata": {
        "id": "YQpqJJxaCw71"
      }
    },
    {
      "cell_type": "code",
      "source": [
        "neg_healthcare_dict_counts = aggregate_ngrams_by_subgroup_and_group(neg_healthcare_signals, dictmeta)\n",
        "neg_healthcare_dict_counts = neg_healthcare_dict_counts.join(essays[\"WC_health_neg\"])"
      ],
      "metadata": {
        "id": "WxQuYmCiCzqw"
      },
      "execution_count": null,
      "outputs": []
    },
    {
      "cell_type": "code",
      "source": [
        "health_neg_all_features = pd.concat([new_healthcare_neg, neg_healthcare_dict_counts], axis=1, join=\"inner\")"
      ],
      "metadata": {
        "collapsed": true,
        "id": "d315ZrsxC7qT"
      },
      "execution_count": null,
      "outputs": []
    },
    {
      "cell_type": "code",
      "source": [
        "health_neg_all_features[\"intensifier\"] = health_neg_all_features[\"intensifier\"] + health_neg_all_features[\"exclamation_count_healthcare_neg\"] + health_neg_all_features[\"superlatives_healthcare_neg\"] + health_neg_all_features[\"caps_health_neg\"] + health_neg_all_features[\"health_neg_repeated_adj\"]\n",
        "health_neg_all_features['amplified'] = health_neg_all_features[\"amplified\"] + health_neg_all_features[\"exclamation_count_healthcare_neg\"] + health_neg_all_features[\"superlatives_healthcare_neg\"] + health_neg_all_features[\"caps_health_neg\"] + health_neg_all_features[\"health_neg_repeated_adj\"]\n",
        "\n",
        "health_neg_all_features[\"detensifier\"] = health_neg_all_features[\"detensifier\"] + health_neg_all_features[\"three_dots_count_healthcare_neg\"]\n",
        "health_neg_all_features[\"attenuated\"] = health_neg_all_features[\"attenuated\"] + health_neg_all_features[\"three_dots_count_healthcare_neg\"]\n",
        "\n",
        "health_neg_all_features[\"specification\"] = health_neg_all_features[\"specification\"] + health_neg_all_features[\"health_neg_at_adj_times\"]\n",
        "health_neg_all_features[\"attenuated\"] = health_neg_all_features[\"attenuated\"] + health_neg_all_features[\"health_neg_at_adj_times\"]"
      ],
      "metadata": {
        "id": "g4R7xnWoC7qU"
      },
      "execution_count": null,
      "outputs": []
    },
    {
      "cell_type": "code",
      "source": [
        "health_neg_all_features = health_neg_all_features.drop(columns=[\"exclamation_count_healthcare_neg\", \"three_dots_count_healthcare_neg\", \"superlatives_healthcare_neg\", \"caps_health_neg\", \"health_neg_repeated_adj\", \"health_neg_at_adj_times\"])"
      ],
      "metadata": {
        "id": "G9T9TMgRC7qV"
      },
      "execution_count": null,
      "outputs": []
    },
    {
      "cell_type": "markdown",
      "source": [
        "Normalized dictionary features"
      ],
      "metadata": {
        "id": "y8NLBHWHMifJ"
      }
    },
    {
      "cell_type": "code",
      "source": [
        "pos_char_dict = normalize_by_column(pos_char_all_features, denominator_col=\"WC_pos_char\")"
      ],
      "metadata": {
        "id": "fHP7CCzVOR59"
      },
      "execution_count": null,
      "outputs": []
    },
    {
      "cell_type": "code",
      "source": [
        "neg_char_dict = normalize_by_column(neg_char_all_features, denominator_col=\"WC_neg_char\")"
      ],
      "metadata": {
        "id": "fchf-5h4N2lo"
      },
      "execution_count": null,
      "outputs": []
    },
    {
      "cell_type": "code",
      "source": [
        "pos_healthcare_dict = normalize_by_column(health_pos_all_features, denominator_col=\"WC_health_pos\")"
      ],
      "metadata": {
        "id": "cXQkUNB_N35i"
      },
      "execution_count": null,
      "outputs": []
    },
    {
      "cell_type": "code",
      "source": [
        "neg_healthcare_dict = normalize_by_column(health_neg_all_features, denominator_col=\"WC_health_neg\")"
      ],
      "metadata": {
        "collapsed": true,
        "id": "-6WmFAKVN3v7"
      },
      "execution_count": null,
      "outputs": []
    },
    {
      "cell_type": "markdown",
      "source": [
        "Rename signals"
      ],
      "metadata": {
        "id": "jgZjGHbr5o6n"
      }
    },
    {
      "cell_type": "code",
      "source": [
        "pos_char_signals = pos_char_signals.drop(columns = [\"ID\"])"
      ],
      "metadata": {
        "id": "vd6roAAWY79q"
      },
      "execution_count": null,
      "outputs": []
    },
    {
      "cell_type": "code",
      "source": [
        "pos_char_signals = pos_char_signals.add_suffix(\"_pos_char\")\n",
        "neg_char_signals = neg_char_signals.add_suffix(\"_neg_char\")"
      ],
      "metadata": {
        "id": "TXDLtCll4nKW"
      },
      "execution_count": null,
      "outputs": []
    },
    {
      "cell_type": "code",
      "source": [
        "pos_healthcare_signals = pos_healthcare_signals.add_suffix(\"_pos_healthcare\")\n",
        "neg_healthcare_signals = neg_healthcare_signals.add_suffix(\"_neg_healthcare\")"
      ],
      "metadata": {
        "id": "epcM0DRa5loh"
      },
      "execution_count": null,
      "outputs": []
    },
    {
      "cell_type": "code",
      "source": [
        "df_signals = pd.concat([pos_char_signals, neg_char_signals, pos_healthcare_signals, neg_healthcare_signals], axis=1, join=\"inner\")"
      ],
      "metadata": {
        "id": "x4uljdsY5n00"
      },
      "execution_count": null,
      "outputs": []
    },
    {
      "cell_type": "markdown",
      "source": [
        "rename dictionary"
      ],
      "metadata": {
        "id": "7yD64CfKiG1C"
      }
    },
    {
      "cell_type": "code",
      "source": [
        "pos_char_dict = pos_char_dict.add_suffix(\"_dict_pos_char\")\n",
        "neg_char_dict = neg_char_dict.add_suffix(\"_dict_neg_char\")\n",
        "pos_healthcare_dict = pos_healthcare_dict.add_suffix(\"_dict_pos_healthcare\")\n",
        "neg_healthcare_dict = neg_healthcare_dict.add_suffix(\"_dict_neg_healthcare\")"
      ],
      "metadata": {
        "collapsed": true,
        "id": "Fa5NBX_DiGLn"
      },
      "execution_count": null,
      "outputs": []
    },
    {
      "cell_type": "code",
      "source": [
        "df_dict = pd.concat([pos_char_dict, neg_char_dict, pos_healthcare_dict, neg_healthcare_dict], axis=1, join=\"inner\")"
      ],
      "metadata": {
        "id": "SrLyNUjYVWsO"
      },
      "execution_count": null,
      "outputs": []
    },
    {
      "cell_type": "code",
      "source": [
        "df_dict.head()"
      ],
      "metadata": {
        "collapsed": true,
        "id": "Bqgp0gteVWsO"
      },
      "execution_count": null,
      "outputs": []
    },
    {
      "cell_type": "markdown",
      "source": [
        "Merge all text features"
      ],
      "metadata": {
        "id": "wDW0Fu_4N2Ge"
      }
    },
    {
      "cell_type": "code",
      "source": [
        "df_lang_features = pd.concat([df_dict, df_signals], axis=1)"
      ],
      "metadata": {
        "id": "_UG3OWQA0GRA"
      },
      "execution_count": null,
      "outputs": []
    },
    {
      "cell_type": "markdown",
      "source": [
        "Merge with the survey dataframe and leave only data of quality"
      ],
      "metadata": {
        "id": "RNTiATM1QYDq"
      }
    },
    {
      "cell_type": "code",
      "source": [
        "survey = pd.read_excel(\"CROSSDA_data_Iva.xlsx\", index_col= \"ID\", engine=\"openpyxl\")"
      ],
      "metadata": {
        "id": "MGn0DFsmR2Kt"
      },
      "execution_count": null,
      "outputs": []
    },
    {
      "cell_type": "code",
      "source": [
        "df_all = pd.concat([survey, df_lang_features], axis=1)"
      ],
      "metadata": {
        "id": "gAvLQ3_F4Eiv"
      },
      "execution_count": null,
      "outputs": []
    },
    {
      "cell_type": "code",
      "source": [
        "df_good = df_all[\n",
        "    df_all[\"IPIP120_120.r\"].notna() &\n",
        "    df_all[\"attention_check\"].isin([\"PASS\", \"MIXED\"]) &\n",
        "    (df_all[\"num_answers\"] == 4) &\n",
        "    ~df_all[\"ivas_verdict_REFRESHIT\"].isin([\"gpt\", \"gpt pitaj\", \"gpt/ full\", \"maybe\", \"yes\"])\n",
        "]"
      ],
      "metadata": {
        "collapsed": true,
        "id": "NbngE0AgSiH2"
      },
      "execution_count": null,
      "outputs": []
    },
    {
      "cell_type": "code",
      "source": [
        "df_good[[\"attenuated_dict_pos_char\", \"attenuated_dict_neg_char\", \"amplified_dict_pos_char\", \"amplified_dict_neg_char\"]].describe()"
      ],
      "metadata": {
        "id": "UBPUH46NNr6z"
      },
      "execution_count": null,
      "outputs": []
    },
    {
      "cell_type": "code",
      "source": [
        "df_good[[\"neg_in_pos_num\", \"pos_in_neg_num\"]] = df_good[[\"neg_in_pos_num\", \"pos_in_neg_num\"]].fillna(0)\n"
      ],
      "metadata": {
        "id": "HZAv5abFUEsl"
      },
      "execution_count": null,
      "outputs": []
    },
    {
      "cell_type": "markdown",
      "source": [
        "Controling for general use: Target - avg of controls"
      ],
      "metadata": {
        "id": "iYwQo9yPekrc"
      }
    },
    {
      "cell_type": "code",
      "source": [
        "df_good[[\"attenuated_dict_pos_healthcare\", \"attenuated_dict_neg_healthcare\", \"amplified_dict_pos_healthcare\", \"amplified_dict_neg_healthcare\"]].describe()"
      ],
      "metadata": {
        "collapsed": true,
        "id": "zlNthFeyezYG"
      },
      "execution_count": null,
      "outputs": []
    },
    {
      "cell_type": "code",
      "source": [
        "df_good[\"attenuated_dict_healthcare_avg\"] = (df_good[\"attenuated_dict_pos_healthcare\"] + df_good[\"attenuated_dict_neg_healthcare\"]) / 2"
      ],
      "metadata": {
        "id": "7pcAXxf2fg7U"
      },
      "execution_count": null,
      "outputs": []
    },
    {
      "cell_type": "code",
      "source": [
        "df_good[\"amplified_dict_healthcare_avg\"] = (df_good[\"amplified_dict_pos_healthcare\"] + df_good[\"amplified_dict_neg_healthcare\"]) / 2"
      ],
      "metadata": {
        "id": "TSoRqcYegHxe"
      },
      "execution_count": null,
      "outputs": []
    },
    {
      "cell_type": "code",
      "source": [
        "df_good[\"generalization_dict_healthcare_avg\"] = (df_good[\"generalization_dict_pos_healthcare\"] + df_good[\"generalization_dict_neg_healthcare\"]) / 2\n",
        "df_good[\"certainty_dict_healthcare_avg\"] = (df_good[\"certainty_dict_pos_healthcare\"] + df_good[\"certainty_dict_neg_healthcare\"]) / 2\n",
        "df_good[\"intensifier_dict_healthcare_avg\"] = (df_good[\"intensifier_dict_pos_healthcare\"] + df_good[\"intensifier_dict_neg_healthcare\"]) / 2\n",
        "df_good[\"specification_dict_healthcare_avg\"] = (df_good[\"specification_dict_pos_healthcare\"] + df_good[\"specification_dict_neg_healthcare\"]) / 2\n",
        "df_good[\"detensifier_dict_healthcare_avg\"] = (df_good[\"detensifier_dict_pos_healthcare\"] + df_good[\"detensifier_dict_neg_healthcare\"]) / 2\n",
        "df_good[\"uncertainty_dict_healthcare_avg\"] = (df_good[\"uncertainty_dict_pos_healthcare\"] + df_good[\"uncertainty_dict_neg_healthcare\"]) / 2"
      ],
      "metadata": {
        "id": "LH31ZE6XslI_"
      },
      "execution_count": null,
      "outputs": []
    },
    {
      "cell_type": "code",
      "source": [
        "df_good[\"amplified_dict_pos_char_control\"] = df_good[\"amplified_dict_pos_char\"] - df_good[\"amplified_dict_healthcare_avg\"]\n",
        "df_good[\"amplified_dict_neg_char_control\"] = df_good[\"amplified_dict_neg_char\"] - df_good[\"amplified_dict_healthcare_avg\"]\n",
        "df_good[\"attenuated_dict_pos_char_control\"] = df_good[\"attenuated_dict_pos_char\"] - df_good[\"attenuated_dict_healthcare_avg\"]\n",
        "df_good[\"attenuated_dict_neg_char_control\"] = df_good[\"attenuated_dict_neg_char\"] - df_good[\"attenuated_dict_healthcare_avg\"]"
      ],
      "metadata": {
        "id": "nhN_nMKsPz26"
      },
      "execution_count": null,
      "outputs": []
    },
    {
      "cell_type": "code",
      "source": [
        "df_good[\"generalization_dict_pos_char_control\"] = df_good[\"generalization_dict_pos_char\"] - df_good[\"generalization_dict_healthcare_avg\"]\n",
        "df_good[\"intensifier_dict_pos_char_control\"] = df_good[\"intensifier_dict_pos_char\"] - df_good[\"intensifier_dict_healthcare_avg\"]\n",
        "df_good[\"certainty_dict_pos_char_control\"] = df_good[\"certainty_dict_pos_char\"] - df_good[\"certainty_dict_healthcare_avg\"]\n",
        "\n",
        "df_good[\"generalization_dict_neg_char_control\"] = df_good[\"generalization_dict_neg_char\"] - df_good[\"generalization_dict_healthcare_avg\"]\n",
        "df_good[\"intensifier_dict_neg_char_control\"] = df_good[\"intensifier_dict_neg_char\"] - df_good[\"intensifier_dict_healthcare_avg\"]\n",
        "df_good[\"certainty_dict_neg_char_control\"] = df_good[\"certainty_dict_neg_char\"] - df_good[\"certainty_dict_healthcare_avg\"]\n",
        "\n",
        "df_good[\"specification_dict_pos_char_control\"] = df_good[\"specification_dict_pos_char\"] - df_good[\"specification_dict_healthcare_avg\"]\n",
        "df_good[\"detensifier_dict_pos_char_control\"] = df_good[\"detensifier_dict_pos_char\"] - df_good[\"detensifier_dict_healthcare_avg\"]\n",
        "df_good[\"uncertainty_dict_pos_char_control\"] = df_good[\"uncertainty_dict_pos_char\"] - df_good[\"uncertainty_dict_healthcare_avg\"]\n",
        "\n",
        "df_good[\"specification_dict_neg_char_control\"] = df_good[\"specification_dict_neg_char\"] - df_good[\"specification_dict_healthcare_avg\"]\n",
        "df_good[\"detensifier_dict_neg_char_control\"] = df_good[\"detensifier_dict_neg_char\"] - df_good[\"detensifier_dict_healthcare_avg\"]\n",
        "df_good[\"uncertainty_dict_neg_char_control\"] = df_good[\"uncertainty_dict_neg_char\"] - df_good[\"uncertainty_dict_healthcare_avg\"]"
      ],
      "metadata": {
        "id": "t4KommMGsZxw"
      },
      "execution_count": null,
      "outputs": []
    },
    {
      "cell_type": "code",
      "source": [
        "df_good.to_csv(\"df_good.csv\")"
      ],
      "metadata": {
        "id": "lBX7Fth_85FL"
      },
      "execution_count": null,
      "outputs": []
    },
    {
      "cell_type": "markdown",
      "source": [
        "Descriptive analyses and plotting"
      ],
      "metadata": {
        "id": "NnfHT4WgezYH"
      }
    },
    {
      "cell_type": "code",
      "source": [
        "#plot 4 distributions\n",
        "\n",
        "# amplified pos\n",
        "\n",
        "ampl_pos = df_good[\"amplified_dict_pos_char_control\"]\n",
        "ampl_pos.describe()"
      ],
      "metadata": {
        "id": "Khdy9zqXezYH"
      },
      "execution_count": null,
      "outputs": []
    },
    {
      "cell_type": "code",
      "source": [
        "plt.hist(ampl_pos)\n",
        "plt.ylabel(\"Frequency of participants\")\n",
        "plt.xlabel(\"ampl_pos\")\n",
        "plt.show()"
      ],
      "metadata": {
        "id": "p25N5A6RezYH"
      },
      "execution_count": null,
      "outputs": []
    },
    {
      "cell_type": "code",
      "source": [
        "# amplified neg chat\n",
        "\n",
        "ampl_neg = df_good[\"amplified_dict_neg_char_control\"]\n",
        "ampl_neg.describe()"
      ],
      "metadata": {
        "id": "l2KndMILezYH"
      },
      "execution_count": null,
      "outputs": []
    },
    {
      "cell_type": "code",
      "source": [
        "plt.hist(ampl_neg)\n",
        "plt.ylabel(\"Frequency of participants\")\n",
        "plt.xlabel(\"ampl_neg\")\n",
        "plt.show()"
      ],
      "metadata": {
        "id": "14I9rbYCezYI"
      },
      "execution_count": null,
      "outputs": []
    },
    {
      "cell_type": "code",
      "source": [
        "# attenuated pos char\n",
        "\n",
        "atten_pos = df_good[\"attenuated_dict_pos_char_control\"]\n",
        "atten_pos.describe()"
      ],
      "metadata": {
        "id": "HlgkQl86ezYI"
      },
      "execution_count": null,
      "outputs": []
    },
    {
      "cell_type": "code",
      "source": [
        "plt.hist(atten_pos)\n",
        "plt.ylabel(\"Frequency of participants\")\n",
        "plt.xlabel(\"atten_pos\")\n",
        "plt.show()"
      ],
      "metadata": {
        "id": "0a1qn0LbezYI"
      },
      "execution_count": null,
      "outputs": []
    },
    {
      "cell_type": "code",
      "source": [
        "# attenuated neg char\n",
        "\n",
        "atten_neg = df_good[\"attenuated_dict_neg_char_control\"]\n",
        "atten_neg.describe()"
      ],
      "metadata": {
        "id": "z2rAdHBXezYI"
      },
      "execution_count": null,
      "outputs": []
    },
    {
      "cell_type": "code",
      "source": [
        "plt.hist(atten_neg)\n",
        "plt.ylabel(\"Frequency of participants\")\n",
        "plt.xlabel(\"atten_neg\")\n",
        "plt.show()"
      ],
      "metadata": {
        "id": "j6smntmTezYI"
      },
      "execution_count": null,
      "outputs": []
    },
    {
      "cell_type": "code",
      "source": [
        "SE_avg = df_good[\"SE_avg\"]\n",
        "plt.hist(SE_avg)\n",
        "plt.ylabel(\"Frequency of participants\")\n",
        "plt.xlabel(\"SE_avg\")\n",
        "plt.show()"
      ],
      "metadata": {
        "collapsed": true,
        "id": "MCDIE0HfWvKO"
      },
      "execution_count": null,
      "outputs": []
    },
    {
      "cell_type": "code",
      "source": [
        "SE_avg.describe()"
      ],
      "metadata": {
        "id": "ADG6AZzBnpfY"
      },
      "execution_count": null,
      "outputs": []
    },
    {
      "cell_type": "code",
      "source": [
        "SESPM_favorable_construals_avg = df_good[\"SESPM_favorable_construals_avg\"]\n",
        "plt.hist(SESPM_favorable_construals_avg)\n",
        "plt.ylabel(\"Frequency of participants\")\n",
        "plt.xlabel(\"SESPM_favorable_construals_avg\")\n",
        "plt.show()"
      ],
      "metadata": {
        "collapsed": true,
        "id": "256uV3o5Wv-Q"
      },
      "execution_count": null,
      "outputs": []
    },
    {
      "cell_type": "code",
      "source": [
        "SESPM_favorable_construals_avg.describe()"
      ],
      "metadata": {
        "id": "X8jq6wW1n2lf"
      },
      "execution_count": null,
      "outputs": []
    },
    {
      "cell_type": "code",
      "source": [
        "SESPM_positivity_embarcement_avg = df_good[\"SESPM_positivity_embarcement_avg\"]\n",
        "SESPM_positivity_embarcement_avg.describe()"
      ],
      "metadata": {
        "id": "bC338iFXoYAB"
      },
      "execution_count": null,
      "outputs": []
    },
    {
      "cell_type": "code",
      "source": [
        "SD4_NARC_avg = df_good[\"SD4_NARC_avg\"]\n",
        "SD4_NARC_avg.describe()"
      ],
      "metadata": {
        "id": "57Tf7TwqpHry"
      },
      "execution_count": null,
      "outputs": []
    },
    {
      "cell_type": "code",
      "source": [
        "SPI_avg = df_good[\"SPI_avg\"]\n",
        "plt.hist(SPI_avg)\n",
        "plt.ylabel(\"Frequency of participants\")\n",
        "plt.xlabel(\"SPI_avg\")\n",
        "plt.show()"
      ],
      "metadata": {
        "collapsed": true,
        "id": "hM8wnHU4Wwao"
      },
      "execution_count": null,
      "outputs": []
    },
    {
      "cell_type": "code",
      "source": [
        "SPM_avg = df_good[\"SPM_avg\"]\n",
        "plt.hist(SPM_avg)\n",
        "plt.ylabel(\"Frequency of participants\")\n",
        "plt.xlabel(\"SPM_avg\")\n",
        "plt.show()"
      ],
      "metadata": {
        "collapsed": true,
        "id": "currP1b_Ww_4"
      },
      "execution_count": null,
      "outputs": []
    },
    {
      "cell_type": "code",
      "source": [
        "SPM_avg.describe()"
      ],
      "metadata": {
        "id": "KtkARV40oxL4"
      },
      "execution_count": null,
      "outputs": []
    },
    {
      "cell_type": "code",
      "source": [
        "ext  = df_good[\"extraversion_avg\"]"
      ],
      "metadata": {
        "id": "zTYIyQ-KW7LT"
      },
      "execution_count": null,
      "outputs": []
    },
    {
      "cell_type": "code",
      "source": [
        "plt.hist(ext)\n",
        "plt.ylabel(\"Frequency of participants\")\n",
        "plt.xlabel(\"ext\")\n",
        "plt.show()"
      ],
      "metadata": {
        "id": "Xf12JD-X6Fpu"
      },
      "execution_count": null,
      "outputs": []
    },
    {
      "cell_type": "code",
      "source": [
        "dep = df_good[\"DASS21_dep_sum\"]\n",
        "dep.describe()"
      ],
      "metadata": {
        "id": "zpab0WfC6F4m"
      },
      "execution_count": null,
      "outputs": []
    },
    {
      "cell_type": "code",
      "source": [
        "plt.hist(dep)\n",
        "plt.ylabel(\"Frequency of participants\")\n",
        "plt.xlabel(\"dep\")\n",
        "plt.show()"
      ],
      "metadata": {
        "id": "wy0LwOX-6F4o"
      },
      "execution_count": null,
      "outputs": []
    },
    {
      "cell_type": "code",
      "source": [
        "RSE_avg = df_good[\"Rosenberg_avg\"]\n",
        "RSE_avg.describe()"
      ],
      "metadata": {
        "id": "XJ8gqqXHpgvf"
      },
      "execution_count": null,
      "outputs": []
    },
    {
      "cell_type": "code",
      "source": [
        "dep_n = df_good[\"N3_depression_avg\"]\n",
        "dep_n.describe()"
      ],
      "metadata": {
        "id": "2QvMmsRjmriq"
      },
      "execution_count": null,
      "outputs": []
    },
    {
      "cell_type": "code",
      "source": [
        "sise = df_good[\"SISE\"]\n",
        "sise.describe()"
      ],
      "metadata": {
        "id": "gtgEgpel8aDA"
      },
      "execution_count": null,
      "outputs": []
    },
    {
      "cell_type": "code",
      "source": [
        "plt.hist(sise)\n",
        "plt.ylabel(\"Frequency of participants\")\n",
        "plt.xlabel(\"sise\")\n",
        "plt.show()"
      ],
      "metadata": {
        "id": "N2zrdHRq8aDB"
      },
      "execution_count": null,
      "outputs": []
    },
    {
      "cell_type": "code",
      "source": [
        "sar = df_good[\"SESPM_self.affirming_reflections_avg\"]\n",
        "sar.describe()"
      ],
      "metadata": {
        "id": "G8z8jBBl8bBv"
      },
      "execution_count": null,
      "outputs": []
    },
    {
      "cell_type": "code",
      "source": [
        "plt.hist(sar)\n",
        "plt.ylabel(\"Frequency of participants\")\n",
        "plt.xlabel(\"sar\")\n",
        "plt.show()"
      ],
      "metadata": {
        "id": "i7FdSbNZ8bBw"
      },
      "execution_count": null,
      "outputs": []
    },
    {
      "cell_type": "code",
      "source": [
        "from scipy.stats import skew\n",
        "\n",
        "print(skew(dep))\n",
        "print(skew(ext))\n",
        "print(skew(ampl_neg))\n",
        "print(skew(ampl_pos))\n",
        "print(skew(atten_neg))\n",
        "print(skew(atten_pos))"
      ],
      "metadata": {
        "id": "8Jo9MMKa6z2L"
      },
      "execution_count": null,
      "outputs": []
    },
    {
      "cell_type": "code",
      "source": [
        "plt.hist(ampl_neg)\n",
        "plt.ylabel(\"Frequency of participants\")\n",
        "plt.xlabel(\"ampl_neg\")\n",
        "plt.show()"
      ],
      "metadata": {
        "id": "zkT4PqytANx_"
      },
      "execution_count": null,
      "outputs": []
    },
    {
      "cell_type": "code",
      "source": [
        "RME = df_good[\"Rosenberg_avg\"]\n",
        "RME.describe()"
      ],
      "metadata": {
        "id": "maUEFNAGiUTZ"
      },
      "execution_count": null,
      "outputs": []
    },
    {
      "cell_type": "code",
      "source": [
        "plt.hist(RME)\n",
        "plt.ylabel(\"Frequency of participants\")\n",
        "plt.xlabel(\"RME\")\n",
        "plt.show()"
      ],
      "metadata": {
        "id": "oqrW5nYriUTa"
      },
      "execution_count": null,
      "outputs": []
    },
    {
      "cell_type": "code",
      "source": [
        "print(skew(RME))"
      ],
      "metadata": {
        "id": "dPWQpCdni0Eu"
      },
      "execution_count": null,
      "outputs": []
    },
    {
      "cell_type": "markdown",
      "source": [
        "# *Cronbach alpha*"
      ],
      "metadata": {
        "id": "dAyx7pvjPogW"
      }
    },
    {
      "cell_type": "code",
      "source": [
        "SE_all = df_good[[\"SE01.r\", \"SE02\", \"SE03.r\", \"SE04\", \"SE05.r\", \"SE06\", \"SE07.r\", \"SE08\", \"SE09.r\", \"SE10\", \"SE11\", \"SE12.r\"]]"
      ],
      "metadata": {
        "id": "ZKsjQMGoPvJZ"
      },
      "execution_count": null,
      "outputs": []
    },
    {
      "cell_type": "code",
      "source": [
        " ext_all = df_good[[\"IPIP120_002\", \"IPIP120_032\", \"IPIP120_062.r\", \"IPIP120_092.r\", \"IPIP120_007\", \"IPIP120_037\", \"IPIP120_067.r\", \"IPIP120_097.r\", \"IPIP120_012\", \"IPIP120_042\", \"IPIP120_072\", \"IPIP120_102.r\", \"IPIP120_017\", \"IPIP120_047\", \"IPIP120_077\", \"IPIP120_107.r\", \"IPIP120_022\", \"IPIP120_052\", \"IPIP120_082\", \"IPIP120_112\", \"IPIP120_027\", \"IPIP120_057\", \"IPIP120_087\", \"IPIP120_117\"]]"
      ],
      "metadata": {
        "id": "eZf8ejm4Sici"
      },
      "execution_count": null,
      "outputs": []
    },
    {
      "cell_type": "code",
      "source": [
        "!pip install pingouin\n",
        "import pingouin as pg"
      ],
      "metadata": {
        "id": "JjBphPaDQpM3"
      },
      "execution_count": null,
      "outputs": []
    },
    {
      "cell_type": "code",
      "source": [
        "pg.cronbach_alpha(data=SE_all)"
      ],
      "metadata": {
        "id": "-99w1d2VSgt2"
      },
      "execution_count": null,
      "outputs": []
    },
    {
      "cell_type": "code",
      "source": [
        "pg.cronbach_alpha(data=ext_all)"
      ],
      "metadata": {
        "id": "-r6zcgK0Tava"
      },
      "execution_count": null,
      "outputs": []
    },
    {
      "cell_type": "code",
      "source": [
        "SPM_all = df_good[[\"SPM1\", \"SPM2\", \"SPM3\", \"SPM4\", \"SPM5\", \"SPM6\", \"SPM7\", \"SPM8\", \"SPM9\", \"SPM10\", \"SPM11\", \"SPM12\", \"SPM13\"]]\n",
        "pg.cronbach_alpha(data=SPM_all)"
      ],
      "metadata": {
        "id": "9Z1VpS6eTqnC"
      },
      "execution_count": null,
      "outputs": []
    },
    {
      "cell_type": "code",
      "source": [
        "DEP_n_all = df_good[[\"IPIP120_011\", \"IPIP120_041\", \"IPIP120_071\", \"IPIP120_101.r\"]]\n",
        "pg.cronbach_alpha(data=DEP_n_all)"
      ],
      "metadata": {
        "id": "8ViS4aK-qjlV"
      },
      "execution_count": null,
      "outputs": []
    },
    {
      "cell_type": "code",
      "source": [
        "DEP_all = df_good[[\"DASS21_D01\", \"DASS21_D02\", \"DASS21_D03\", \"DASS21_D04\", \"DASS21_D05\", \"DASS21_D06\", \"DASS21_D07\"]]\n",
        "pg.cronbach_alpha(data=DEP_all)"
      ],
      "metadata": {
        "id": "y24we4-qUbok"
      },
      "execution_count": null,
      "outputs": []
    },
    {
      "cell_type": "code",
      "source": [
        "NARC_all = df_good[[\"SD4_NARC01\", \"SD4_NARC03\", \"SD4_NARC04\", \"SD4_NARC05\", \"SD4_NARC06\", \"SD4_NARC07\"]]\n",
        "pg.cronbach_alpha(data=NARC_all)"
      ],
      "metadata": {
        "id": "8CdjH02OUwRY"
      },
      "execution_count": null,
      "outputs": []
    },
    {
      "cell_type": "code",
      "source": [
        "PE_all = df_good[[\"SESPMOther_PE001\", \"SESPMOther_PE002\", \"SESPMOther_PE003\", \"SESPMOther_PE004\", \"SESPMOther_PE005\", \"SESPMOther_PE006\", \"SESPMOther_PE007\", \"SESPMOther_PE008\", \"SESPMOther_PE009\", \"SESPMOther_PE010\"]]\n",
        "pg.cronbach_alpha(data=PE_all)"
      ],
      "metadata": {
        "id": "4P1c5KAcVGtB"
      },
      "execution_count": null,
      "outputs": []
    },
    {
      "cell_type": "code",
      "source": [
        "FC_all = df_good[[\"SESPMOther_FC01\", \"SESPMOther_FC02\", \"SESPMOther_FC03\", \"SESPMOther_FC04\", \"SESPMOther_FC05\", \"SESPMOther_FC06\"]]\n",
        "pg.cronbach_alpha(data=FC_all)"
      ],
      "metadata": {
        "id": "dfj1f87tVmai"
      },
      "execution_count": null,
      "outputs": []
    },
    {
      "cell_type": "code",
      "source": [
        "SAR_all = df_good[[\"SESPMOther_SAR01\", \"SESPMOther_SAR02\", \"SESPMOther_SAR03\", \"SESPMOther_SAR04\", \"SESPMOther_SAR05\", \"SESPMOther_SAR06\"]]\n",
        "pg.cronbach_alpha(data=SAR_all)"
      ],
      "metadata": {
        "id": "RoPZlVm-V5cv"
      },
      "execution_count": null,
      "outputs": []
    },
    {
      "cell_type": "code",
      "source": [
        "RSE_all = df_good[[\"Rosenberg_01\", \"Rosenberg_02.r\", \"Rosenberg_03\", \"Rosenberg_04\", \"Rosenberg_05.r\", \"Rosenberg_06.r\", \"Rosenberg_07\", \"Rosenberg_08.r\", \"Rosenberg_09.r\", \"Rosenberg_10\"]]\n",
        "pg.cronbach_alpha(data=RSE_all)"
      ],
      "metadata": {
        "id": "wR6VVNwfO2mA"
      },
      "execution_count": null,
      "outputs": []
    },
    {
      "cell_type": "markdown",
      "source": [
        "# *McDonald Omega*"
      ],
      "metadata": {
        "id": "GHlaJhFUTu7s"
      }
    },
    {
      "cell_type": "code",
      "source": [
        "!pip install reliabiliPy\n",
        "from reliabilipy import reliability_analysis"
      ],
      "metadata": {
        "id": "JX5EEkIpTteE"
      },
      "execution_count": null,
      "outputs": []
    },
    {
      "cell_type": "code",
      "source": [
        "ra = reliability_analysis(raw_dataset=SE_all, is_corr_matrix=False, impute='median')\n",
        "ra.fit()\n",
        "print(ra.omega_total)"
      ],
      "metadata": {
        "id": "q5Jd3r_1T7bV"
      },
      "execution_count": null,
      "outputs": []
    },
    {
      "cell_type": "code",
      "source": [
        "ra = reliability_analysis(raw_dataset=FC_all, is_corr_matrix=False, impute='median')\n",
        "ra.fit()\n",
        "print(ra.omega_total)"
      ],
      "metadata": {
        "id": "LqMOjnEHVdvM"
      },
      "execution_count": null,
      "outputs": []
    },
    {
      "cell_type": "code",
      "source": [
        "ra = reliability_analysis(raw_dataset=SAR_all, is_corr_matrix=False, impute='median')\n",
        "ra.fit()\n",
        "print(ra.omega_total)"
      ],
      "metadata": {
        "id": "q649No1BVk4l"
      },
      "execution_count": null,
      "outputs": []
    },
    {
      "cell_type": "code",
      "source": [
        "ra = reliability_analysis(raw_dataset=PE_all, is_corr_matrix=False, impute='median')\n",
        "ra.fit()\n",
        "print(ra.omega_total)"
      ],
      "metadata": {
        "id": "WUrOG8DyVoRn"
      },
      "execution_count": null,
      "outputs": []
    },
    {
      "cell_type": "code",
      "source": [
        "ra = reliability_analysis(raw_dataset=SPM_all, is_corr_matrix=False, impute='median')\n",
        "ra.fit()\n",
        "print(ra.omega_total)"
      ],
      "metadata": {
        "id": "Y4ToScDLV36X"
      },
      "execution_count": null,
      "outputs": []
    },
    {
      "cell_type": "code",
      "source": [
        "ra = reliability_analysis(raw_dataset=NARC_all, is_corr_matrix=False, impute='median')\n",
        "ra.fit()\n",
        "print(ra.omega_total)"
      ],
      "metadata": {
        "id": "A33t0cOyV_R7"
      },
      "execution_count": null,
      "outputs": []
    },
    {
      "cell_type": "code",
      "source": [
        "ra = reliability_analysis(raw_dataset=RSE_all, is_corr_matrix=False, impute='median')\n",
        "ra.fit()\n",
        "print(ra.omega_total)"
      ],
      "metadata": {
        "id": "in-rsXmSWFeU"
      },
      "execution_count": null,
      "outputs": []
    },
    {
      "cell_type": "code",
      "source": [
        "ra = reliability_analysis(raw_dataset=DEP_all, is_corr_matrix=False, impute='median')\n",
        "ra.fit()\n",
        "print(ra.omega_total)"
      ],
      "metadata": {
        "id": "SuJBOm-qWLF2"
      },
      "execution_count": null,
      "outputs": []
    },
    {
      "cell_type": "code",
      "source": [
        "ra = reliability_analysis(raw_dataset=DEP_n_all, is_corr_matrix=False, impute='median')\n",
        "ra.fit()\n",
        "print(ra.omega_total)"
      ],
      "metadata": {
        "id": "RO8MQVxxWRCV"
      },
      "execution_count": null,
      "outputs": []
    },
    {
      "cell_type": "code",
      "source": [
        "ra = reliability_analysis(raw_dataset=ext_all, is_corr_matrix=False, impute='median')\n",
        "ra.fit()\n",
        "print(ra.omega_total)"
      ],
      "metadata": {
        "id": "amiDxgHnWWtY"
      },
      "execution_count": null,
      "outputs": []
    }
  ]
}